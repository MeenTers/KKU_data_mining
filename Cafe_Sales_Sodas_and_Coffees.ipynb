{
  "nbformat": 4,
  "nbformat_minor": 0,
  "metadata": {
    "colab": {
      "name": "Cafe Sales Sodas and Coffees.ipynb",
      "provenance": [],
      "authorship_tag": "ABX9TyPScl/VHjJJYfhyf09MnZrj",
      "include_colab_link": true
    },
    "kernelspec": {
      "name": "python3",
      "display_name": "Python 3"
    }
  },
  "cells": [
    {
      "cell_type": "markdown",
      "metadata": {
        "id": "view-in-github",
        "colab_type": "text"
      },
      "source": [
        "<a href=\"https://colab.research.google.com/github/MeenTers/KKU_data_mining/blob/master/Cafe_Sales_Sodas_and_Coffees.ipynb\" target=\"_parent\"><img src=\"https://colab.research.google.com/assets/colab-badge.svg\" alt=\"Open In Colab\"/></a>"
      ]
    },
    {
      "cell_type": "markdown",
      "metadata": {
        "id": "U4vfv0RdSSYP"
      },
      "source": [
        "# Import Function"
      ]
    },
    {
      "cell_type": "code",
      "metadata": {
        "id": "t_jiwQZ7SMeq"
      },
      "source": [
        "import pandas as pd\r\n",
        "import os\r\n",
        "from matplotlib import pyplot as plt"
      ],
      "execution_count": 1,
      "outputs": []
    },
    {
      "cell_type": "code",
      "metadata": {
        "colab": {
          "base_uri": "https://localhost:8080/"
        },
        "id": "1yFix3E6SQhe",
        "outputId": "f3120b1a-fc47-4ee2-a038-562190cacc79"
      },
      "source": [
        "from google.colab import drive\r\n",
        "drive.mount('/content/drive')"
      ],
      "execution_count": 2,
      "outputs": [
        {
          "output_type": "stream",
          "text": [
            "Mounted at /content/drive\n"
          ],
          "name": "stdout"
        }
      ]
    },
    {
      "cell_type": "code",
      "metadata": {
        "id": "N-N0KD-eSYUF"
      },
      "source": [
        "path = '/content/drive/My Drive/SIST'\r\n",
        "cafe = os.path.join(path,'cafedata.csv')"
      ],
      "execution_count": 3,
      "outputs": []
    },
    {
      "cell_type": "markdown",
      "metadata": {
        "id": "3sRFmT2aSfpe"
      },
      "source": [
        "# Create DataFrame"
      ]
    },
    {
      "cell_type": "code",
      "metadata": {
        "colab": {
          "base_uri": "https://localhost:8080/",
          "height": 246
        },
        "id": "basQGsLeSe71",
        "outputId": "72aeb06b-2ef9-4a13-86ec-13eafaef297a"
      },
      "source": [
        "cafe_df = pd.read_csv(cafe)\r\n",
        "cafe_df.head()"
      ],
      "execution_count": 4,
      "outputs": [
        {
          "output_type": "execute_result",
          "data": {
            "text/html": [
              "<div>\n",
              "<style scoped>\n",
              "    .dataframe tbody tr th:only-of-type {\n",
              "        vertical-align: middle;\n",
              "    }\n",
              "\n",
              "    .dataframe tbody tr th {\n",
              "        vertical-align: top;\n",
              "    }\n",
              "\n",
              "    .dataframe thead th {\n",
              "        text-align: right;\n",
              "    }\n",
              "</style>\n",
              "<table border=\"1\" class=\"dataframe\">\n",
              "  <thead>\n",
              "    <tr style=\"text-align: right;\">\n",
              "      <th></th>\n",
              "      <th>t</th>\n",
              "      <th>Date</th>\n",
              "      <th>Day Code</th>\n",
              "      <th>Day of Week</th>\n",
              "      <th>Bread Sand Sold</th>\n",
              "      <th>Bread Sand Waste</th>\n",
              "      <th>Wraps Sold</th>\n",
              "      <th>Wraps Waste</th>\n",
              "      <th>Muffins Sold</th>\n",
              "      <th>Muffins Waste</th>\n",
              "      <th>Cookies Sold</th>\n",
              "      <th>Cookies Waste</th>\n",
              "      <th>Fruit Cup Sold</th>\n",
              "      <th>Fruit Cup Waste</th>\n",
              "      <th>Chips</th>\n",
              "      <th>Juices</th>\n",
              "      <th>Sodas</th>\n",
              "      <th>Coffees</th>\n",
              "      <th>Total Soda and Coffee</th>\n",
              "      <th>Sales</th>\n",
              "      <th>Max Daily Temperature (F)</th>\n",
              "      <th>Total Items Wasted</th>\n",
              "      <th>Unnamed: 22</th>\n",
              "    </tr>\n",
              "  </thead>\n",
              "  <tbody>\n",
              "    <tr>\n",
              "      <th>0</th>\n",
              "      <td>1</td>\n",
              "      <td>1/19/2010</td>\n",
              "      <td>2</td>\n",
              "      <td>Tue</td>\n",
              "      <td>5</td>\n",
              "      <td>3</td>\n",
              "      <td>25</td>\n",
              "      <td>5</td>\n",
              "      <td>5</td>\n",
              "      <td>1</td>\n",
              "      <td>5</td>\n",
              "      <td>3</td>\n",
              "      <td>1</td>\n",
              "      <td>4</td>\n",
              "      <td>12</td>\n",
              "      <td>8</td>\n",
              "      <td>20</td>\n",
              "      <td>41</td>\n",
              "      <td>61</td>\n",
              "      <td>199.95</td>\n",
              "      <td>36</td>\n",
              "      <td>16</td>\n",
              "      <td>NaN</td>\n",
              "    </tr>\n",
              "    <tr>\n",
              "      <th>1</th>\n",
              "      <td>2</td>\n",
              "      <td>1/20/2010</td>\n",
              "      <td>3</td>\n",
              "      <td>Wed</td>\n",
              "      <td>6</td>\n",
              "      <td>8</td>\n",
              "      <td>7</td>\n",
              "      <td>17</td>\n",
              "      <td>3</td>\n",
              "      <td>5</td>\n",
              "      <td>1</td>\n",
              "      <td>6</td>\n",
              "      <td>0</td>\n",
              "      <td>3</td>\n",
              "      <td>0</td>\n",
              "      <td>0</td>\n",
              "      <td>13</td>\n",
              "      <td>33</td>\n",
              "      <td>46</td>\n",
              "      <td>195.74</td>\n",
              "      <td>34</td>\n",
              "      <td>39</td>\n",
              "      <td>NaN</td>\n",
              "    </tr>\n",
              "    <tr>\n",
              "      <th>2</th>\n",
              "      <td>3</td>\n",
              "      <td>1/21/2010</td>\n",
              "      <td>4</td>\n",
              "      <td>Thu</td>\n",
              "      <td>8</td>\n",
              "      <td>2</td>\n",
              "      <td>14</td>\n",
              "      <td>0</td>\n",
              "      <td>4</td>\n",
              "      <td>0</td>\n",
              "      <td>1</td>\n",
              "      <td>0</td>\n",
              "      <td>0</td>\n",
              "      <td>3</td>\n",
              "      <td>0</td>\n",
              "      <td>13</td>\n",
              "      <td>23</td>\n",
              "      <td>34</td>\n",
              "      <td>57</td>\n",
              "      <td>102.68</td>\n",
              "      <td>39</td>\n",
              "      <td>5</td>\n",
              "      <td>NaN</td>\n",
              "    </tr>\n",
              "    <tr>\n",
              "      <th>3</th>\n",
              "      <td>4</td>\n",
              "      <td>1/22/2010</td>\n",
              "      <td>5</td>\n",
              "      <td>Fri</td>\n",
              "      <td>4</td>\n",
              "      <td>2</td>\n",
              "      <td>5</td>\n",
              "      <td>7</td>\n",
              "      <td>5</td>\n",
              "      <td>0</td>\n",
              "      <td>3</td>\n",
              "      <td>1</td>\n",
              "      <td>3</td>\n",
              "      <td>0</td>\n",
              "      <td>20</td>\n",
              "      <td>0</td>\n",
              "      <td>13</td>\n",
              "      <td>27</td>\n",
              "      <td>40</td>\n",
              "      <td>162.88</td>\n",
              "      <td>40</td>\n",
              "      <td>10</td>\n",
              "      <td>NaN</td>\n",
              "    </tr>\n",
              "    <tr>\n",
              "      <th>4</th>\n",
              "      <td>5</td>\n",
              "      <td>1/25/2010</td>\n",
              "      <td>1</td>\n",
              "      <td>Mon</td>\n",
              "      <td>3</td>\n",
              "      <td>0</td>\n",
              "      <td>10</td>\n",
              "      <td>0</td>\n",
              "      <td>8</td>\n",
              "      <td>0</td>\n",
              "      <td>3</td>\n",
              "      <td>0</td>\n",
              "      <td>2</td>\n",
              "      <td>0</td>\n",
              "      <td>0</td>\n",
              "      <td>5</td>\n",
              "      <td>13</td>\n",
              "      <td>20</td>\n",
              "      <td>33</td>\n",
              "      <td>101.76</td>\n",
              "      <td>36</td>\n",
              "      <td>0</td>\n",
              "      <td>NaN</td>\n",
              "    </tr>\n",
              "  </tbody>\n",
              "</table>\n",
              "</div>"
            ],
            "text/plain": [
              "   t       Date  ...  Total Items Wasted Unnamed: 22\n",
              "0  1  1/19/2010  ...                  16         NaN\n",
              "1  2  1/20/2010  ...                  39         NaN\n",
              "2  3  1/21/2010  ...                   5         NaN\n",
              "3  4  1/22/2010  ...                  10         NaN\n",
              "4  5  1/25/2010  ...                   0         NaN\n",
              "\n",
              "[5 rows x 23 columns]"
            ]
          },
          "metadata": {
            "tags": []
          },
          "execution_count": 4
        }
      ]
    },
    {
      "cell_type": "code",
      "metadata": {
        "colab": {
          "base_uri": "https://localhost:8080/",
          "height": 246
        },
        "id": "V8bRmUIFSkIJ",
        "outputId": "342fab12-a3fc-4219-c8db-1e916b0a64a8"
      },
      "source": [
        "cafe_df = cafe_df.drop(columns=['Unnamed: 22'])\r\n",
        "cafe_df = cafe_df.dropna()\r\n",
        "cafe_df.head()"
      ],
      "execution_count": 5,
      "outputs": [
        {
          "output_type": "execute_result",
          "data": {
            "text/html": [
              "<div>\n",
              "<style scoped>\n",
              "    .dataframe tbody tr th:only-of-type {\n",
              "        vertical-align: middle;\n",
              "    }\n",
              "\n",
              "    .dataframe tbody tr th {\n",
              "        vertical-align: top;\n",
              "    }\n",
              "\n",
              "    .dataframe thead th {\n",
              "        text-align: right;\n",
              "    }\n",
              "</style>\n",
              "<table border=\"1\" class=\"dataframe\">\n",
              "  <thead>\n",
              "    <tr style=\"text-align: right;\">\n",
              "      <th></th>\n",
              "      <th>t</th>\n",
              "      <th>Date</th>\n",
              "      <th>Day Code</th>\n",
              "      <th>Day of Week</th>\n",
              "      <th>Bread Sand Sold</th>\n",
              "      <th>Bread Sand Waste</th>\n",
              "      <th>Wraps Sold</th>\n",
              "      <th>Wraps Waste</th>\n",
              "      <th>Muffins Sold</th>\n",
              "      <th>Muffins Waste</th>\n",
              "      <th>Cookies Sold</th>\n",
              "      <th>Cookies Waste</th>\n",
              "      <th>Fruit Cup Sold</th>\n",
              "      <th>Fruit Cup Waste</th>\n",
              "      <th>Chips</th>\n",
              "      <th>Juices</th>\n",
              "      <th>Sodas</th>\n",
              "      <th>Coffees</th>\n",
              "      <th>Total Soda and Coffee</th>\n",
              "      <th>Sales</th>\n",
              "      <th>Max Daily Temperature (F)</th>\n",
              "      <th>Total Items Wasted</th>\n",
              "    </tr>\n",
              "  </thead>\n",
              "  <tbody>\n",
              "    <tr>\n",
              "      <th>0</th>\n",
              "      <td>1</td>\n",
              "      <td>1/19/2010</td>\n",
              "      <td>2</td>\n",
              "      <td>Tue</td>\n",
              "      <td>5</td>\n",
              "      <td>3</td>\n",
              "      <td>25</td>\n",
              "      <td>5</td>\n",
              "      <td>5</td>\n",
              "      <td>1</td>\n",
              "      <td>5</td>\n",
              "      <td>3</td>\n",
              "      <td>1</td>\n",
              "      <td>4</td>\n",
              "      <td>12</td>\n",
              "      <td>8</td>\n",
              "      <td>20</td>\n",
              "      <td>41</td>\n",
              "      <td>61</td>\n",
              "      <td>199.95</td>\n",
              "      <td>36</td>\n",
              "      <td>16</td>\n",
              "    </tr>\n",
              "    <tr>\n",
              "      <th>1</th>\n",
              "      <td>2</td>\n",
              "      <td>1/20/2010</td>\n",
              "      <td>3</td>\n",
              "      <td>Wed</td>\n",
              "      <td>6</td>\n",
              "      <td>8</td>\n",
              "      <td>7</td>\n",
              "      <td>17</td>\n",
              "      <td>3</td>\n",
              "      <td>5</td>\n",
              "      <td>1</td>\n",
              "      <td>6</td>\n",
              "      <td>0</td>\n",
              "      <td>3</td>\n",
              "      <td>0</td>\n",
              "      <td>0</td>\n",
              "      <td>13</td>\n",
              "      <td>33</td>\n",
              "      <td>46</td>\n",
              "      <td>195.74</td>\n",
              "      <td>34</td>\n",
              "      <td>39</td>\n",
              "    </tr>\n",
              "    <tr>\n",
              "      <th>2</th>\n",
              "      <td>3</td>\n",
              "      <td>1/21/2010</td>\n",
              "      <td>4</td>\n",
              "      <td>Thu</td>\n",
              "      <td>8</td>\n",
              "      <td>2</td>\n",
              "      <td>14</td>\n",
              "      <td>0</td>\n",
              "      <td>4</td>\n",
              "      <td>0</td>\n",
              "      <td>1</td>\n",
              "      <td>0</td>\n",
              "      <td>0</td>\n",
              "      <td>3</td>\n",
              "      <td>0</td>\n",
              "      <td>13</td>\n",
              "      <td>23</td>\n",
              "      <td>34</td>\n",
              "      <td>57</td>\n",
              "      <td>102.68</td>\n",
              "      <td>39</td>\n",
              "      <td>5</td>\n",
              "    </tr>\n",
              "    <tr>\n",
              "      <th>3</th>\n",
              "      <td>4</td>\n",
              "      <td>1/22/2010</td>\n",
              "      <td>5</td>\n",
              "      <td>Fri</td>\n",
              "      <td>4</td>\n",
              "      <td>2</td>\n",
              "      <td>5</td>\n",
              "      <td>7</td>\n",
              "      <td>5</td>\n",
              "      <td>0</td>\n",
              "      <td>3</td>\n",
              "      <td>1</td>\n",
              "      <td>3</td>\n",
              "      <td>0</td>\n",
              "      <td>20</td>\n",
              "      <td>0</td>\n",
              "      <td>13</td>\n",
              "      <td>27</td>\n",
              "      <td>40</td>\n",
              "      <td>162.88</td>\n",
              "      <td>40</td>\n",
              "      <td>10</td>\n",
              "    </tr>\n",
              "    <tr>\n",
              "      <th>4</th>\n",
              "      <td>5</td>\n",
              "      <td>1/25/2010</td>\n",
              "      <td>1</td>\n",
              "      <td>Mon</td>\n",
              "      <td>3</td>\n",
              "      <td>0</td>\n",
              "      <td>10</td>\n",
              "      <td>0</td>\n",
              "      <td>8</td>\n",
              "      <td>0</td>\n",
              "      <td>3</td>\n",
              "      <td>0</td>\n",
              "      <td>2</td>\n",
              "      <td>0</td>\n",
              "      <td>0</td>\n",
              "      <td>5</td>\n",
              "      <td>13</td>\n",
              "      <td>20</td>\n",
              "      <td>33</td>\n",
              "      <td>101.76</td>\n",
              "      <td>36</td>\n",
              "      <td>0</td>\n",
              "    </tr>\n",
              "  </tbody>\n",
              "</table>\n",
              "</div>"
            ],
            "text/plain": [
              "   t       Date  ...  Max Daily Temperature (F) Total Items Wasted\n",
              "0  1  1/19/2010  ...                         36                 16\n",
              "1  2  1/20/2010  ...                         34                 39\n",
              "2  3  1/21/2010  ...                         39                  5\n",
              "3  4  1/22/2010  ...                         40                 10\n",
              "4  5  1/25/2010  ...                         36                  0\n",
              "\n",
              "[5 rows x 22 columns]"
            ]
          },
          "metadata": {
            "tags": []
          },
          "execution_count": 5
        }
      ]
    },
    {
      "cell_type": "markdown",
      "metadata": {
        "id": "JrnF6g2SSxXm"
      },
      "source": [
        "# K-mean"
      ]
    },
    {
      "cell_type": "code",
      "metadata": {
        "id": "0WJjCwOnSmiY"
      },
      "source": [
        "from sklearn.cluster import KMeans"
      ],
      "execution_count": 6,
      "outputs": []
    },
    {
      "cell_type": "code",
      "metadata": {
        "id": "DwZ4fRC3T7z9"
      },
      "source": [
        "def my_kmean(X):\r\n",
        "    KMclust = KMeans(n_clusters=3,random_state=10)\r\n",
        "    KMclust.fit(X)\r\n",
        "    label = KMclust.predict(X)\r\n",
        "    return label"
      ],
      "execution_count": 7,
      "outputs": []
    },
    {
      "cell_type": "code",
      "metadata": {
        "colab": {
          "base_uri": "https://localhost:8080/"
        },
        "id": "GhKM9zTWUCW7",
        "outputId": "4c9e00c3-e610-424f-be96-85b57e405f40"
      },
      "source": [
        "preSodas = my_kmean(cafe_df[['Sodas']])\r\n",
        "preSodas"
      ],
      "execution_count": 8,
      "outputs": [
        {
          "output_type": "execute_result",
          "data": {
            "text/plain": [
              "array([1, 1, 1, 1, 1, 0, 1, 0, 1, 1, 0, 1, 0, 1, 1, 0, 1, 0, 1, 0, 0, 1,\n",
              "       0, 1, 1, 0, 0, 0, 1, 0, 2, 0, 2, 1, 2, 0, 0, 1, 0, 2, 2, 2, 0, 0,\n",
              "       2, 2, 2], dtype=int32)"
            ]
          },
          "metadata": {
            "tags": []
          },
          "execution_count": 8
        }
      ]
    },
    {
      "cell_type": "code",
      "metadata": {
        "colab": {
          "base_uri": "https://localhost:8080/"
        },
        "id": "929pdFgbbdeO",
        "outputId": "913ea301-3cf6-45dd-c88e-62198192be12"
      },
      "source": [
        "preCoffees = my_kmean(cafe_df[['Coffees']])\r\n",
        "preCoffees"
      ],
      "execution_count": 9,
      "outputs": [
        {
          "output_type": "execute_result",
          "data": {
            "text/plain": [
              "array([1, 1, 1, 2, 2, 2, 1, 1, 1, 2, 1, 2, 2, 2, 2, 2, 2, 1, 2, 1, 1, 1,\n",
              "       2, 1, 2, 1, 1, 1, 2, 2, 2, 0, 2, 0, 0, 0, 0, 0, 0, 0, 0, 0, 0, 2,\n",
              "       0, 0, 0], dtype=int32)"
            ]
          },
          "metadata": {
            "tags": []
          },
          "execution_count": 9
        }
      ]
    },
    {
      "cell_type": "code",
      "metadata": {
        "colab": {
          "base_uri": "https://localhost:8080/"
        },
        "id": "rNzSylueT-JH",
        "outputId": "8e03fc27-3509-4ae4-d03b-e2886aa51298"
      },
      "source": [
        "pretemp = my_kmean(cafe_df[['Max Daily Temperature (F)']])\r\n",
        "pretemp"
      ],
      "execution_count": 10,
      "outputs": [
        {
          "output_type": "execute_result",
          "data": {
            "text/plain": [
              "array([0, 2, 0, 0, 0, 2, 2, 2, 2, 0, 0, 2, 0, 0, 2, 2, 2, 2, 2, 2, 2, 2,\n",
              "       2, 0, 0, 2, 2, 2, 0, 0, 0, 0, 0, 0, 1, 1, 1, 1, 0, 1, 1, 1, 0, 1,\n",
              "       1, 1, 1], dtype=int32)"
            ]
          },
          "metadata": {
            "tags": []
          },
          "execution_count": 10
        }
      ]
    },
    {
      "cell_type": "code",
      "metadata": {
        "colab": {
          "base_uri": "https://localhost:8080/",
          "height": 195
        },
        "id": "4EfvbD13UKu2",
        "outputId": "3b133378-9435-4279-e514-bb852c05969b"
      },
      "source": [
        "table_kmean = pd.DataFrame(pretemp,columns=['Group of Temperature'])\r\n",
        "table_kmean['Group of Sodas'] = preSodas\r\n",
        "table_kmean['Group of Coffees'] = preCoffees\r\n",
        "table_kmean.head()"
      ],
      "execution_count": 11,
      "outputs": [
        {
          "output_type": "execute_result",
          "data": {
            "text/html": [
              "<div>\n",
              "<style scoped>\n",
              "    .dataframe tbody tr th:only-of-type {\n",
              "        vertical-align: middle;\n",
              "    }\n",
              "\n",
              "    .dataframe tbody tr th {\n",
              "        vertical-align: top;\n",
              "    }\n",
              "\n",
              "    .dataframe thead th {\n",
              "        text-align: right;\n",
              "    }\n",
              "</style>\n",
              "<table border=\"1\" class=\"dataframe\">\n",
              "  <thead>\n",
              "    <tr style=\"text-align: right;\">\n",
              "      <th></th>\n",
              "      <th>Group of Temperature</th>\n",
              "      <th>Group of Sodas</th>\n",
              "      <th>Group of Coffees</th>\n",
              "    </tr>\n",
              "  </thead>\n",
              "  <tbody>\n",
              "    <tr>\n",
              "      <th>0</th>\n",
              "      <td>0</td>\n",
              "      <td>1</td>\n",
              "      <td>1</td>\n",
              "    </tr>\n",
              "    <tr>\n",
              "      <th>1</th>\n",
              "      <td>2</td>\n",
              "      <td>1</td>\n",
              "      <td>1</td>\n",
              "    </tr>\n",
              "    <tr>\n",
              "      <th>2</th>\n",
              "      <td>0</td>\n",
              "      <td>1</td>\n",
              "      <td>1</td>\n",
              "    </tr>\n",
              "    <tr>\n",
              "      <th>3</th>\n",
              "      <td>0</td>\n",
              "      <td>1</td>\n",
              "      <td>2</td>\n",
              "    </tr>\n",
              "    <tr>\n",
              "      <th>4</th>\n",
              "      <td>0</td>\n",
              "      <td>1</td>\n",
              "      <td>2</td>\n",
              "    </tr>\n",
              "  </tbody>\n",
              "</table>\n",
              "</div>"
            ],
            "text/plain": [
              "   Group of Temperature  Group of Sodas  Group of Coffees\n",
              "0                     0               1                 1\n",
              "1                     2               1                 1\n",
              "2                     0               1                 1\n",
              "3                     0               1                 2\n",
              "4                     0               1                 2"
            ]
          },
          "metadata": {
            "tags": []
          },
          "execution_count": 11
        }
      ]
    },
    {
      "cell_type": "code",
      "metadata": {
        "colab": {
          "base_uri": "https://localhost:8080/",
          "height": 498
        },
        "id": "Y4K0TG2mXolD",
        "outputId": "9265a0ce-535d-4f11-e624-e278b4c128d5"
      },
      "source": [
        "table_total = cafe_df[['Max Daily Temperature (F)','Sodas','Coffees']]\r\n",
        "table_total['Group of Temperature'] = pretemp\r\n",
        "table_total['Group of Sodas'] = preSodas\r\n",
        "table_total['Group of Coffees'] = preCoffees\r\n",
        "table_total = table_total.astype(float)\r\n",
        "table_total.head()"
      ],
      "execution_count": 12,
      "outputs": [
        {
          "output_type": "stream",
          "text": [
            "/usr/local/lib/python3.7/dist-packages/ipykernel_launcher.py:2: SettingWithCopyWarning: \n",
            "A value is trying to be set on a copy of a slice from a DataFrame.\n",
            "Try using .loc[row_indexer,col_indexer] = value instead\n",
            "\n",
            "See the caveats in the documentation: https://pandas.pydata.org/pandas-docs/stable/user_guide/indexing.html#returning-a-view-versus-a-copy\n",
            "  \n",
            "/usr/local/lib/python3.7/dist-packages/ipykernel_launcher.py:3: SettingWithCopyWarning: \n",
            "A value is trying to be set on a copy of a slice from a DataFrame.\n",
            "Try using .loc[row_indexer,col_indexer] = value instead\n",
            "\n",
            "See the caveats in the documentation: https://pandas.pydata.org/pandas-docs/stable/user_guide/indexing.html#returning-a-view-versus-a-copy\n",
            "  This is separate from the ipykernel package so we can avoid doing imports until\n",
            "/usr/local/lib/python3.7/dist-packages/ipykernel_launcher.py:4: SettingWithCopyWarning: \n",
            "A value is trying to be set on a copy of a slice from a DataFrame.\n",
            "Try using .loc[row_indexer,col_indexer] = value instead\n",
            "\n",
            "See the caveats in the documentation: https://pandas.pydata.org/pandas-docs/stable/user_guide/indexing.html#returning-a-view-versus-a-copy\n",
            "  after removing the cwd from sys.path.\n"
          ],
          "name": "stderr"
        },
        {
          "output_type": "execute_result",
          "data": {
            "text/html": [
              "<div>\n",
              "<style scoped>\n",
              "    .dataframe tbody tr th:only-of-type {\n",
              "        vertical-align: middle;\n",
              "    }\n",
              "\n",
              "    .dataframe tbody tr th {\n",
              "        vertical-align: top;\n",
              "    }\n",
              "\n",
              "    .dataframe thead th {\n",
              "        text-align: right;\n",
              "    }\n",
              "</style>\n",
              "<table border=\"1\" class=\"dataframe\">\n",
              "  <thead>\n",
              "    <tr style=\"text-align: right;\">\n",
              "      <th></th>\n",
              "      <th>Max Daily Temperature (F)</th>\n",
              "      <th>Sodas</th>\n",
              "      <th>Coffees</th>\n",
              "      <th>Group of Temperature</th>\n",
              "      <th>Group of Sodas</th>\n",
              "      <th>Group of Coffees</th>\n",
              "    </tr>\n",
              "  </thead>\n",
              "  <tbody>\n",
              "    <tr>\n",
              "      <th>0</th>\n",
              "      <td>36.0</td>\n",
              "      <td>20.0</td>\n",
              "      <td>41.0</td>\n",
              "      <td>0.0</td>\n",
              "      <td>1.0</td>\n",
              "      <td>1.0</td>\n",
              "    </tr>\n",
              "    <tr>\n",
              "      <th>1</th>\n",
              "      <td>34.0</td>\n",
              "      <td>13.0</td>\n",
              "      <td>33.0</td>\n",
              "      <td>2.0</td>\n",
              "      <td>1.0</td>\n",
              "      <td>1.0</td>\n",
              "    </tr>\n",
              "    <tr>\n",
              "      <th>2</th>\n",
              "      <td>39.0</td>\n",
              "      <td>23.0</td>\n",
              "      <td>34.0</td>\n",
              "      <td>0.0</td>\n",
              "      <td>1.0</td>\n",
              "      <td>1.0</td>\n",
              "    </tr>\n",
              "    <tr>\n",
              "      <th>3</th>\n",
              "      <td>40.0</td>\n",
              "      <td>13.0</td>\n",
              "      <td>27.0</td>\n",
              "      <td>0.0</td>\n",
              "      <td>1.0</td>\n",
              "      <td>2.0</td>\n",
              "    </tr>\n",
              "    <tr>\n",
              "      <th>4</th>\n",
              "      <td>36.0</td>\n",
              "      <td>13.0</td>\n",
              "      <td>20.0</td>\n",
              "      <td>0.0</td>\n",
              "      <td>1.0</td>\n",
              "      <td>2.0</td>\n",
              "    </tr>\n",
              "  </tbody>\n",
              "</table>\n",
              "</div>"
            ],
            "text/plain": [
              "   Max Daily Temperature (F)  Sodas  ...  Group of Sodas  Group of Coffees\n",
              "0                       36.0   20.0  ...             1.0               1.0\n",
              "1                       34.0   13.0  ...             1.0               1.0\n",
              "2                       39.0   23.0  ...             1.0               1.0\n",
              "3                       40.0   13.0  ...             1.0               2.0\n",
              "4                       36.0   13.0  ...             1.0               2.0\n",
              "\n",
              "[5 rows x 6 columns]"
            ]
          },
          "metadata": {
            "tags": []
          },
          "execution_count": 12
        }
      ]
    },
    {
      "cell_type": "markdown",
      "metadata": {
        "id": "KOY5LqWRXNRz"
      },
      "source": [
        "# Definition of Group K-mean"
      ]
    },
    {
      "cell_type": "code",
      "metadata": {
        "id": "3NMUZUiPXBvp"
      },
      "source": [
        "def mygroupby(x,y):\r\n",
        "    values = table_total.groupby(x)[y].mean()\r\n",
        "    return values"
      ],
      "execution_count": 13,
      "outputs": []
    },
    {
      "cell_type": "code",
      "metadata": {
        "id": "l1ANWhcqu4Gk",
        "outputId": "f3a4a36c-d0a9-4a1a-b089-aeac20343330",
        "colab": {
          "base_uri": "https://localhost:8080/",
          "height": 284
        }
      },
      "source": [
        "table_total[table_total['Group of Coffees']==2].describe()"
      ],
      "execution_count": 35,
      "outputs": [
        {
          "output_type": "execute_result",
          "data": {
            "text/html": [
              "<div>\n",
              "<style scoped>\n",
              "    .dataframe tbody tr th:only-of-type {\n",
              "        vertical-align: middle;\n",
              "    }\n",
              "\n",
              "    .dataframe tbody tr th {\n",
              "        vertical-align: top;\n",
              "    }\n",
              "\n",
              "    .dataframe thead th {\n",
              "        text-align: right;\n",
              "    }\n",
              "</style>\n",
              "<table border=\"1\" class=\"dataframe\">\n",
              "  <thead>\n",
              "    <tr style=\"text-align: right;\">\n",
              "      <th></th>\n",
              "      <th>Max Daily Temperature (F)</th>\n",
              "      <th>Sodas</th>\n",
              "      <th>Coffees</th>\n",
              "      <th>Group of Temperature</th>\n",
              "      <th>Group of Sodas</th>\n",
              "      <th>Group of Coffees</th>\n",
              "    </tr>\n",
              "  </thead>\n",
              "  <tbody>\n",
              "    <tr>\n",
              "      <th>count</th>\n",
              "      <td>18.000000</td>\n",
              "      <td>18.000000</td>\n",
              "      <td>18.000000</td>\n",
              "      <td>18.000000</td>\n",
              "      <td>18.000000</td>\n",
              "      <td>18.0</td>\n",
              "    </tr>\n",
              "    <tr>\n",
              "      <th>mean</th>\n",
              "      <td>35.944444</td>\n",
              "      <td>26.055556</td>\n",
              "      <td>22.500000</td>\n",
              "      <td>0.833333</td>\n",
              "      <td>0.777778</td>\n",
              "      <td>2.0</td>\n",
              "    </tr>\n",
              "    <tr>\n",
              "      <th>std</th>\n",
              "      <td>7.099894</td>\n",
              "      <td>11.185454</td>\n",
              "      <td>3.535534</td>\n",
              "      <td>0.985184</td>\n",
              "      <td>0.646762</td>\n",
              "      <td>0.0</td>\n",
              "    </tr>\n",
              "    <tr>\n",
              "      <th>min</th>\n",
              "      <td>26.000000</td>\n",
              "      <td>13.000000</td>\n",
              "      <td>16.000000</td>\n",
              "      <td>0.000000</td>\n",
              "      <td>0.000000</td>\n",
              "      <td>2.0</td>\n",
              "    </tr>\n",
              "    <tr>\n",
              "      <th>25%</th>\n",
              "      <td>31.500000</td>\n",
              "      <td>17.500000</td>\n",
              "      <td>20.250000</td>\n",
              "      <td>0.000000</td>\n",
              "      <td>0.000000</td>\n",
              "      <td>2.0</td>\n",
              "    </tr>\n",
              "    <tr>\n",
              "      <th>50%</th>\n",
              "      <td>35.500000</td>\n",
              "      <td>24.500000</td>\n",
              "      <td>23.000000</td>\n",
              "      <td>0.000000</td>\n",
              "      <td>1.000000</td>\n",
              "      <td>2.0</td>\n",
              "    </tr>\n",
              "    <tr>\n",
              "      <th>75%</th>\n",
              "      <td>39.000000</td>\n",
              "      <td>32.500000</td>\n",
              "      <td>25.000000</td>\n",
              "      <td>2.000000</td>\n",
              "      <td>1.000000</td>\n",
              "      <td>2.0</td>\n",
              "    </tr>\n",
              "    <tr>\n",
              "      <th>max</th>\n",
              "      <td>56.000000</td>\n",
              "      <td>54.000000</td>\n",
              "      <td>27.000000</td>\n",
              "      <td>2.000000</td>\n",
              "      <td>2.000000</td>\n",
              "      <td>2.0</td>\n",
              "    </tr>\n",
              "  </tbody>\n",
              "</table>\n",
              "</div>"
            ],
            "text/plain": [
              "       Max Daily Temperature (F)      Sodas  ...  Group of Sodas  Group of Coffees\n",
              "count                  18.000000  18.000000  ...       18.000000              18.0\n",
              "mean                   35.944444  26.055556  ...        0.777778               2.0\n",
              "std                     7.099894  11.185454  ...        0.646762               0.0\n",
              "min                    26.000000  13.000000  ...        0.000000               2.0\n",
              "25%                    31.500000  17.500000  ...        0.000000               2.0\n",
              "50%                    35.500000  24.500000  ...        1.000000               2.0\n",
              "75%                    39.000000  32.500000  ...        1.000000               2.0\n",
              "max                    56.000000  54.000000  ...        2.000000               2.0\n",
              "\n",
              "[8 rows x 6 columns]"
            ]
          },
          "metadata": {
            "tags": []
          },
          "execution_count": 35
        }
      ]
    },
    {
      "cell_type": "code",
      "metadata": {
        "colab": {
          "base_uri": "https://localhost:8080/"
        },
        "id": "2-K08EIoXR6U",
        "outputId": "1c84dc75-c029-4cc3-c780-ea8f08fc6cf8"
      },
      "source": [
        "mygroupby('Group of Temperature','Max Daily Temperature (F)')"
      ],
      "execution_count": 14,
      "outputs": [
        {
          "output_type": "execute_result",
          "data": {
            "text/plain": [
              "Group of Temperature\n",
              "0.0    39.833333\n",
              "1.0    64.727273\n",
              "2.0    29.777778\n",
              "Name: Max Daily Temperature (F), dtype: float64"
            ]
          },
          "metadata": {
            "tags": []
          },
          "execution_count": 14
        }
      ]
    },
    {
      "cell_type": "code",
      "metadata": {
        "colab": {
          "base_uri": "https://localhost:8080/"
        },
        "id": "SpnsGcAbXWeq",
        "outputId": "cbe79fe3-ca0e-45df-a377-ea7a79660f3c"
      },
      "source": [
        "mygroupby('Group of Coffees','Coffees')"
      ],
      "execution_count": 15,
      "outputs": [
        {
          "output_type": "execute_result",
          "data": {
            "text/plain": [
              "Group of Coffees\n",
              "0.0     7.5\n",
              "1.0    33.4\n",
              "2.0    22.5\n",
              "Name: Coffees, dtype: float64"
            ]
          },
          "metadata": {
            "tags": []
          },
          "execution_count": 15
        }
      ]
    },
    {
      "cell_type": "code",
      "metadata": {
        "colab": {
          "base_uri": "https://localhost:8080/"
        },
        "id": "k7re57_dcxov",
        "outputId": "e7501286-1d70-4934-a13c-563b239d3ee1"
      },
      "source": [
        "mygroupby('Group of Sodas','Sodas')"
      ],
      "execution_count": 16,
      "outputs": [
        {
          "output_type": "execute_result",
          "data": {
            "text/plain": [
              "Group of Sodas\n",
              "0.0    32.105263\n",
              "1.0    18.315789\n",
              "2.0    48.000000\n",
              "Name: Sodas, dtype: float64"
            ]
          },
          "metadata": {
            "tags": []
          },
          "execution_count": 16
        }
      ]
    },
    {
      "cell_type": "markdown",
      "metadata": {
        "id": "Xp7CtTHeYYgA"
      },
      "source": [
        "# Split train and test"
      ]
    },
    {
      "cell_type": "code",
      "metadata": {
        "id": "_PX35Nc2YQBA"
      },
      "source": [
        "from sklearn.model_selection import train_test_split"
      ],
      "execution_count": 17,
      "outputs": []
    },
    {
      "cell_type": "code",
      "metadata": {
        "id": "eLjcFn5mYa77"
      },
      "source": [
        "X_train, X_test, y_train, y_test = train_test_split(table_kmean[['Group of Sodas','Group of Coffees']],table_kmean['Group of Temperature'],test_size=0.1, random_state=6)\r\n",
        "X = table_kmean[['Group of Sodas','Group of Coffees']]"
      ],
      "execution_count": 18,
      "outputs": []
    },
    {
      "cell_type": "markdown",
      "metadata": {
        "id": "Sm_m90gRZU4d"
      },
      "source": [
        "# RF"
      ]
    },
    {
      "cell_type": "code",
      "metadata": {
        "colab": {
          "base_uri": "https://localhost:8080/"
        },
        "id": "bPbxdIe4Y1U_",
        "outputId": "aa8a3510-230e-4a89-d4cd-0f734a8617bd"
      },
      "source": [
        "from sklearn.ensemble import RandomForestClassifier\r\n",
        "skRF = RandomForestClassifier()\r\n",
        "skRF.fit(X_train, y_train)\r\n",
        "skRF.score(X_test,y_test)"
      ],
      "execution_count": 19,
      "outputs": [
        {
          "output_type": "execute_result",
          "data": {
            "text/plain": [
              "0.6"
            ]
          },
          "metadata": {
            "tags": []
          },
          "execution_count": 19
        }
      ]
    },
    {
      "cell_type": "markdown",
      "metadata": {
        "id": "kT_KLsm8Z38s"
      },
      "source": [
        "# Prediction"
      ]
    },
    {
      "cell_type": "markdown",
      "metadata": {
        "id": "F-SdlhuIw-Mn"
      },
      "source": [
        "![sodas coffees temp.PNG](data:image/png;base64,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)"
      ]
    },
    {
      "cell_type": "code",
      "metadata": {
        "colab": {
          "base_uri": "https://localhost:8080/",
          "height": 343
        },
        "id": "gXQmVHskZYMo",
        "outputId": "40cae4a9-7f9d-4d4a-8529-2fcd58dfe3ec"
      },
      "source": [
        "table_kmean['Predict Group of Temp'] = skRF.predict(X)\r\n",
        "table_kmean.head(10)"
      ],
      "execution_count": 42,
      "outputs": [
        {
          "output_type": "execute_result",
          "data": {
            "text/html": [
              "<div>\n",
              "<style scoped>\n",
              "    .dataframe tbody tr th:only-of-type {\n",
              "        vertical-align: middle;\n",
              "    }\n",
              "\n",
              "    .dataframe tbody tr th {\n",
              "        vertical-align: top;\n",
              "    }\n",
              "\n",
              "    .dataframe thead th {\n",
              "        text-align: right;\n",
              "    }\n",
              "</style>\n",
              "<table border=\"1\" class=\"dataframe\">\n",
              "  <thead>\n",
              "    <tr style=\"text-align: right;\">\n",
              "      <th></th>\n",
              "      <th>Group of Temperature</th>\n",
              "      <th>Group of Sodas</th>\n",
              "      <th>Group of Coffees</th>\n",
              "      <th>Predict Group of Temp</th>\n",
              "    </tr>\n",
              "  </thead>\n",
              "  <tbody>\n",
              "    <tr>\n",
              "      <th>0</th>\n",
              "      <td>0</td>\n",
              "      <td>1</td>\n",
              "      <td>1</td>\n",
              "      <td>2</td>\n",
              "    </tr>\n",
              "    <tr>\n",
              "      <th>1</th>\n",
              "      <td>2</td>\n",
              "      <td>1</td>\n",
              "      <td>1</td>\n",
              "      <td>2</td>\n",
              "    </tr>\n",
              "    <tr>\n",
              "      <th>2</th>\n",
              "      <td>0</td>\n",
              "      <td>1</td>\n",
              "      <td>1</td>\n",
              "      <td>2</td>\n",
              "    </tr>\n",
              "    <tr>\n",
              "      <th>3</th>\n",
              "      <td>0</td>\n",
              "      <td>1</td>\n",
              "      <td>2</td>\n",
              "      <td>0</td>\n",
              "    </tr>\n",
              "    <tr>\n",
              "      <th>4</th>\n",
              "      <td>0</td>\n",
              "      <td>1</td>\n",
              "      <td>2</td>\n",
              "      <td>0</td>\n",
              "    </tr>\n",
              "    <tr>\n",
              "      <th>5</th>\n",
              "      <td>2</td>\n",
              "      <td>0</td>\n",
              "      <td>2</td>\n",
              "      <td>2</td>\n",
              "    </tr>\n",
              "    <tr>\n",
              "      <th>6</th>\n",
              "      <td>2</td>\n",
              "      <td>1</td>\n",
              "      <td>1</td>\n",
              "      <td>2</td>\n",
              "    </tr>\n",
              "    <tr>\n",
              "      <th>7</th>\n",
              "      <td>2</td>\n",
              "      <td>0</td>\n",
              "      <td>1</td>\n",
              "      <td>2</td>\n",
              "    </tr>\n",
              "    <tr>\n",
              "      <th>8</th>\n",
              "      <td>2</td>\n",
              "      <td>1</td>\n",
              "      <td>1</td>\n",
              "      <td>2</td>\n",
              "    </tr>\n",
              "    <tr>\n",
              "      <th>9</th>\n",
              "      <td>0</td>\n",
              "      <td>1</td>\n",
              "      <td>2</td>\n",
              "      <td>0</td>\n",
              "    </tr>\n",
              "  </tbody>\n",
              "</table>\n",
              "</div>"
            ],
            "text/plain": [
              "   Group of Temperature  ...  Predict Group of Temp\n",
              "0                     0  ...                      2\n",
              "1                     2  ...                      2\n",
              "2                     0  ...                      2\n",
              "3                     0  ...                      0\n",
              "4                     0  ...                      0\n",
              "5                     2  ...                      2\n",
              "6                     2  ...                      2\n",
              "7                     2  ...                      2\n",
              "8                     2  ...                      2\n",
              "9                     0  ...                      0\n",
              "\n",
              "[10 rows x 4 columns]"
            ]
          },
          "metadata": {
            "tags": []
          },
          "execution_count": 42
        }
      ]
    }
  ]
}