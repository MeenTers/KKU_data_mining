{
  "nbformat": 4,
  "nbformat_minor": 0,
  "metadata": {
    "colab": {
      "name": "cafe_food.ipynb",
      "provenance": [],
      "authorship_tag": "ABX9TyPPuEMy042vL23jUCoXZ0sk",
      "include_colab_link": true
    },
    "kernelspec": {
      "name": "python3",
      "display_name": "Python 3"
    }
  },
  "cells": [
    {
      "cell_type": "markdown",
      "metadata": {
        "id": "view-in-github",
        "colab_type": "text"
      },
      "source": [
        "<a href=\"https://colab.research.google.com/github/MeenTers/KKU_data_mining/blob/master/cafe_food.ipynb\" target=\"_parent\"><img src=\"https://colab.research.google.com/assets/colab-badge.svg\" alt=\"Open In Colab\"/></a>"
      ]
    },
    {
      "cell_type": "markdown",
      "metadata": {
        "id": "KGVPBgdy_bn8"
      },
      "source": [
        "# Import Function"
      ]
    },
    {
      "cell_type": "code",
      "metadata": {
        "id": "8YpBz-dS_U06"
      },
      "source": [
        "import pandas as pd\r\n",
        "import os"
      ],
      "execution_count": 1,
      "outputs": []
    },
    {
      "cell_type": "code",
      "metadata": {
        "colab": {
          "base_uri": "https://localhost:8080/"
        },
        "id": "h56CsrlZ_f02",
        "outputId": "57ac7593-c538-4161-d0ba-b216cf108979"
      },
      "source": [
        "from google.colab import drive\r\n",
        "drive.mount('/content/drive')"
      ],
      "execution_count": 2,
      "outputs": [
        {
          "output_type": "stream",
          "text": [
            "Mounted at /content/drive\n"
          ],
          "name": "stdout"
        }
      ]
    },
    {
      "cell_type": "code",
      "metadata": {
        "id": "OkaVS_tsANYq"
      },
      "source": [
        "path = '/content/drive/My Drive/SIST'\r\n",
        "cafe = os.path.join(path,'cafedata.csv')"
      ],
      "execution_count": 3,
      "outputs": []
    },
    {
      "cell_type": "markdown",
      "metadata": {
        "id": "5rhwjW4EAYga"
      },
      "source": [
        "# Create DataFrame"
      ]
    },
    {
      "cell_type": "code",
      "metadata": {
        "colab": {
          "base_uri": "https://localhost:8080/",
          "height": 246
        },
        "id": "1gPXWlUmAVGR",
        "outputId": "d5d8c40d-a282-4127-d740-25ecc3d5f305"
      },
      "source": [
        "cafe_df = pd.read_csv(cafe)\r\n",
        "cafe_df.head()"
      ],
      "execution_count": 11,
      "outputs": [
        {
          "output_type": "execute_result",
          "data": {
            "text/html": [
              "<div>\n",
              "<style scoped>\n",
              "    .dataframe tbody tr th:only-of-type {\n",
              "        vertical-align: middle;\n",
              "    }\n",
              "\n",
              "    .dataframe tbody tr th {\n",
              "        vertical-align: top;\n",
              "    }\n",
              "\n",
              "    .dataframe thead th {\n",
              "        text-align: right;\n",
              "    }\n",
              "</style>\n",
              "<table border=\"1\" class=\"dataframe\">\n",
              "  <thead>\n",
              "    <tr style=\"text-align: right;\">\n",
              "      <th></th>\n",
              "      <th>t</th>\n",
              "      <th>Date</th>\n",
              "      <th>Day Code</th>\n",
              "      <th>Day of Week</th>\n",
              "      <th>Bread Sand Sold</th>\n",
              "      <th>Bread Sand Waste</th>\n",
              "      <th>Wraps Sold</th>\n",
              "      <th>Wraps Waste</th>\n",
              "      <th>Muffins Sold</th>\n",
              "      <th>Muffins Waste</th>\n",
              "      <th>Cookies Sold</th>\n",
              "      <th>Cookies Waste</th>\n",
              "      <th>Fruit Cup Sold</th>\n",
              "      <th>Fruit Cup Waste</th>\n",
              "      <th>Chips</th>\n",
              "      <th>Juices</th>\n",
              "      <th>Sodas</th>\n",
              "      <th>Coffees</th>\n",
              "      <th>Total Soda and Coffee</th>\n",
              "      <th>Sales</th>\n",
              "      <th>Max Daily Temperature (F)</th>\n",
              "      <th>Total Items Wasted</th>\n",
              "      <th>Unnamed: 22</th>\n",
              "    </tr>\n",
              "  </thead>\n",
              "  <tbody>\n",
              "    <tr>\n",
              "      <th>0</th>\n",
              "      <td>1</td>\n",
              "      <td>1/19/2010</td>\n",
              "      <td>2</td>\n",
              "      <td>Tue</td>\n",
              "      <td>5</td>\n",
              "      <td>3</td>\n",
              "      <td>25</td>\n",
              "      <td>5</td>\n",
              "      <td>5</td>\n",
              "      <td>1</td>\n",
              "      <td>5</td>\n",
              "      <td>3</td>\n",
              "      <td>1</td>\n",
              "      <td>4</td>\n",
              "      <td>12</td>\n",
              "      <td>8</td>\n",
              "      <td>20</td>\n",
              "      <td>41</td>\n",
              "      <td>61</td>\n",
              "      <td>199.95</td>\n",
              "      <td>36</td>\n",
              "      <td>16</td>\n",
              "      <td>NaN</td>\n",
              "    </tr>\n",
              "    <tr>\n",
              "      <th>1</th>\n",
              "      <td>2</td>\n",
              "      <td>1/20/2010</td>\n",
              "      <td>3</td>\n",
              "      <td>Wed</td>\n",
              "      <td>6</td>\n",
              "      <td>8</td>\n",
              "      <td>7</td>\n",
              "      <td>17</td>\n",
              "      <td>3</td>\n",
              "      <td>5</td>\n",
              "      <td>1</td>\n",
              "      <td>6</td>\n",
              "      <td>0</td>\n",
              "      <td>3</td>\n",
              "      <td>0</td>\n",
              "      <td>0</td>\n",
              "      <td>13</td>\n",
              "      <td>33</td>\n",
              "      <td>46</td>\n",
              "      <td>195.74</td>\n",
              "      <td>34</td>\n",
              "      <td>39</td>\n",
              "      <td>NaN</td>\n",
              "    </tr>\n",
              "    <tr>\n",
              "      <th>2</th>\n",
              "      <td>3</td>\n",
              "      <td>1/21/2010</td>\n",
              "      <td>4</td>\n",
              "      <td>Thu</td>\n",
              "      <td>8</td>\n",
              "      <td>2</td>\n",
              "      <td>14</td>\n",
              "      <td>0</td>\n",
              "      <td>4</td>\n",
              "      <td>0</td>\n",
              "      <td>1</td>\n",
              "      <td>0</td>\n",
              "      <td>0</td>\n",
              "      <td>3</td>\n",
              "      <td>0</td>\n",
              "      <td>13</td>\n",
              "      <td>23</td>\n",
              "      <td>34</td>\n",
              "      <td>57</td>\n",
              "      <td>102.68</td>\n",
              "      <td>39</td>\n",
              "      <td>5</td>\n",
              "      <td>NaN</td>\n",
              "    </tr>\n",
              "    <tr>\n",
              "      <th>3</th>\n",
              "      <td>4</td>\n",
              "      <td>1/22/2010</td>\n",
              "      <td>5</td>\n",
              "      <td>Fri</td>\n",
              "      <td>4</td>\n",
              "      <td>2</td>\n",
              "      <td>5</td>\n",
              "      <td>7</td>\n",
              "      <td>5</td>\n",
              "      <td>0</td>\n",
              "      <td>3</td>\n",
              "      <td>1</td>\n",
              "      <td>3</td>\n",
              "      <td>0</td>\n",
              "      <td>20</td>\n",
              "      <td>0</td>\n",
              "      <td>13</td>\n",
              "      <td>27</td>\n",
              "      <td>40</td>\n",
              "      <td>162.88</td>\n",
              "      <td>40</td>\n",
              "      <td>10</td>\n",
              "      <td>NaN</td>\n",
              "    </tr>\n",
              "    <tr>\n",
              "      <th>4</th>\n",
              "      <td>5</td>\n",
              "      <td>1/25/2010</td>\n",
              "      <td>1</td>\n",
              "      <td>Mon</td>\n",
              "      <td>3</td>\n",
              "      <td>0</td>\n",
              "      <td>10</td>\n",
              "      <td>0</td>\n",
              "      <td>8</td>\n",
              "      <td>0</td>\n",
              "      <td>3</td>\n",
              "      <td>0</td>\n",
              "      <td>2</td>\n",
              "      <td>0</td>\n",
              "      <td>0</td>\n",
              "      <td>5</td>\n",
              "      <td>13</td>\n",
              "      <td>20</td>\n",
              "      <td>33</td>\n",
              "      <td>101.76</td>\n",
              "      <td>36</td>\n",
              "      <td>0</td>\n",
              "      <td>NaN</td>\n",
              "    </tr>\n",
              "  </tbody>\n",
              "</table>\n",
              "</div>"
            ],
            "text/plain": [
              "   t       Date  ...  Total Items Wasted Unnamed: 22\n",
              "0  1  1/19/2010  ...                  16         NaN\n",
              "1  2  1/20/2010  ...                  39         NaN\n",
              "2  3  1/21/2010  ...                   5         NaN\n",
              "3  4  1/22/2010  ...                  10         NaN\n",
              "4  5  1/25/2010  ...                   0         NaN\n",
              "\n",
              "[5 rows x 23 columns]"
            ]
          },
          "metadata": {
            "tags": []
          },
          "execution_count": 11
        }
      ]
    },
    {
      "cell_type": "code",
      "metadata": {
        "colab": {
          "base_uri": "https://localhost:8080/",
          "height": 246
        },
        "id": "27XAVi_TAbCd",
        "outputId": "a4d3f12b-a63c-4525-9d16-4e14d968f44e"
      },
      "source": [
        "cafe_df = cafe_df.drop(columns=['Unnamed: 22'])\r\n",
        "cafe_df = cafe_df.dropna()\r\n",
        "cafe_df.head()"
      ],
      "execution_count": 12,
      "outputs": [
        {
          "output_type": "execute_result",
          "data": {
            "text/html": [
              "<div>\n",
              "<style scoped>\n",
              "    .dataframe tbody tr th:only-of-type {\n",
              "        vertical-align: middle;\n",
              "    }\n",
              "\n",
              "    .dataframe tbody tr th {\n",
              "        vertical-align: top;\n",
              "    }\n",
              "\n",
              "    .dataframe thead th {\n",
              "        text-align: right;\n",
              "    }\n",
              "</style>\n",
              "<table border=\"1\" class=\"dataframe\">\n",
              "  <thead>\n",
              "    <tr style=\"text-align: right;\">\n",
              "      <th></th>\n",
              "      <th>t</th>\n",
              "      <th>Date</th>\n",
              "      <th>Day Code</th>\n",
              "      <th>Day of Week</th>\n",
              "      <th>Bread Sand Sold</th>\n",
              "      <th>Bread Sand Waste</th>\n",
              "      <th>Wraps Sold</th>\n",
              "      <th>Wraps Waste</th>\n",
              "      <th>Muffins Sold</th>\n",
              "      <th>Muffins Waste</th>\n",
              "      <th>Cookies Sold</th>\n",
              "      <th>Cookies Waste</th>\n",
              "      <th>Fruit Cup Sold</th>\n",
              "      <th>Fruit Cup Waste</th>\n",
              "      <th>Chips</th>\n",
              "      <th>Juices</th>\n",
              "      <th>Sodas</th>\n",
              "      <th>Coffees</th>\n",
              "      <th>Total Soda and Coffee</th>\n",
              "      <th>Sales</th>\n",
              "      <th>Max Daily Temperature (F)</th>\n",
              "      <th>Total Items Wasted</th>\n",
              "    </tr>\n",
              "  </thead>\n",
              "  <tbody>\n",
              "    <tr>\n",
              "      <th>0</th>\n",
              "      <td>1</td>\n",
              "      <td>1/19/2010</td>\n",
              "      <td>2</td>\n",
              "      <td>Tue</td>\n",
              "      <td>5</td>\n",
              "      <td>3</td>\n",
              "      <td>25</td>\n",
              "      <td>5</td>\n",
              "      <td>5</td>\n",
              "      <td>1</td>\n",
              "      <td>5</td>\n",
              "      <td>3</td>\n",
              "      <td>1</td>\n",
              "      <td>4</td>\n",
              "      <td>12</td>\n",
              "      <td>8</td>\n",
              "      <td>20</td>\n",
              "      <td>41</td>\n",
              "      <td>61</td>\n",
              "      <td>199.95</td>\n",
              "      <td>36</td>\n",
              "      <td>16</td>\n",
              "    </tr>\n",
              "    <tr>\n",
              "      <th>1</th>\n",
              "      <td>2</td>\n",
              "      <td>1/20/2010</td>\n",
              "      <td>3</td>\n",
              "      <td>Wed</td>\n",
              "      <td>6</td>\n",
              "      <td>8</td>\n",
              "      <td>7</td>\n",
              "      <td>17</td>\n",
              "      <td>3</td>\n",
              "      <td>5</td>\n",
              "      <td>1</td>\n",
              "      <td>6</td>\n",
              "      <td>0</td>\n",
              "      <td>3</td>\n",
              "      <td>0</td>\n",
              "      <td>0</td>\n",
              "      <td>13</td>\n",
              "      <td>33</td>\n",
              "      <td>46</td>\n",
              "      <td>195.74</td>\n",
              "      <td>34</td>\n",
              "      <td>39</td>\n",
              "    </tr>\n",
              "    <tr>\n",
              "      <th>2</th>\n",
              "      <td>3</td>\n",
              "      <td>1/21/2010</td>\n",
              "      <td>4</td>\n",
              "      <td>Thu</td>\n",
              "      <td>8</td>\n",
              "      <td>2</td>\n",
              "      <td>14</td>\n",
              "      <td>0</td>\n",
              "      <td>4</td>\n",
              "      <td>0</td>\n",
              "      <td>1</td>\n",
              "      <td>0</td>\n",
              "      <td>0</td>\n",
              "      <td>3</td>\n",
              "      <td>0</td>\n",
              "      <td>13</td>\n",
              "      <td>23</td>\n",
              "      <td>34</td>\n",
              "      <td>57</td>\n",
              "      <td>102.68</td>\n",
              "      <td>39</td>\n",
              "      <td>5</td>\n",
              "    </tr>\n",
              "    <tr>\n",
              "      <th>3</th>\n",
              "      <td>4</td>\n",
              "      <td>1/22/2010</td>\n",
              "      <td>5</td>\n",
              "      <td>Fri</td>\n",
              "      <td>4</td>\n",
              "      <td>2</td>\n",
              "      <td>5</td>\n",
              "      <td>7</td>\n",
              "      <td>5</td>\n",
              "      <td>0</td>\n",
              "      <td>3</td>\n",
              "      <td>1</td>\n",
              "      <td>3</td>\n",
              "      <td>0</td>\n",
              "      <td>20</td>\n",
              "      <td>0</td>\n",
              "      <td>13</td>\n",
              "      <td>27</td>\n",
              "      <td>40</td>\n",
              "      <td>162.88</td>\n",
              "      <td>40</td>\n",
              "      <td>10</td>\n",
              "    </tr>\n",
              "    <tr>\n",
              "      <th>4</th>\n",
              "      <td>5</td>\n",
              "      <td>1/25/2010</td>\n",
              "      <td>1</td>\n",
              "      <td>Mon</td>\n",
              "      <td>3</td>\n",
              "      <td>0</td>\n",
              "      <td>10</td>\n",
              "      <td>0</td>\n",
              "      <td>8</td>\n",
              "      <td>0</td>\n",
              "      <td>3</td>\n",
              "      <td>0</td>\n",
              "      <td>2</td>\n",
              "      <td>0</td>\n",
              "      <td>0</td>\n",
              "      <td>5</td>\n",
              "      <td>13</td>\n",
              "      <td>20</td>\n",
              "      <td>33</td>\n",
              "      <td>101.76</td>\n",
              "      <td>36</td>\n",
              "      <td>0</td>\n",
              "    </tr>\n",
              "  </tbody>\n",
              "</table>\n",
              "</div>"
            ],
            "text/plain": [
              "   t       Date  ...  Max Daily Temperature (F) Total Items Wasted\n",
              "0  1  1/19/2010  ...                         36                 16\n",
              "1  2  1/20/2010  ...                         34                 39\n",
              "2  3  1/21/2010  ...                         39                  5\n",
              "3  4  1/22/2010  ...                         40                 10\n",
              "4  5  1/25/2010  ...                         36                  0\n",
              "\n",
              "[5 rows x 22 columns]"
            ]
          },
          "metadata": {
            "tags": []
          },
          "execution_count": 12
        }
      ]
    },
    {
      "cell_type": "code",
      "metadata": {
        "colab": {
          "base_uri": "https://localhost:8080/",
          "height": 195
        },
        "id": "UtTlG_JiA11y",
        "outputId": "fd525e28-d353-47f9-ee10-e50ace3f7ed0"
      },
      "source": [
        "cafe_df = cafe_df[['t','Bread Sand Sold','Wraps Sold','Muffins Sold','Cookies Sold','Fruit Cup Sold',' Sales ']]\r\n",
        "cafe_df = cafe_df.astype(float)\r\n",
        "cafe_df.head()"
      ],
      "execution_count": 15,
      "outputs": [
        {
          "output_type": "execute_result",
          "data": {
            "text/html": [
              "<div>\n",
              "<style scoped>\n",
              "    .dataframe tbody tr th:only-of-type {\n",
              "        vertical-align: middle;\n",
              "    }\n",
              "\n",
              "    .dataframe tbody tr th {\n",
              "        vertical-align: top;\n",
              "    }\n",
              "\n",
              "    .dataframe thead th {\n",
              "        text-align: right;\n",
              "    }\n",
              "</style>\n",
              "<table border=\"1\" class=\"dataframe\">\n",
              "  <thead>\n",
              "    <tr style=\"text-align: right;\">\n",
              "      <th></th>\n",
              "      <th>t</th>\n",
              "      <th>Bread Sand Sold</th>\n",
              "      <th>Wraps Sold</th>\n",
              "      <th>Muffins Sold</th>\n",
              "      <th>Cookies Sold</th>\n",
              "      <th>Fruit Cup Sold</th>\n",
              "      <th>Sales</th>\n",
              "    </tr>\n",
              "  </thead>\n",
              "  <tbody>\n",
              "    <tr>\n",
              "      <th>0</th>\n",
              "      <td>1.0</td>\n",
              "      <td>5.0</td>\n",
              "      <td>25.0</td>\n",
              "      <td>5.0</td>\n",
              "      <td>5.0</td>\n",
              "      <td>1.0</td>\n",
              "      <td>199.95</td>\n",
              "    </tr>\n",
              "    <tr>\n",
              "      <th>1</th>\n",
              "      <td>2.0</td>\n",
              "      <td>6.0</td>\n",
              "      <td>7.0</td>\n",
              "      <td>3.0</td>\n",
              "      <td>1.0</td>\n",
              "      <td>0.0</td>\n",
              "      <td>195.74</td>\n",
              "    </tr>\n",
              "    <tr>\n",
              "      <th>2</th>\n",
              "      <td>3.0</td>\n",
              "      <td>8.0</td>\n",
              "      <td>14.0</td>\n",
              "      <td>4.0</td>\n",
              "      <td>1.0</td>\n",
              "      <td>0.0</td>\n",
              "      <td>102.68</td>\n",
              "    </tr>\n",
              "    <tr>\n",
              "      <th>3</th>\n",
              "      <td>4.0</td>\n",
              "      <td>4.0</td>\n",
              "      <td>5.0</td>\n",
              "      <td>5.0</td>\n",
              "      <td>3.0</td>\n",
              "      <td>3.0</td>\n",
              "      <td>162.88</td>\n",
              "    </tr>\n",
              "    <tr>\n",
              "      <th>4</th>\n",
              "      <td>5.0</td>\n",
              "      <td>3.0</td>\n",
              "      <td>10.0</td>\n",
              "      <td>8.0</td>\n",
              "      <td>3.0</td>\n",
              "      <td>2.0</td>\n",
              "      <td>101.76</td>\n",
              "    </tr>\n",
              "  </tbody>\n",
              "</table>\n",
              "</div>"
            ],
            "text/plain": [
              "     t  Bread Sand Sold  Wraps Sold  ...  Cookies Sold  Fruit Cup Sold   Sales \n",
              "0  1.0              5.0        25.0  ...           5.0             1.0   199.95\n",
              "1  2.0              6.0         7.0  ...           1.0             0.0   195.74\n",
              "2  3.0              8.0        14.0  ...           1.0             0.0   102.68\n",
              "3  4.0              4.0         5.0  ...           3.0             3.0   162.88\n",
              "4  5.0              3.0        10.0  ...           3.0             2.0   101.76\n",
              "\n",
              "[5 rows x 7 columns]"
            ]
          },
          "metadata": {
            "tags": []
          },
          "execution_count": 15
        }
      ]
    },
    {
      "cell_type": "code",
      "metadata": {
        "colab": {
          "base_uri": "https://localhost:8080/",
          "height": 284
        },
        "id": "7DcbZBmyAq2k",
        "outputId": "dd3f435c-edd4-4eff-f02f-22e43069a3d4"
      },
      "source": [
        "cafe_df.describe()"
      ],
      "execution_count": 16,
      "outputs": [
        {
          "output_type": "execute_result",
          "data": {
            "text/html": [
              "<div>\n",
              "<style scoped>\n",
              "    .dataframe tbody tr th:only-of-type {\n",
              "        vertical-align: middle;\n",
              "    }\n",
              "\n",
              "    .dataframe tbody tr th {\n",
              "        vertical-align: top;\n",
              "    }\n",
              "\n",
              "    .dataframe thead th {\n",
              "        text-align: right;\n",
              "    }\n",
              "</style>\n",
              "<table border=\"1\" class=\"dataframe\">\n",
              "  <thead>\n",
              "    <tr style=\"text-align: right;\">\n",
              "      <th></th>\n",
              "      <th>t</th>\n",
              "      <th>Bread Sand Sold</th>\n",
              "      <th>Wraps Sold</th>\n",
              "      <th>Muffins Sold</th>\n",
              "      <th>Cookies Sold</th>\n",
              "      <th>Fruit Cup Sold</th>\n",
              "      <th>Sales</th>\n",
              "    </tr>\n",
              "  </thead>\n",
              "  <tbody>\n",
              "    <tr>\n",
              "      <th>count</th>\n",
              "      <td>47.000000</td>\n",
              "      <td>47.000000</td>\n",
              "      <td>47.000000</td>\n",
              "      <td>47.000000</td>\n",
              "      <td>47.000000</td>\n",
              "      <td>47.000000</td>\n",
              "      <td>47.000000</td>\n",
              "    </tr>\n",
              "    <tr>\n",
              "      <th>mean</th>\n",
              "      <td>24.297872</td>\n",
              "      <td>4.702128</td>\n",
              "      <td>13.148936</td>\n",
              "      <td>5.851064</td>\n",
              "      <td>5.787234</td>\n",
              "      <td>1.702128</td>\n",
              "      <td>148.221702</td>\n",
              "    </tr>\n",
              "    <tr>\n",
              "      <th>std</th>\n",
              "      <td>14.080382</td>\n",
              "      <td>2.235240</td>\n",
              "      <td>5.868037</td>\n",
              "      <td>4.791200</td>\n",
              "      <td>3.256673</td>\n",
              "      <td>1.159364</td>\n",
              "      <td>45.462163</td>\n",
              "    </tr>\n",
              "    <tr>\n",
              "      <th>min</th>\n",
              "      <td>1.000000</td>\n",
              "      <td>0.000000</td>\n",
              "      <td>4.000000</td>\n",
              "      <td>0.000000</td>\n",
              "      <td>0.000000</td>\n",
              "      <td>0.000000</td>\n",
              "      <td>61.940000</td>\n",
              "    </tr>\n",
              "    <tr>\n",
              "      <th>25%</th>\n",
              "      <td>12.500000</td>\n",
              "      <td>3.000000</td>\n",
              "      <td>9.000000</td>\n",
              "      <td>3.000000</td>\n",
              "      <td>3.000000</td>\n",
              "      <td>1.000000</td>\n",
              "      <td>119.875000</td>\n",
              "    </tr>\n",
              "    <tr>\n",
              "      <th>50%</th>\n",
              "      <td>24.000000</td>\n",
              "      <td>4.000000</td>\n",
              "      <td>13.000000</td>\n",
              "      <td>5.000000</td>\n",
              "      <td>5.000000</td>\n",
              "      <td>2.000000</td>\n",
              "      <td>150.510000</td>\n",
              "    </tr>\n",
              "    <tr>\n",
              "      <th>75%</th>\n",
              "      <td>36.500000</td>\n",
              "      <td>6.000000</td>\n",
              "      <td>16.500000</td>\n",
              "      <td>8.000000</td>\n",
              "      <td>8.000000</td>\n",
              "      <td>2.000000</td>\n",
              "      <td>179.020000</td>\n",
              "    </tr>\n",
              "    <tr>\n",
              "      <th>max</th>\n",
              "      <td>48.000000</td>\n",
              "      <td>9.000000</td>\n",
              "      <td>25.000000</td>\n",
              "      <td>28.000000</td>\n",
              "      <td>13.000000</td>\n",
              "      <td>4.000000</td>\n",
              "      <td>240.870000</td>\n",
              "    </tr>\n",
              "  </tbody>\n",
              "</table>\n",
              "</div>"
            ],
            "text/plain": [
              "               t  Bread Sand Sold  ...  Fruit Cup Sold      Sales \n",
              "count  47.000000        47.000000  ...       47.000000   47.000000\n",
              "mean   24.297872         4.702128  ...        1.702128  148.221702\n",
              "std    14.080382         2.235240  ...        1.159364   45.462163\n",
              "min     1.000000         0.000000  ...        0.000000   61.940000\n",
              "25%    12.500000         3.000000  ...        1.000000  119.875000\n",
              "50%    24.000000         4.000000  ...        2.000000  150.510000\n",
              "75%    36.500000         6.000000  ...        2.000000  179.020000\n",
              "max    48.000000         9.000000  ...        4.000000  240.870000\n",
              "\n",
              "[8 rows x 7 columns]"
            ]
          },
          "metadata": {
            "tags": []
          },
          "execution_count": 16
        }
      ]
    },
    {
      "cell_type": "markdown",
      "metadata": {
        "id": "ypg2ioipAfid"
      },
      "source": [
        "# K-mean"
      ]
    },
    {
      "cell_type": "code",
      "metadata": {
        "id": "z1Rr3s-UAdaB"
      },
      "source": [
        "from sklearn.cluster import KMeans"
      ],
      "execution_count": 6,
      "outputs": []
    },
    {
      "cell_type": "code",
      "metadata": {
        "id": "_19GkcIiAhcr"
      },
      "source": [
        "def my_kmean(X):\r\n",
        "    KMclust = KMeans(n_clusters=3,random_state=10)\r\n",
        "    KMclust.fit(X)\r\n",
        "    label = KMclust.predict(X)\r\n",
        "    return label"
      ],
      "execution_count": 7,
      "outputs": []
    },
    {
      "cell_type": "code",
      "metadata": {
        "colab": {
          "base_uri": "https://localhost:8080/"
        },
        "id": "wtFYrsbwAjjD",
        "outputId": "ddd984ac-c9da-4921-98c1-9d20d692b945"
      },
      "source": [
        "presales = my_kmean(cafe_df[[' Sales ']])\r\n",
        "presales"
      ],
      "execution_count": 17,
      "outputs": [
        {
          "output_type": "execute_result",
          "data": {
            "text/plain": [
              "array([1, 1, 0, 2, 0, 1, 2, 1, 0, 2, 2, 2, 1, 0, 0, 1, 2, 1, 0, 2, 1, 2,\n",
              "       1, 2, 2, 1, 2, 1, 0, 2, 1, 2, 2, 2, 2, 2, 2, 0, 2, 2, 2, 2, 0, 0,\n",
              "       1, 2, 2], dtype=int32)"
            ]
          },
          "metadata": {
            "tags": []
          },
          "execution_count": 17
        }
      ]
    },
    {
      "cell_type": "code",
      "metadata": {
        "colab": {
          "base_uri": "https://localhost:8080/"
        },
        "id": "kQ_0LlkXAn_H",
        "outputId": "21ac8bc0-91c5-47f3-8d4e-e1a335720ce4"
      },
      "source": [
        "prebread = my_kmean(cafe_df[['Bread Sand Sold']])\r\n",
        "prebread"
      ],
      "execution_count": 18,
      "outputs": [
        {
          "output_type": "execute_result",
          "data": {
            "text/plain": [
              "array([0, 1, 1, 0, 0, 1, 1, 2, 0, 2, 0, 0, 1, 2, 0, 1, 1, 1, 2, 0, 1, 1,\n",
              "       0, 0, 1, 1, 1, 0, 2, 0, 1, 0, 0, 1, 1, 0, 0, 2, 0, 1, 0, 1, 2, 2,\n",
              "       1, 0, 0], dtype=int32)"
            ]
          },
          "metadata": {
            "tags": []
          },
          "execution_count": 18
        }
      ]
    },
    {
      "cell_type": "code",
      "metadata": {
        "colab": {
          "base_uri": "https://localhost:8080/"
        },
        "id": "Hk4hlUiDB5TQ",
        "outputId": "437a81d8-0bab-492e-e843-88c0427b3e3e"
      },
      "source": [
        "prewraps = my_kmean(cafe_df[['Wraps Sold']])\r\n",
        "prewraps"
      ],
      "execution_count": 19,
      "outputs": [
        {
          "output_type": "execute_result",
          "data": {
            "text/plain": [
              "array([2, 0, 1, 0, 0, 0, 2, 0, 0, 1, 0, 1, 1, 0, 1, 1, 1, 2, 0, 1, 2, 0,\n",
              "       2, 0, 1, 2, 1, 2, 0, 0, 2, 1, 1, 1, 2, 1, 1, 0, 1, 1, 0, 2, 0, 0,\n",
              "       2, 1, 1], dtype=int32)"
            ]
          },
          "metadata": {
            "tags": []
          },
          "execution_count": 19
        }
      ]
    },
    {
      "cell_type": "code",
      "metadata": {
        "colab": {
          "base_uri": "https://localhost:8080/"
        },
        "id": "zwYUtHjtB99o",
        "outputId": "0243585e-5b70-4804-f2f5-a263169e3e3f"
      },
      "source": [
        "premuffins = my_kmean(cafe_df[['Muffins Sold']])\r\n",
        "premuffins"
      ],
      "execution_count": 20,
      "outputs": [
        {
          "output_type": "execute_result",
          "data": {
            "text/plain": [
              "array([0, 0, 0, 0, 1, 0, 0, 0, 0, 0, 0, 0, 1, 0, 0, 1, 0, 1, 0, 0, 0, 1,\n",
              "       1, 0, 1, 1, 0, 1, 2, 0, 1, 1, 0, 0, 0, 0, 0, 0, 0, 1, 1, 0, 0, 0,\n",
              "       1, 0, 0], dtype=int32)"
            ]
          },
          "metadata": {
            "tags": []
          },
          "execution_count": 20
        }
      ]
    },
    {
      "cell_type": "code",
      "metadata": {
        "colab": {
          "base_uri": "https://localhost:8080/"
        },
        "id": "W4HnmLopCExf",
        "outputId": "13efbbb1-8438-4979-9dd4-41afa53680aa"
      },
      "source": [
        "precookies = my_kmean(cafe_df[['Cookies Sold']])\r\n",
        "precookies"
      ],
      "execution_count": 21,
      "outputs": [
        {
          "output_type": "execute_result",
          "data": {
            "text/plain": [
              "array([0, 1, 1, 1, 1, 0, 2, 1, 1, 0, 0, 0, 2, 1, 2, 2, 0, 2, 1, 2, 1, 2,\n",
              "       2, 0, 0, 2, 0, 0, 2, 0, 2, 2, 2, 0, 2, 0, 0, 1, 1, 0, 0, 1, 0, 1,\n",
              "       2, 2, 0], dtype=int32)"
            ]
          },
          "metadata": {
            "tags": []
          },
          "execution_count": 21
        }
      ]
    },
    {
      "cell_type": "code",
      "metadata": {
        "colab": {
          "base_uri": "https://localhost:8080/"
        },
        "id": "kZWJ5B2ACKiX",
        "outputId": "0d640ade-3f6b-41fe-8bad-14e483f71b7d"
      },
      "source": [
        "prefruit = my_kmean(cafe_df[['Fruit Cup Sold']])\r\n",
        "prefruit"
      ],
      "execution_count": 22,
      "outputs": [
        {
          "output_type": "execute_result",
          "data": {
            "text/plain": [
              "array([0, 0, 0, 1, 2, 2, 2, 0, 0, 2, 0, 2, 1, 0, 0, 2, 0, 2, 2, 2, 1, 0,\n",
              "       1, 0, 0, 1, 0, 1, 0, 2, 2, 1, 2, 2, 0, 0, 1, 0, 2, 2, 2, 2, 0, 0,\n",
              "       1, 1, 0], dtype=int32)"
            ]
          },
          "metadata": {
            "tags": []
          },
          "execution_count": 22
        }
      ]
    },
    {
      "cell_type": "code",
      "metadata": {
        "colab": {
          "base_uri": "https://localhost:8080/",
          "height": 195
        },
        "id": "i4kXN-2KCQ6z",
        "outputId": "22f52635-1767-49e0-b063-38b2cc389580"
      },
      "source": [
        "table_kmean = pd.DataFrame(presales,columns=['Group of Sales'])\r\n",
        "table_kmean['Group of Bread Sand Sold'] = prebread\r\n",
        "table_kmean['Group of Wraps Sold'] = prewraps\r\n",
        "table_kmean['Group of Muffins Sold'] = premuffins\r\n",
        "table_kmean['Group of Cookies Sold'] = precookies \r\n",
        "table_kmean['Group of Fruit Cup Sold'] = prefruit\r\n",
        "table_kmean.head()"
      ],
      "execution_count": 24,
      "outputs": [
        {
          "output_type": "execute_result",
          "data": {
            "text/html": [
              "<div>\n",
              "<style scoped>\n",
              "    .dataframe tbody tr th:only-of-type {\n",
              "        vertical-align: middle;\n",
              "    }\n",
              "\n",
              "    .dataframe tbody tr th {\n",
              "        vertical-align: top;\n",
              "    }\n",
              "\n",
              "    .dataframe thead th {\n",
              "        text-align: right;\n",
              "    }\n",
              "</style>\n",
              "<table border=\"1\" class=\"dataframe\">\n",
              "  <thead>\n",
              "    <tr style=\"text-align: right;\">\n",
              "      <th></th>\n",
              "      <th>Group of Sales</th>\n",
              "      <th>Group of Bread Sand Sold</th>\n",
              "      <th>Group of Wraps Sold</th>\n",
              "      <th>Group of Muffins Sold</th>\n",
              "      <th>Group of Cookies Sold</th>\n",
              "      <th>Group of Fruit Cup Sold</th>\n",
              "    </tr>\n",
              "  </thead>\n",
              "  <tbody>\n",
              "    <tr>\n",
              "      <th>0</th>\n",
              "      <td>1</td>\n",
              "      <td>0</td>\n",
              "      <td>2</td>\n",
              "      <td>0</td>\n",
              "      <td>0</td>\n",
              "      <td>0</td>\n",
              "    </tr>\n",
              "    <tr>\n",
              "      <th>1</th>\n",
              "      <td>1</td>\n",
              "      <td>1</td>\n",
              "      <td>0</td>\n",
              "      <td>0</td>\n",
              "      <td>1</td>\n",
              "      <td>0</td>\n",
              "    </tr>\n",
              "    <tr>\n",
              "      <th>2</th>\n",
              "      <td>0</td>\n",
              "      <td>1</td>\n",
              "      <td>1</td>\n",
              "      <td>0</td>\n",
              "      <td>1</td>\n",
              "      <td>0</td>\n",
              "    </tr>\n",
              "    <tr>\n",
              "      <th>3</th>\n",
              "      <td>2</td>\n",
              "      <td>0</td>\n",
              "      <td>0</td>\n",
              "      <td>0</td>\n",
              "      <td>1</td>\n",
              "      <td>1</td>\n",
              "    </tr>\n",
              "    <tr>\n",
              "      <th>4</th>\n",
              "      <td>0</td>\n",
              "      <td>0</td>\n",
              "      <td>0</td>\n",
              "      <td>1</td>\n",
              "      <td>1</td>\n",
              "      <td>2</td>\n",
              "    </tr>\n",
              "  </tbody>\n",
              "</table>\n",
              "</div>"
            ],
            "text/plain": [
              "   Group of Sales  ...  Group of Fruit Cup Sold\n",
              "0               1  ...                        0\n",
              "1               1  ...                        0\n",
              "2               0  ...                        0\n",
              "3               2  ...                        1\n",
              "4               0  ...                        2\n",
              "\n",
              "[5 rows x 6 columns]"
            ]
          },
          "metadata": {
            "tags": []
          },
          "execution_count": 24
        }
      ]
    },
    {
      "cell_type": "code",
      "metadata": {
        "colab": {
          "base_uri": "https://localhost:8080/",
          "height": 212
        },
        "id": "VPTk6Q88CzBv",
        "outputId": "03991494-0250-40f4-ff57-4910d98c9746"
      },
      "source": [
        "table_total = cafe_df[['Bread Sand Sold','Wraps Sold','Muffins Sold','Cookies Sold','Fruit Cup Sold',' Sales ']]\r\n",
        "table_total['Group of Sales'] = presales\r\n",
        "table_total['Group of Bread Sand Sold'] = prebread\r\n",
        "table_total['Group of Wraps Sold'] = prewraps\r\n",
        "table_total['Group of Muffins Sold'] = premuffins\r\n",
        "table_total['Group of Cookies Sold'] = precookies \r\n",
        "table_total['Group of Fruit Cup Sold'] = prefruit\r\n",
        "table_total.head()"
      ],
      "execution_count": 25,
      "outputs": [
        {
          "output_type": "execute_result",
          "data": {
            "text/html": [
              "<div>\n",
              "<style scoped>\n",
              "    .dataframe tbody tr th:only-of-type {\n",
              "        vertical-align: middle;\n",
              "    }\n",
              "\n",
              "    .dataframe tbody tr th {\n",
              "        vertical-align: top;\n",
              "    }\n",
              "\n",
              "    .dataframe thead th {\n",
              "        text-align: right;\n",
              "    }\n",
              "</style>\n",
              "<table border=\"1\" class=\"dataframe\">\n",
              "  <thead>\n",
              "    <tr style=\"text-align: right;\">\n",
              "      <th></th>\n",
              "      <th>Bread Sand Sold</th>\n",
              "      <th>Wraps Sold</th>\n",
              "      <th>Muffins Sold</th>\n",
              "      <th>Cookies Sold</th>\n",
              "      <th>Fruit Cup Sold</th>\n",
              "      <th>Sales</th>\n",
              "      <th>Group of Sales</th>\n",
              "      <th>Group of Bread Sand Sold</th>\n",
              "      <th>Group of Wraps Sold</th>\n",
              "      <th>Group of Muffins Sold</th>\n",
              "      <th>Group of Cookies Sold</th>\n",
              "      <th>Group of Fruit Cup Sold</th>\n",
              "    </tr>\n",
              "  </thead>\n",
              "  <tbody>\n",
              "    <tr>\n",
              "      <th>0</th>\n",
              "      <td>5.0</td>\n",
              "      <td>25.0</td>\n",
              "      <td>5.0</td>\n",
              "      <td>5.0</td>\n",
              "      <td>1.0</td>\n",
              "      <td>199.95</td>\n",
              "      <td>1</td>\n",
              "      <td>0</td>\n",
              "      <td>2</td>\n",
              "      <td>0</td>\n",
              "      <td>0</td>\n",
              "      <td>0</td>\n",
              "    </tr>\n",
              "    <tr>\n",
              "      <th>1</th>\n",
              "      <td>6.0</td>\n",
              "      <td>7.0</td>\n",
              "      <td>3.0</td>\n",
              "      <td>1.0</td>\n",
              "      <td>0.0</td>\n",
              "      <td>195.74</td>\n",
              "      <td>1</td>\n",
              "      <td>1</td>\n",
              "      <td>0</td>\n",
              "      <td>0</td>\n",
              "      <td>1</td>\n",
              "      <td>0</td>\n",
              "    </tr>\n",
              "    <tr>\n",
              "      <th>2</th>\n",
              "      <td>8.0</td>\n",
              "      <td>14.0</td>\n",
              "      <td>4.0</td>\n",
              "      <td>1.0</td>\n",
              "      <td>0.0</td>\n",
              "      <td>102.68</td>\n",
              "      <td>0</td>\n",
              "      <td>1</td>\n",
              "      <td>1</td>\n",
              "      <td>0</td>\n",
              "      <td>1</td>\n",
              "      <td>0</td>\n",
              "    </tr>\n",
              "    <tr>\n",
              "      <th>3</th>\n",
              "      <td>4.0</td>\n",
              "      <td>5.0</td>\n",
              "      <td>5.0</td>\n",
              "      <td>3.0</td>\n",
              "      <td>3.0</td>\n",
              "      <td>162.88</td>\n",
              "      <td>2</td>\n",
              "      <td>0</td>\n",
              "      <td>0</td>\n",
              "      <td>0</td>\n",
              "      <td>1</td>\n",
              "      <td>1</td>\n",
              "    </tr>\n",
              "    <tr>\n",
              "      <th>4</th>\n",
              "      <td>3.0</td>\n",
              "      <td>10.0</td>\n",
              "      <td>8.0</td>\n",
              "      <td>3.0</td>\n",
              "      <td>2.0</td>\n",
              "      <td>101.76</td>\n",
              "      <td>0</td>\n",
              "      <td>0</td>\n",
              "      <td>0</td>\n",
              "      <td>1</td>\n",
              "      <td>1</td>\n",
              "      <td>2</td>\n",
              "    </tr>\n",
              "  </tbody>\n",
              "</table>\n",
              "</div>"
            ],
            "text/plain": [
              "   Bread Sand Sold  Wraps Sold  ...  Group of Cookies Sold  Group of Fruit Cup Sold\n",
              "0              5.0        25.0  ...                      0                        0\n",
              "1              6.0         7.0  ...                      1                        0\n",
              "2              8.0        14.0  ...                      1                        0\n",
              "3              4.0         5.0  ...                      1                        1\n",
              "4              3.0        10.0  ...                      1                        2\n",
              "\n",
              "[5 rows x 12 columns]"
            ]
          },
          "metadata": {
            "tags": []
          },
          "execution_count": 25
        }
      ]
    },
    {
      "cell_type": "markdown",
      "metadata": {
        "id": "1yirvIkhDhnc"
      },
      "source": [
        "# Definition of Group K-mean"
      ]
    },
    {
      "cell_type": "code",
      "metadata": {
        "colab": {
          "base_uri": "https://localhost:8080/",
          "height": 301
        },
        "id": "Ezifmx4_DZtj",
        "outputId": "c0e7bafb-ec18-4d7b-a52c-68f3c1ce1fc9"
      },
      "source": [
        "table_total[table_total['Group of Fruit Cup Sold']==2].describe()"
      ],
      "execution_count": 52,
      "outputs": [
        {
          "output_type": "execute_result",
          "data": {
            "text/html": [
              "<div>\n",
              "<style scoped>\n",
              "    .dataframe tbody tr th:only-of-type {\n",
              "        vertical-align: middle;\n",
              "    }\n",
              "\n",
              "    .dataframe tbody tr th {\n",
              "        vertical-align: top;\n",
              "    }\n",
              "\n",
              "    .dataframe thead th {\n",
              "        text-align: right;\n",
              "    }\n",
              "</style>\n",
              "<table border=\"1\" class=\"dataframe\">\n",
              "  <thead>\n",
              "    <tr style=\"text-align: right;\">\n",
              "      <th></th>\n",
              "      <th>Bread Sand Sold</th>\n",
              "      <th>Wraps Sold</th>\n",
              "      <th>Muffins Sold</th>\n",
              "      <th>Cookies Sold</th>\n",
              "      <th>Fruit Cup Sold</th>\n",
              "      <th>Sales</th>\n",
              "      <th>Group of Sales</th>\n",
              "      <th>Group of Bread Sand Sold</th>\n",
              "      <th>Group of Wraps Sold</th>\n",
              "      <th>Group of Muffins Sold</th>\n",
              "      <th>Group of Cookies Sold</th>\n",
              "      <th>Group of Fruit Cup Sold</th>\n",
              "    </tr>\n",
              "  </thead>\n",
              "  <tbody>\n",
              "    <tr>\n",
              "      <th>count</th>\n",
              "      <td>17.000000</td>\n",
              "      <td>17.000000</td>\n",
              "      <td>17.000000</td>\n",
              "      <td>17.000000</td>\n",
              "      <td>17.0</td>\n",
              "      <td>17.000000</td>\n",
              "      <td>17.000000</td>\n",
              "      <td>17.000000</td>\n",
              "      <td>17.000000</td>\n",
              "      <td>17.000000</td>\n",
              "      <td>17.000000</td>\n",
              "      <td>17.0</td>\n",
              "    </tr>\n",
              "    <tr>\n",
              "      <th>mean</th>\n",
              "      <td>5.058824</td>\n",
              "      <td>13.411765</td>\n",
              "      <td>5.647059</td>\n",
              "      <td>5.705882</td>\n",
              "      <td>2.0</td>\n",
              "      <td>148.432353</td>\n",
              "      <td>1.529412</td>\n",
              "      <td>0.705882</td>\n",
              "      <td>0.941176</td>\n",
              "      <td>0.352941</td>\n",
              "      <td>0.941176</td>\n",
              "      <td>2.0</td>\n",
              "    </tr>\n",
              "    <tr>\n",
              "      <th>std</th>\n",
              "      <td>2.192903</td>\n",
              "      <td>4.848438</td>\n",
              "      <td>3.408467</td>\n",
              "      <td>2.663755</td>\n",
              "      <td>0.0</td>\n",
              "      <td>34.492337</td>\n",
              "      <td>0.717430</td>\n",
              "      <td>0.685994</td>\n",
              "      <td>0.747545</td>\n",
              "      <td>0.492592</td>\n",
              "      <td>0.899346</td>\n",
              "      <td>0.0</td>\n",
              "    </tr>\n",
              "    <tr>\n",
              "      <th>min</th>\n",
              "      <td>2.000000</td>\n",
              "      <td>4.000000</td>\n",
              "      <td>0.000000</td>\n",
              "      <td>2.000000</td>\n",
              "      <td>2.0</td>\n",
              "      <td>75.870000</td>\n",
              "      <td>0.000000</td>\n",
              "      <td>0.000000</td>\n",
              "      <td>0.000000</td>\n",
              "      <td>0.000000</td>\n",
              "      <td>0.000000</td>\n",
              "      <td>2.0</td>\n",
              "    </tr>\n",
              "    <tr>\n",
              "      <th>25%</th>\n",
              "      <td>3.000000</td>\n",
              "      <td>10.000000</td>\n",
              "      <td>3.000000</td>\n",
              "      <td>4.000000</td>\n",
              "      <td>2.0</td>\n",
              "      <td>128.590000</td>\n",
              "      <td>1.000000</td>\n",
              "      <td>0.000000</td>\n",
              "      <td>0.000000</td>\n",
              "      <td>0.000000</td>\n",
              "      <td>0.000000</td>\n",
              "      <td>2.0</td>\n",
              "    </tr>\n",
              "    <tr>\n",
              "      <th>50%</th>\n",
              "      <td>4.000000</td>\n",
              "      <td>14.000000</td>\n",
              "      <td>6.000000</td>\n",
              "      <td>5.000000</td>\n",
              "      <td>2.0</td>\n",
              "      <td>150.510000</td>\n",
              "      <td>2.000000</td>\n",
              "      <td>1.000000</td>\n",
              "      <td>1.000000</td>\n",
              "      <td>0.000000</td>\n",
              "      <td>1.000000</td>\n",
              "      <td>2.0</td>\n",
              "    </tr>\n",
              "    <tr>\n",
              "      <th>75%</th>\n",
              "      <td>7.000000</td>\n",
              "      <td>17.000000</td>\n",
              "      <td>8.000000</td>\n",
              "      <td>8.000000</td>\n",
              "      <td>2.0</td>\n",
              "      <td>168.080000</td>\n",
              "      <td>2.000000</td>\n",
              "      <td>1.000000</td>\n",
              "      <td>1.000000</td>\n",
              "      <td>1.000000</td>\n",
              "      <td>2.000000</td>\n",
              "      <td>2.0</td>\n",
              "    </tr>\n",
              "    <tr>\n",
              "      <th>max</th>\n",
              "      <td>8.000000</td>\n",
              "      <td>21.000000</td>\n",
              "      <td>12.000000</td>\n",
              "      <td>10.000000</td>\n",
              "      <td>2.0</td>\n",
              "      <td>217.290000</td>\n",
              "      <td>2.000000</td>\n",
              "      <td>2.000000</td>\n",
              "      <td>2.000000</td>\n",
              "      <td>1.000000</td>\n",
              "      <td>2.000000</td>\n",
              "      <td>2.0</td>\n",
              "    </tr>\n",
              "  </tbody>\n",
              "</table>\n",
              "</div>"
            ],
            "text/plain": [
              "       Bread Sand Sold  ...  Group of Fruit Cup Sold\n",
              "count        17.000000  ...                     17.0\n",
              "mean          5.058824  ...                      2.0\n",
              "std           2.192903  ...                      0.0\n",
              "min           2.000000  ...                      2.0\n",
              "25%           3.000000  ...                      2.0\n",
              "50%           4.000000  ...                      2.0\n",
              "75%           7.000000  ...                      2.0\n",
              "max           8.000000  ...                      2.0\n",
              "\n",
              "[8 rows x 12 columns]"
            ]
          },
          "metadata": {
            "tags": []
          },
          "execution_count": 52
        }
      ]
    },
    {
      "cell_type": "code",
      "metadata": {
        "id": "LWz0G2fCDrtX"
      },
      "source": [
        ""
      ],
      "execution_count": null,
      "outputs": []
    },
    {
      "cell_type": "markdown",
      "metadata": {
        "id": "v-OhJxbpDw0J"
      },
      "source": [
        "# Split train and test"
      ]
    },
    {
      "cell_type": "code",
      "metadata": {
        "id": "HN19DchBDwoN"
      },
      "source": [
        "from sklearn.model_selection import train_test_split"
      ],
      "execution_count": 27,
      "outputs": []
    },
    {
      "cell_type": "code",
      "metadata": {
        "id": "BvQc-k6HD1CD"
      },
      "source": [
        "X_train, X_test, y_train, y_test = train_test_split(table_kmean[['Group of Bread Sand Sold','Group of Wraps Sold','Group of Muffins Sold','Group of Cookies Sold','Group of Fruit Cup Sold']],table_kmean['Group of Sales'],test_size=0.1, random_state=6)\r\n",
        "X = table_kmean[['Group of Bread Sand Sold','Group of Wraps Sold','Group of Muffins Sold','Group of Cookies Sold','Group of Fruit Cup Sold']]"
      ],
      "execution_count": 30,
      "outputs": []
    },
    {
      "cell_type": "markdown",
      "metadata": {
        "id": "i8jGc40nEakZ"
      },
      "source": [
        "# RF"
      ]
    },
    {
      "cell_type": "code",
      "metadata": {
        "colab": {
          "base_uri": "https://localhost:8080/"
        },
        "id": "Qh9GU18cEOpP",
        "outputId": "fd93ede2-1bc9-4495-e93e-22167775c101"
      },
      "source": [
        "from sklearn.ensemble import RandomForestClassifier\r\n",
        "skRF = RandomForestClassifier()\r\n",
        "skRF.fit(X_train, y_train)\r\n",
        "skRF.score(X_test,y_test)"
      ],
      "execution_count": 31,
      "outputs": [
        {
          "output_type": "execute_result",
          "data": {
            "text/plain": [
              "0.8"
            ]
          },
          "metadata": {
            "tags": []
          },
          "execution_count": 31
        }
      ]
    },
    {
      "cell_type": "markdown",
      "metadata": {
        "id": "zFuAe2noLFpq"
      },
      "source": [
        "![food1.PNG](data:image/png;base64,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)"
      ]
    },
    {
      "cell_type": "markdown",
      "metadata": {
        "id": "1c2dyNZQLPsh"
      },
      "source": [
        "![food2.PNG](data:image/png;base64,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)"
      ]
    },
    {
      "cell_type": "code",
      "metadata": {
        "colab": {
          "base_uri": "https://localhost:8080/",
          "height": 343
        },
        "id": "CrCdNhtfEb-T",
        "outputId": "b12fe893-3df7-49a2-fc4b-a66d4dd1a994"
      },
      "source": [
        "table_kmean['Predict Group of Sales'] = skRF.predict(X)\r\n",
        "table_kmean.head(10)"
      ],
      "execution_count": 32,
      "outputs": [
        {
          "output_type": "execute_result",
          "data": {
            "text/html": [
              "<div>\n",
              "<style scoped>\n",
              "    .dataframe tbody tr th:only-of-type {\n",
              "        vertical-align: middle;\n",
              "    }\n",
              "\n",
              "    .dataframe tbody tr th {\n",
              "        vertical-align: top;\n",
              "    }\n",
              "\n",
              "    .dataframe thead th {\n",
              "        text-align: right;\n",
              "    }\n",
              "</style>\n",
              "<table border=\"1\" class=\"dataframe\">\n",
              "  <thead>\n",
              "    <tr style=\"text-align: right;\">\n",
              "      <th></th>\n",
              "      <th>Group of Sales</th>\n",
              "      <th>Group of Bread Sand Sold</th>\n",
              "      <th>Group of Wraps Sold</th>\n",
              "      <th>Group of Muffins Sold</th>\n",
              "      <th>Group of Cookies Sold</th>\n",
              "      <th>Group of Fruit Cup Sold</th>\n",
              "      <th>Predict Group of Sales</th>\n",
              "    </tr>\n",
              "  </thead>\n",
              "  <tbody>\n",
              "    <tr>\n",
              "      <th>0</th>\n",
              "      <td>1</td>\n",
              "      <td>0</td>\n",
              "      <td>2</td>\n",
              "      <td>0</td>\n",
              "      <td>0</td>\n",
              "      <td>0</td>\n",
              "      <td>1</td>\n",
              "    </tr>\n",
              "    <tr>\n",
              "      <th>1</th>\n",
              "      <td>1</td>\n",
              "      <td>1</td>\n",
              "      <td>0</td>\n",
              "      <td>0</td>\n",
              "      <td>1</td>\n",
              "      <td>0</td>\n",
              "      <td>1</td>\n",
              "    </tr>\n",
              "    <tr>\n",
              "      <th>2</th>\n",
              "      <td>0</td>\n",
              "      <td>1</td>\n",
              "      <td>1</td>\n",
              "      <td>0</td>\n",
              "      <td>1</td>\n",
              "      <td>0</td>\n",
              "      <td>0</td>\n",
              "    </tr>\n",
              "    <tr>\n",
              "      <th>3</th>\n",
              "      <td>2</td>\n",
              "      <td>0</td>\n",
              "      <td>0</td>\n",
              "      <td>0</td>\n",
              "      <td>1</td>\n",
              "      <td>1</td>\n",
              "      <td>2</td>\n",
              "    </tr>\n",
              "    <tr>\n",
              "      <th>4</th>\n",
              "      <td>0</td>\n",
              "      <td>0</td>\n",
              "      <td>0</td>\n",
              "      <td>1</td>\n",
              "      <td>1</td>\n",
              "      <td>2</td>\n",
              "      <td>0</td>\n",
              "    </tr>\n",
              "    <tr>\n",
              "      <th>5</th>\n",
              "      <td>1</td>\n",
              "      <td>1</td>\n",
              "      <td>0</td>\n",
              "      <td>0</td>\n",
              "      <td>0</td>\n",
              "      <td>2</td>\n",
              "      <td>1</td>\n",
              "    </tr>\n",
              "    <tr>\n",
              "      <th>6</th>\n",
              "      <td>2</td>\n",
              "      <td>1</td>\n",
              "      <td>2</td>\n",
              "      <td>0</td>\n",
              "      <td>2</td>\n",
              "      <td>2</td>\n",
              "      <td>2</td>\n",
              "    </tr>\n",
              "    <tr>\n",
              "      <th>7</th>\n",
              "      <td>1</td>\n",
              "      <td>2</td>\n",
              "      <td>0</td>\n",
              "      <td>0</td>\n",
              "      <td>1</td>\n",
              "      <td>0</td>\n",
              "      <td>0</td>\n",
              "    </tr>\n",
              "    <tr>\n",
              "      <th>8</th>\n",
              "      <td>0</td>\n",
              "      <td>0</td>\n",
              "      <td>0</td>\n",
              "      <td>0</td>\n",
              "      <td>1</td>\n",
              "      <td>0</td>\n",
              "      <td>0</td>\n",
              "    </tr>\n",
              "    <tr>\n",
              "      <th>9</th>\n",
              "      <td>2</td>\n",
              "      <td>2</td>\n",
              "      <td>1</td>\n",
              "      <td>0</td>\n",
              "      <td>0</td>\n",
              "      <td>2</td>\n",
              "      <td>2</td>\n",
              "    </tr>\n",
              "  </tbody>\n",
              "</table>\n",
              "</div>"
            ],
            "text/plain": [
              "   Group of Sales  ...  Predict Group of Sales\n",
              "0               1  ...                       1\n",
              "1               1  ...                       1\n",
              "2               0  ...                       0\n",
              "3               2  ...                       2\n",
              "4               0  ...                       0\n",
              "5               1  ...                       1\n",
              "6               2  ...                       2\n",
              "7               1  ...                       0\n",
              "8               0  ...                       0\n",
              "9               2  ...                       2\n",
              "\n",
              "[10 rows x 7 columns]"
            ]
          },
          "metadata": {
            "tags": []
          },
          "execution_count": 32
        }
      ]
    },
    {
      "cell_type": "code",
      "metadata": {
        "id": "vLFjJDrvEhZl"
      },
      "source": [
        ""
      ],
      "execution_count": null,
      "outputs": []
    }
  ]
}