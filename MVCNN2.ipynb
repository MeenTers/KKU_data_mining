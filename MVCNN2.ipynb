{
  "nbformat": 4,
  "nbformat_minor": 0,
  "metadata": {
    "colab": {
      "name": "MVCNN2.ipynb",
      "provenance": [],
      "authorship_tag": "ABX9TyP7D/X+g9xH4VpVVAug4oZB",
      "include_colab_link": true
    },
    "kernelspec": {
      "name": "python3",
      "display_name": "Python 3"
    },
    "language_info": {
      "name": "python"
    },
    "accelerator": "GPU"
  },
  "cells": [
    {
      "cell_type": "markdown",
      "metadata": {
        "id": "view-in-github",
        "colab_type": "text"
      },
      "source": [
        "<a href=\"https://colab.research.google.com/github/MeenTers/KKU_data_mining/blob/master/MVCNN2.ipynb\" target=\"_parent\"><img src=\"https://colab.research.google.com/assets/colab-badge.svg\" alt=\"Open In Colab\"/></a>"
      ]
    },
    {
      "cell_type": "markdown",
      "metadata": {
        "id": "ICS8IvLi5HB0"
      },
      "source": [
        "# Import Function"
      ]
    },
    {
      "cell_type": "code",
      "metadata": {
        "colab": {
          "base_uri": "https://localhost:8080/"
        },
        "id": "oKlEDgGEE3-C",
        "outputId": "3a4f42f6-7dcf-4551-e686-88ee150ec5c0"
      },
      "source": [
        "from google.colab import drive\n",
        "drive.mount('/content/drive')"
      ],
      "execution_count": 1,
      "outputs": [
        {
          "output_type": "stream",
          "name": "stdout",
          "text": [
            "Mounted at /content/drive\n"
          ]
        }
      ]
    },
    {
      "cell_type": "code",
      "metadata": {
        "id": "aqumVaaXFa0D"
      },
      "source": [
        "import numpy as np\n",
        "import pandas as pd\n",
        "import matplotlib.pyplot as plt\n",
        "import sys\n",
        "import os\n",
        "import time\n",
        "from PIL import Image\n",
        "import cv2\n",
        "import csv\n",
        "import copy\n",
        "\n",
        "import glob\n",
        "\n",
        "import torch\n",
        "import torch.nn as nn\n",
        "import torch.optim as optim\n",
        "from torch.utils.data import Dataset, DataLoader\n",
        "from torch.utils.data.sampler import SubsetRandomSampler\n",
        "from sklearn.model_selection import StratifiedShuffleSplit\n",
        "from sklearn.metrics import make_scorer, accuracy_score\n",
        "\n",
        "from torchvision import models\n",
        "import torchvision.transforms as transforms\n",
        "\n",
        "\n",
        "import pickle\n",
        "\n",
        "import warnings\n",
        "warnings.filterwarnings('ignore')"
      ],
      "execution_count": 2,
      "outputs": []
    },
    {
      "cell_type": "code",
      "metadata": {
        "id": "xX9NvEPdFePT"
      },
      "source": [
        "data_dir = '/content/drive/MyDrive/Project_si/Class'\n",
        "\n",
        "# Image Processing Parameters \n",
        "BLUR = 21\n",
        "CANNY_THRESH_1 = 25\n",
        "CANNY_THRESH_2 = 150\n",
        "MASK_DILATE_ITER = 10\n",
        "MASK_ERODE_ITER = 10"
      ],
      "execution_count": 3,
      "outputs": []
    },
    {
      "cell_type": "code",
      "metadata": {
        "id": "DgX_mC7vFrr_"
      },
      "source": [
        "def preprocess(filename):\n",
        "    img = cv2.imread(filename)\n",
        "    imgResized = cv2.resize(img, (0, 0), fx = 0.1, fy = 0.1)\n",
        "    gray = cv2.cvtColor(imgResized, cv2.COLOR_BGR2GRAY)\n",
        "\n",
        "    #-- Edge detection -------------------------------------------------------------------\n",
        "    edges = cv2.Canny(gray, CANNY_THRESH_1, CANNY_THRESH_2)\n",
        "    edges = cv2.dilate(edges, None)\n",
        "    edges = cv2.erode(edges, None)\n",
        "    \n",
        "    #-- Find contours in edges, sort by area ---------------------------------------------\n",
        "    contour_info = []\n",
        "    contours, hierarchy = cv2.findContours(edges, cv2.RETR_LIST, cv2.CHAIN_APPROX_NONE)\n",
        "\n",
        "    for c in contours:\n",
        "        contour_info.append((\n",
        "            c,\n",
        "            cv2.isContourConvex(c),\n",
        "            cv2.contourArea(c),\n",
        "        ))\n",
        "    contour_info = sorted(contour_info, key=lambda c: c[2], reverse=True)\n",
        "    max_contour = contour_info[0]\n",
        "    \n",
        "    #-- Create empty mask, draw filled polygon on it corresponding to largest contour ----\n",
        "    # Mask is black, polygon is white\n",
        "    mask = np.zeros(edges.shape)\n",
        "    cv2.fillConvexPoly(mask, max_contour[0], (255))\n",
        "\n",
        "    #-- Smooth mask, then blur it --------------------------------------------------------\n",
        "    mask = cv2.dilate(mask, None, iterations=MASK_DILATE_ITER)\n",
        "    mask = cv2.erode(mask, None, iterations=MASK_ERODE_ITER)\n",
        "    mask = cv2.GaussianBlur(mask, (BLUR, BLUR), 0)\n",
        "\n",
        "    #-- Create final image ---------------------------------------------------------------\n",
        "    imgResized[mask <= 100] = 0\n",
        "    return imgResized"
      ],
      "execution_count": 4,
      "outputs": []
    },
    {
      "cell_type": "code",
      "metadata": {
        "colab": {
          "base_uri": "https://localhost:8080/",
          "height": 268
        },
        "id": "4-PkQx7nFyjh",
        "outputId": "b175c3f1-d40d-43a7-b114-f0d59753eec4"
      },
      "source": [
        "filename = '/content/drive/MyDrive/Project_si/Class/airplane/train/airplane_0001.off/airplane_0001.0.png'\n",
        "img = preprocess(filename)\n",
        "\n",
        "plt.imshow(img);"
      ],
      "execution_count": 5,
      "outputs": [
        {
          "output_type": "display_data",
          "data": {
            "image/png": "[encoded data removed]",
            "text/plain": [
              "<Figure size 432x288 with 1 Axes>"
            ]
          },
          "metadata": {
            "needs_background": "light"
          }
        }
      ]
    },
    {
      "cell_type": "code",
      "metadata": {
        "id": "GuAP3_5xGg-N"
      },
      "source": [
        "# Preprocess all images and Save them to a new directory `processed`\n",
        "\n",
        "filenames = glob.glob(os.path.join(data_dir, '*.JPG')) # list all image file names in the data folder\n",
        "proc_data_dir = '/content/drive/MyDrive/Project_si/Class/airplane/train'\n",
        "\n",
        "for fname in filenames:\n",
        "    img_name = os.path.basename(fname)\n",
        "    img = preprocess(fname)\n",
        "    cv2.imwrite(os.path.join(proc_data_dir, os.path.splitext(img_name)[0] + '_processed.png'), img)"
      ],
      "execution_count": 10,
      "outputs": []
    },
    {
      "cell_type": "code",
      "metadata": {
        "id": "go7qCJMHGiUE"
      },
      "source": [
        "# Function for visualizing a Car Plug (with all its 8 images)\n",
        "\n",
        "def show_plug(plug_name, data_dir, preprocess=None):\n",
        "    # Read Images\n",
        "    plug_fnames = glob.glob(os.path.join(data_dir, f'{plug_name}*.JPG'))\n",
        "    if preprocess:\n",
        "        plug_images = [preprocess(plug_fname) for plug_fname in plug_fnames]\n",
        "    else:\n",
        "        plug_images = [cv2.cvtColor(cv2.imread(plug_fname), cv2.COLOR_BGR2RGB) for plug_fname in plug_fnames]\n",
        "    # Visualize Images\n",
        "    plt.figure(figsize=(18,8))\n",
        "    for i in range(len(plug_images)):\n",
        "        plt.subplot(2, 4, i+1)\n",
        "        plt.imshow(plug_images[i])\n",
        "        plt.title(os.path.basename(plug_fnames[i]))\n",
        "        plt.xticks([])\n",
        "        plt.yticks([])\n",
        "        \n",
        "    plt.suptitle(f'Item: {plug_name}', size=20)"
      ],
      "execution_count": 12,
      "outputs": []
    },
    {
      "cell_type": "code",
      "metadata": {
        "colab": {
          "base_uri": "https://localhost:8080/",
          "height": 51
        },
        "id": "PqVTVjCPG5le",
        "outputId": "cc5eb8bf-4ed9-4bc8-ed66-b69d5e10fdde"
      },
      "source": [
        "# Example Visualization\n",
        "\n",
        "plug_name = 'ener1'\n",
        "show_plug(plug_name, data_dir)\n",
        "show_plug(plug_name, data_dir, preprocess=preprocess)"
      ],
      "execution_count": 13,
      "outputs": [
        {
          "output_type": "display_data",
          "data": {
            "text/plain": [
              "<Figure size 1296x576 with 0 Axes>"
            ]
          },
          "metadata": {}
        },
        {
          "output_type": "display_data",
          "data": {
            "text/plain": [
              "<Figure size 1296x576 with 0 Axes>"
            ]
          },
          "metadata": {}
        }
      ]
    },
    {
      "cell_type": "code",
      "metadata": {
        "id": "2FVTVafuHAix"
      },
      "source": [
        ""
      ],
      "execution_count": null,
      "outputs": []
    }
  ]
}