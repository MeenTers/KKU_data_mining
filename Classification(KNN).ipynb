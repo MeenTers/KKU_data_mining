{
  "nbformat": 4,
  "nbformat_minor": 0,
  "metadata": {
    "colab": {
      "name": "Classification(KNN).ipynb",
      "provenance": [],
      "authorship_tag": "ABX9TyMsxs6rwyJBg8av+nSjb6yU",
      "include_colab_link": true
    },
    "kernelspec": {
      "name": "python3",
      "display_name": "Python 3"
    }
  },
  "cells": [
    {
      "cell_type": "markdown",
      "metadata": {
        "id": "view-in-github",
        "colab_type": "text"
      },
      "source": [
        "<a href=\"https://colab.research.google.com/github/MeenTers/KKU_data_mining/blob/master/Classification(KNN).ipynb\" target=\"_parent\"><img src=\"https://colab.research.google.com/assets/colab-badge.svg\" alt=\"Open In Colab\"/></a>"
      ]
    },
    {
      "cell_type": "code",
      "metadata": {
        "id": "JcvVICtzwYby"
      },
      "source": [
        "from sklearn import datasets"
      ],
      "execution_count": 1,
      "outputs": []
    },
    {
      "cell_type": "code",
      "metadata": {
        "id": "ZcCE_0jHxryf"
      },
      "source": [
        "iris_data = datasets.load_iris()"
      ],
      "execution_count": 2,
      "outputs": []
    },
    {
      "cell_type": "code",
      "metadata": {
        "id": "qN9Nfnrox5Oo",
        "outputId": "b7f8c952-dba2-4e24-c74f-bfcf3aa14163",
        "colab": {
          "base_uri": "https://localhost:8080/",
          "height": 1000
        }
      },
      "source": [
        "iris_data"
      ],
      "execution_count": 3,
      "outputs": [
        {
          "output_type": "execute_result",
          "data": {
            "text/plain": [
              "{'DESCR': '.. _iris_dataset:\\n\\nIris plants dataset\\n--------------------\\n\\n**Data Set Characteristics:**\\n\\n    :Number of Instances: 150 (50 in each of three classes)\\n    :Number of Attributes: 4 numeric, predictive attributes and the class\\n    :Attribute Information:\\n        - sepal length in cm\\n        - sepal width in cm\\n        - petal length in cm\\n        - petal width in cm\\n        - class:\\n                - Iris-Setosa\\n                - Iris-Versicolour\\n                - Iris-Virginica\\n                \\n    :Summary Statistics:\\n\\n    ============== ==== ==== ======= ===== ====================\\n                    Min  Max   Mean    SD   Class Correlation\\n    ============== ==== ==== ======= ===== ====================\\n    sepal length:   4.3  7.9   5.84   0.83    0.7826\\n    sepal width:    2.0  4.4   3.05   0.43   -0.4194\\n    petal length:   1.0  6.9   3.76   1.76    0.9490  (high!)\\n    petal width:    0.1  2.5   1.20   0.76    0.9565  (high!)\\n    ============== ==== ==== ======= ===== ====================\\n\\n    :Missing Attribute Values: None\\n    :Class Distribution: 33.3% for each of 3 classes.\\n    :Creator: R.A. Fisher\\n    :Donor: Michael Marshall (MARSHALL%PLU@io.arc.nasa.gov)\\n    :Date: July, 1988\\n\\nThe famous Iris database, first used by Sir R.A. Fisher. The dataset is taken\\nfrom Fisher\\'s paper. Note that it\\'s the same as in R, but not as in the UCI\\nMachine Learning Repository, which has two wrong data points.\\n\\nThis is perhaps the best known database to be found in the\\npattern recognition literature.  Fisher\\'s paper is a classic in the field and\\nis referenced frequently to this day.  (See Duda & Hart, for example.)  The\\ndata set contains 3 classes of 50 instances each, where each class refers to a\\ntype of iris plant.  One class is linearly separable from the other 2; the\\nlatter are NOT linearly separable from each other.\\n\\n.. topic:: References\\n\\n   - Fisher, R.A. \"The use of multiple measurements in taxonomic problems\"\\n     Annual Eugenics, 7, Part II, 179-188 (1936); also in \"Contributions to\\n     Mathematical Statistics\" (John Wiley, NY, 1950).\\n   - Duda, R.O., & Hart, P.E. (1973) Pattern Classification and Scene Analysis.\\n     (Q327.D83) John Wiley & Sons.  ISBN 0-471-22361-1.  See page 218.\\n   - Dasarathy, B.V. (1980) \"Nosing Around the Neighborhood: A New System\\n     Structure and Classification Rule for Recognition in Partially Exposed\\n     Environments\".  IEEE Transactions on Pattern Analysis and Machine\\n     Intelligence, Vol. PAMI-2, No. 1, 67-71.\\n   - Gates, G.W. (1972) \"The Reduced Nearest Neighbor Rule\".  IEEE Transactions\\n     on Information Theory, May 1972, 431-433.\\n   - See also: 1988 MLC Proceedings, 54-64.  Cheeseman et al\"s AUTOCLASS II\\n     conceptual clustering system finds 3 classes in the data.\\n   - Many, many more ...',\n",
              " 'data': array([[5.1, 3.5, 1.4, 0.2],\n",
              "        [4.9, 3. , 1.4, 0.2],\n",
              "        [4.7, 3.2, 1.3, 0.2],\n",
              "        [4.6, 3.1, 1.5, 0.2],\n",
              "        [5. , 3.6, 1.4, 0.2],\n",
              "        [5.4, 3.9, 1.7, 0.4],\n",
              "        [4.6, 3.4, 1.4, 0.3],\n",
              "        [5. , 3.4, 1.5, 0.2],\n",
              "        [4.4, 2.9, 1.4, 0.2],\n",
              "        [4.9, 3.1, 1.5, 0.1],\n",
              "        [5.4, 3.7, 1.5, 0.2],\n",
              "        [4.8, 3.4, 1.6, 0.2],\n",
              "        [4.8, 3. , 1.4, 0.1],\n",
              "        [4.3, 3. , 1.1, 0.1],\n",
              "        [5.8, 4. , 1.2, 0.2],\n",
              "        [5.7, 4.4, 1.5, 0.4],\n",
              "        [5.4, 3.9, 1.3, 0.4],\n",
              "        [5.1, 3.5, 1.4, 0.3],\n",
              "        [5.7, 3.8, 1.7, 0.3],\n",
              "        [5.1, 3.8, 1.5, 0.3],\n",
              "        [5.4, 3.4, 1.7, 0.2],\n",
              "        [5.1, 3.7, 1.5, 0.4],\n",
              "        [4.6, 3.6, 1. , 0.2],\n",
              "        [5.1, 3.3, 1.7, 0.5],\n",
              "        [4.8, 3.4, 1.9, 0.2],\n",
              "        [5. , 3. , 1.6, 0.2],\n",
              "        [5. , 3.4, 1.6, 0.4],\n",
              "        [5.2, 3.5, 1.5, 0.2],\n",
              "        [5.2, 3.4, 1.4, 0.2],\n",
              "        [4.7, 3.2, 1.6, 0.2],\n",
              "        [4.8, 3.1, 1.6, 0.2],\n",
              "        [5.4, 3.4, 1.5, 0.4],\n",
              "        [5.2, 4.1, 1.5, 0.1],\n",
              "        [5.5, 4.2, 1.4, 0.2],\n",
              "        [4.9, 3.1, 1.5, 0.2],\n",
              "        [5. , 3.2, 1.2, 0.2],\n",
              "        [5.5, 3.5, 1.3, 0.2],\n",
              "        [4.9, 3.6, 1.4, 0.1],\n",
              "        [4.4, 3. , 1.3, 0.2],\n",
              "        [5.1, 3.4, 1.5, 0.2],\n",
              "        [5. , 3.5, 1.3, 0.3],\n",
              "        [4.5, 2.3, 1.3, 0.3],\n",
              "        [4.4, 3.2, 1.3, 0.2],\n",
              "        [5. , 3.5, 1.6, 0.6],\n",
              "        [5.1, 3.8, 1.9, 0.4],\n",
              "        [4.8, 3. , 1.4, 0.3],\n",
              "        [5.1, 3.8, 1.6, 0.2],\n",
              "        [4.6, 3.2, 1.4, 0.2],\n",
              "        [5.3, 3.7, 1.5, 0.2],\n",
              "        [5. , 3.3, 1.4, 0.2],\n",
              "        [7. , 3.2, 4.7, 1.4],\n",
              "        [6.4, 3.2, 4.5, 1.5],\n",
              "        [6.9, 3.1, 4.9, 1.5],\n",
              "        [5.5, 2.3, 4. , 1.3],\n",
              "        [6.5, 2.8, 4.6, 1.5],\n",
              "        [5.7, 2.8, 4.5, 1.3],\n",
              "        [6.3, 3.3, 4.7, 1.6],\n",
              "        [4.9, 2.4, 3.3, 1. ],\n",
              "        [6.6, 2.9, 4.6, 1.3],\n",
              "        [5.2, 2.7, 3.9, 1.4],\n",
              "        [5. , 2. , 3.5, 1. ],\n",
              "        [5.9, 3. , 4.2, 1.5],\n",
              "        [6. , 2.2, 4. , 1. ],\n",
              "        [6.1, 2.9, 4.7, 1.4],\n",
              "        [5.6, 2.9, 3.6, 1.3],\n",
              "        [6.7, 3.1, 4.4, 1.4],\n",
              "        [5.6, 3. , 4.5, 1.5],\n",
              "        [5.8, 2.7, 4.1, 1. ],\n",
              "        [6.2, 2.2, 4.5, 1.5],\n",
              "        [5.6, 2.5, 3.9, 1.1],\n",
              "        [5.9, 3.2, 4.8, 1.8],\n",
              "        [6.1, 2.8, 4. , 1.3],\n",
              "        [6.3, 2.5, 4.9, 1.5],\n",
              "        [6.1, 2.8, 4.7, 1.2],\n",
              "        [6.4, 2.9, 4.3, 1.3],\n",
              "        [6.6, 3. , 4.4, 1.4],\n",
              "        [6.8, 2.8, 4.8, 1.4],\n",
              "        [6.7, 3. , 5. , 1.7],\n",
              "        [6. , 2.9, 4.5, 1.5],\n",
              "        [5.7, 2.6, 3.5, 1. ],\n",
              "        [5.5, 2.4, 3.8, 1.1],\n",
              "        [5.5, 2.4, 3.7, 1. ],\n",
              "        [5.8, 2.7, 3.9, 1.2],\n",
              "        [6. , 2.7, 5.1, 1.6],\n",
              "        [5.4, 3. , 4.5, 1.5],\n",
              "        [6. , 3.4, 4.5, 1.6],\n",
              "        [6.7, 3.1, 4.7, 1.5],\n",
              "        [6.3, 2.3, 4.4, 1.3],\n",
              "        [5.6, 3. , 4.1, 1.3],\n",
              "        [5.5, 2.5, 4. , 1.3],\n",
              "        [5.5, 2.6, 4.4, 1.2],\n",
              "        [6.1, 3. , 4.6, 1.4],\n",
              "        [5.8, 2.6, 4. , 1.2],\n",
              "        [5. , 2.3, 3.3, 1. ],\n",
              "        [5.6, 2.7, 4.2, 1.3],\n",
              "        [5.7, 3. , 4.2, 1.2],\n",
              "        [5.7, 2.9, 4.2, 1.3],\n",
              "        [6.2, 2.9, 4.3, 1.3],\n",
              "        [5.1, 2.5, 3. , 1.1],\n",
              "        [5.7, 2.8, 4.1, 1.3],\n",
              "        [6.3, 3.3, 6. , 2.5],\n",
              "        [5.8, 2.7, 5.1, 1.9],\n",
              "        [7.1, 3. , 5.9, 2.1],\n",
              "        [6.3, 2.9, 5.6, 1.8],\n",
              "        [6.5, 3. , 5.8, 2.2],\n",
              "        [7.6, 3. , 6.6, 2.1],\n",
              "        [4.9, 2.5, 4.5, 1.7],\n",
              "        [7.3, 2.9, 6.3, 1.8],\n",
              "        [6.7, 2.5, 5.8, 1.8],\n",
              "        [7.2, 3.6, 6.1, 2.5],\n",
              "        [6.5, 3.2, 5.1, 2. ],\n",
              "        [6.4, 2.7, 5.3, 1.9],\n",
              "        [6.8, 3. , 5.5, 2.1],\n",
              "        [5.7, 2.5, 5. , 2. ],\n",
              "        [5.8, 2.8, 5.1, 2.4],\n",
              "        [6.4, 3.2, 5.3, 2.3],\n",
              "        [6.5, 3. , 5.5, 1.8],\n",
              "        [7.7, 3.8, 6.7, 2.2],\n",
              "        [7.7, 2.6, 6.9, 2.3],\n",
              "        [6. , 2.2, 5. , 1.5],\n",
              "        [6.9, 3.2, 5.7, 2.3],\n",
              "        [5.6, 2.8, 4.9, 2. ],\n",
              "        [7.7, 2.8, 6.7, 2. ],\n",
              "        [6.3, 2.7, 4.9, 1.8],\n",
              "        [6.7, 3.3, 5.7, 2.1],\n",
              "        [7.2, 3.2, 6. , 1.8],\n",
              "        [6.2, 2.8, 4.8, 1.8],\n",
              "        [6.1, 3. , 4.9, 1.8],\n",
              "        [6.4, 2.8, 5.6, 2.1],\n",
              "        [7.2, 3. , 5.8, 1.6],\n",
              "        [7.4, 2.8, 6.1, 1.9],\n",
              "        [7.9, 3.8, 6.4, 2. ],\n",
              "        [6.4, 2.8, 5.6, 2.2],\n",
              "        [6.3, 2.8, 5.1, 1.5],\n",
              "        [6.1, 2.6, 5.6, 1.4],\n",
              "        [7.7, 3. , 6.1, 2.3],\n",
              "        [6.3, 3.4, 5.6, 2.4],\n",
              "        [6.4, 3.1, 5.5, 1.8],\n",
              "        [6. , 3. , 4.8, 1.8],\n",
              "        [6.9, 3.1, 5.4, 2.1],\n",
              "        [6.7, 3.1, 5.6, 2.4],\n",
              "        [6.9, 3.1, 5.1, 2.3],\n",
              "        [5.8, 2.7, 5.1, 1.9],\n",
              "        [6.8, 3.2, 5.9, 2.3],\n",
              "        [6.7, 3.3, 5.7, 2.5],\n",
              "        [6.7, 3. , 5.2, 2.3],\n",
              "        [6.3, 2.5, 5. , 1.9],\n",
              "        [6.5, 3. , 5.2, 2. ],\n",
              "        [6.2, 3.4, 5.4, 2.3],\n",
              "        [5.9, 3. , 5.1, 1.8]]),\n",
              " 'feature_names': ['sepal length (cm)',\n",
              "  'sepal width (cm)',\n",
              "  'petal length (cm)',\n",
              "  'petal width (cm)'],\n",
              " 'filename': '/usr/local/lib/python3.6/dist-packages/sklearn/datasets/data/iris.csv',\n",
              " 'target': array([0, 0, 0, 0, 0, 0, 0, 0, 0, 0, 0, 0, 0, 0, 0, 0, 0, 0, 0, 0, 0, 0,\n",
              "        0, 0, 0, 0, 0, 0, 0, 0, 0, 0, 0, 0, 0, 0, 0, 0, 0, 0, 0, 0, 0, 0,\n",
              "        0, 0, 0, 0, 0, 0, 1, 1, 1, 1, 1, 1, 1, 1, 1, 1, 1, 1, 1, 1, 1, 1,\n",
              "        1, 1, 1, 1, 1, 1, 1, 1, 1, 1, 1, 1, 1, 1, 1, 1, 1, 1, 1, 1, 1, 1,\n",
              "        1, 1, 1, 1, 1, 1, 1, 1, 1, 1, 1, 1, 2, 2, 2, 2, 2, 2, 2, 2, 2, 2,\n",
              "        2, 2, 2, 2, 2, 2, 2, 2, 2, 2, 2, 2, 2, 2, 2, 2, 2, 2, 2, 2, 2, 2,\n",
              "        2, 2, 2, 2, 2, 2, 2, 2, 2, 2, 2, 2, 2, 2, 2, 2, 2, 2]),\n",
              " 'target_names': array(['setosa', 'versicolor', 'virginica'], dtype='<U10')}"
            ]
          },
          "metadata": {
            "tags": []
          },
          "execution_count": 3
        }
      ]
    },
    {
      "cell_type": "code",
      "metadata": {
        "id": "GEbY-1ayx_km",
        "outputId": "2f1af91f-c3e0-4454-812e-29458b0b7719",
        "colab": {
          "base_uri": "https://localhost:8080/",
          "height": 1000
        }
      },
      "source": [
        "X = iris_data['data']\n",
        "X"
      ],
      "execution_count": 5,
      "outputs": [
        {
          "output_type": "execute_result",
          "data": {
            "text/plain": [
              "array([[5.1, 3.5, 1.4, 0.2],\n",
              "       [4.9, 3. , 1.4, 0.2],\n",
              "       [4.7, 3.2, 1.3, 0.2],\n",
              "       [4.6, 3.1, 1.5, 0.2],\n",
              "       [5. , 3.6, 1.4, 0.2],\n",
              "       [5.4, 3.9, 1.7, 0.4],\n",
              "       [4.6, 3.4, 1.4, 0.3],\n",
              "       [5. , 3.4, 1.5, 0.2],\n",
              "       [4.4, 2.9, 1.4, 0.2],\n",
              "       [4.9, 3.1, 1.5, 0.1],\n",
              "       [5.4, 3.7, 1.5, 0.2],\n",
              "       [4.8, 3.4, 1.6, 0.2],\n",
              "       [4.8, 3. , 1.4, 0.1],\n",
              "       [4.3, 3. , 1.1, 0.1],\n",
              "       [5.8, 4. , 1.2, 0.2],\n",
              "       [5.7, 4.4, 1.5, 0.4],\n",
              "       [5.4, 3.9, 1.3, 0.4],\n",
              "       [5.1, 3.5, 1.4, 0.3],\n",
              "       [5.7, 3.8, 1.7, 0.3],\n",
              "       [5.1, 3.8, 1.5, 0.3],\n",
              "       [5.4, 3.4, 1.7, 0.2],\n",
              "       [5.1, 3.7, 1.5, 0.4],\n",
              "       [4.6, 3.6, 1. , 0.2],\n",
              "       [5.1, 3.3, 1.7, 0.5],\n",
              "       [4.8, 3.4, 1.9, 0.2],\n",
              "       [5. , 3. , 1.6, 0.2],\n",
              "       [5. , 3.4, 1.6, 0.4],\n",
              "       [5.2, 3.5, 1.5, 0.2],\n",
              "       [5.2, 3.4, 1.4, 0.2],\n",
              "       [4.7, 3.2, 1.6, 0.2],\n",
              "       [4.8, 3.1, 1.6, 0.2],\n",
              "       [5.4, 3.4, 1.5, 0.4],\n",
              "       [5.2, 4.1, 1.5, 0.1],\n",
              "       [5.5, 4.2, 1.4, 0.2],\n",
              "       [4.9, 3.1, 1.5, 0.2],\n",
              "       [5. , 3.2, 1.2, 0.2],\n",
              "       [5.5, 3.5, 1.3, 0.2],\n",
              "       [4.9, 3.6, 1.4, 0.1],\n",
              "       [4.4, 3. , 1.3, 0.2],\n",
              "       [5.1, 3.4, 1.5, 0.2],\n",
              "       [5. , 3.5, 1.3, 0.3],\n",
              "       [4.5, 2.3, 1.3, 0.3],\n",
              "       [4.4, 3.2, 1.3, 0.2],\n",
              "       [5. , 3.5, 1.6, 0.6],\n",
              "       [5.1, 3.8, 1.9, 0.4],\n",
              "       [4.8, 3. , 1.4, 0.3],\n",
              "       [5.1, 3.8, 1.6, 0.2],\n",
              "       [4.6, 3.2, 1.4, 0.2],\n",
              "       [5.3, 3.7, 1.5, 0.2],\n",
              "       [5. , 3.3, 1.4, 0.2],\n",
              "       [7. , 3.2, 4.7, 1.4],\n",
              "       [6.4, 3.2, 4.5, 1.5],\n",
              "       [6.9, 3.1, 4.9, 1.5],\n",
              "       [5.5, 2.3, 4. , 1.3],\n",
              "       [6.5, 2.8, 4.6, 1.5],\n",
              "       [5.7, 2.8, 4.5, 1.3],\n",
              "       [6.3, 3.3, 4.7, 1.6],\n",
              "       [4.9, 2.4, 3.3, 1. ],\n",
              "       [6.6, 2.9, 4.6, 1.3],\n",
              "       [5.2, 2.7, 3.9, 1.4],\n",
              "       [5. , 2. , 3.5, 1. ],\n",
              "       [5.9, 3. , 4.2, 1.5],\n",
              "       [6. , 2.2, 4. , 1. ],\n",
              "       [6.1, 2.9, 4.7, 1.4],\n",
              "       [5.6, 2.9, 3.6, 1.3],\n",
              "       [6.7, 3.1, 4.4, 1.4],\n",
              "       [5.6, 3. , 4.5, 1.5],\n",
              "       [5.8, 2.7, 4.1, 1. ],\n",
              "       [6.2, 2.2, 4.5, 1.5],\n",
              "       [5.6, 2.5, 3.9, 1.1],\n",
              "       [5.9, 3.2, 4.8, 1.8],\n",
              "       [6.1, 2.8, 4. , 1.3],\n",
              "       [6.3, 2.5, 4.9, 1.5],\n",
              "       [6.1, 2.8, 4.7, 1.2],\n",
              "       [6.4, 2.9, 4.3, 1.3],\n",
              "       [6.6, 3. , 4.4, 1.4],\n",
              "       [6.8, 2.8, 4.8, 1.4],\n",
              "       [6.7, 3. , 5. , 1.7],\n",
              "       [6. , 2.9, 4.5, 1.5],\n",
              "       [5.7, 2.6, 3.5, 1. ],\n",
              "       [5.5, 2.4, 3.8, 1.1],\n",
              "       [5.5, 2.4, 3.7, 1. ],\n",
              "       [5.8, 2.7, 3.9, 1.2],\n",
              "       [6. , 2.7, 5.1, 1.6],\n",
              "       [5.4, 3. , 4.5, 1.5],\n",
              "       [6. , 3.4, 4.5, 1.6],\n",
              "       [6.7, 3.1, 4.7, 1.5],\n",
              "       [6.3, 2.3, 4.4, 1.3],\n",
              "       [5.6, 3. , 4.1, 1.3],\n",
              "       [5.5, 2.5, 4. , 1.3],\n",
              "       [5.5, 2.6, 4.4, 1.2],\n",
              "       [6.1, 3. , 4.6, 1.4],\n",
              "       [5.8, 2.6, 4. , 1.2],\n",
              "       [5. , 2.3, 3.3, 1. ],\n",
              "       [5.6, 2.7, 4.2, 1.3],\n",
              "       [5.7, 3. , 4.2, 1.2],\n",
              "       [5.7, 2.9, 4.2, 1.3],\n",
              "       [6.2, 2.9, 4.3, 1.3],\n",
              "       [5.1, 2.5, 3. , 1.1],\n",
              "       [5.7, 2.8, 4.1, 1.3],\n",
              "       [6.3, 3.3, 6. , 2.5],\n",
              "       [5.8, 2.7, 5.1, 1.9],\n",
              "       [7.1, 3. , 5.9, 2.1],\n",
              "       [6.3, 2.9, 5.6, 1.8],\n",
              "       [6.5, 3. , 5.8, 2.2],\n",
              "       [7.6, 3. , 6.6, 2.1],\n",
              "       [4.9, 2.5, 4.5, 1.7],\n",
              "       [7.3, 2.9, 6.3, 1.8],\n",
              "       [6.7, 2.5, 5.8, 1.8],\n",
              "       [7.2, 3.6, 6.1, 2.5],\n",
              "       [6.5, 3.2, 5.1, 2. ],\n",
              "       [6.4, 2.7, 5.3, 1.9],\n",
              "       [6.8, 3. , 5.5, 2.1],\n",
              "       [5.7, 2.5, 5. , 2. ],\n",
              "       [5.8, 2.8, 5.1, 2.4],\n",
              "       [6.4, 3.2, 5.3, 2.3],\n",
              "       [6.5, 3. , 5.5, 1.8],\n",
              "       [7.7, 3.8, 6.7, 2.2],\n",
              "       [7.7, 2.6, 6.9, 2.3],\n",
              "       [6. , 2.2, 5. , 1.5],\n",
              "       [6.9, 3.2, 5.7, 2.3],\n",
              "       [5.6, 2.8, 4.9, 2. ],\n",
              "       [7.7, 2.8, 6.7, 2. ],\n",
              "       [6.3, 2.7, 4.9, 1.8],\n",
              "       [6.7, 3.3, 5.7, 2.1],\n",
              "       [7.2, 3.2, 6. , 1.8],\n",
              "       [6.2, 2.8, 4.8, 1.8],\n",
              "       [6.1, 3. , 4.9, 1.8],\n",
              "       [6.4, 2.8, 5.6, 2.1],\n",
              "       [7.2, 3. , 5.8, 1.6],\n",
              "       [7.4, 2.8, 6.1, 1.9],\n",
              "       [7.9, 3.8, 6.4, 2. ],\n",
              "       [6.4, 2.8, 5.6, 2.2],\n",
              "       [6.3, 2.8, 5.1, 1.5],\n",
              "       [6.1, 2.6, 5.6, 1.4],\n",
              "       [7.7, 3. , 6.1, 2.3],\n",
              "       [6.3, 3.4, 5.6, 2.4],\n",
              "       [6.4, 3.1, 5.5, 1.8],\n",
              "       [6. , 3. , 4.8, 1.8],\n",
              "       [6.9, 3.1, 5.4, 2.1],\n",
              "       [6.7, 3.1, 5.6, 2.4],\n",
              "       [6.9, 3.1, 5.1, 2.3],\n",
              "       [5.8, 2.7, 5.1, 1.9],\n",
              "       [6.8, 3.2, 5.9, 2.3],\n",
              "       [6.7, 3.3, 5.7, 2.5],\n",
              "       [6.7, 3. , 5.2, 2.3],\n",
              "       [6.3, 2.5, 5. , 1.9],\n",
              "       [6.5, 3. , 5.2, 2. ],\n",
              "       [6.2, 3.4, 5.4, 2.3],\n",
              "       [5.9, 3. , 5.1, 1.8]])"
            ]
          },
          "metadata": {
            "tags": []
          },
          "execution_count": 5
        }
      ]
    },
    {
      "cell_type": "code",
      "metadata": {
        "id": "7qWLXonOzpsD",
        "outputId": "a759fbc4-45d8-4d0c-c7cb-f6817e9e4487",
        "colab": {
          "base_uri": "https://localhost:8080/",
          "height": 134
        }
      },
      "source": [
        "y = iris_data['target']\n",
        "y"
      ],
      "execution_count": 6,
      "outputs": [
        {
          "output_type": "execute_result",
          "data": {
            "text/plain": [
              "array([0, 0, 0, 0, 0, 0, 0, 0, 0, 0, 0, 0, 0, 0, 0, 0, 0, 0, 0, 0, 0, 0,\n",
              "       0, 0, 0, 0, 0, 0, 0, 0, 0, 0, 0, 0, 0, 0, 0, 0, 0, 0, 0, 0, 0, 0,\n",
              "       0, 0, 0, 0, 0, 0, 1, 1, 1, 1, 1, 1, 1, 1, 1, 1, 1, 1, 1, 1, 1, 1,\n",
              "       1, 1, 1, 1, 1, 1, 1, 1, 1, 1, 1, 1, 1, 1, 1, 1, 1, 1, 1, 1, 1, 1,\n",
              "       1, 1, 1, 1, 1, 1, 1, 1, 1, 1, 1, 1, 2, 2, 2, 2, 2, 2, 2, 2, 2, 2,\n",
              "       2, 2, 2, 2, 2, 2, 2, 2, 2, 2, 2, 2, 2, 2, 2, 2, 2, 2, 2, 2, 2, 2,\n",
              "       2, 2, 2, 2, 2, 2, 2, 2, 2, 2, 2, 2, 2, 2, 2, 2, 2, 2])"
            ]
          },
          "metadata": {
            "tags": []
          },
          "execution_count": 6
        }
      ]
    },
    {
      "cell_type": "markdown",
      "metadata": {
        "id": "tNeJg8I00PF6"
      },
      "source": [
        "แบ่ง Data เป็น train กับ test"
      ]
    },
    {
      "cell_type": "code",
      "metadata": {
        "id": "o0hDk6FYz2Rp",
        "outputId": "413fdd5f-0cfd-4043-a4a5-08168ba76f7b",
        "colab": {
          "base_uri": "https://localhost:8080/",
          "height": 34
        }
      },
      "source": [
        "X_train = X[:-2,:]      #[:(row),(column):]\n",
        "print(X_train.shape)"
      ],
      "execution_count": 12,
      "outputs": [
        {
          "output_type": "stream",
          "text": [
            "(148, 4)\n"
          ],
          "name": "stdout"
        }
      ]
    },
    {
      "cell_type": "code",
      "metadata": {
        "id": "2H7yzdyR0qr2",
        "outputId": "19682fea-9a3e-4e17-c8f7-97c56439eb7f",
        "colab": {
          "base_uri": "https://localhost:8080/",
          "height": 50
        }
      },
      "source": [
        "X_test = X[-2:,:]\n",
        "X_test"
      ],
      "execution_count": 11,
      "outputs": [
        {
          "output_type": "execute_result",
          "data": {
            "text/plain": [
              "array([[6.2, 3.4, 5.4, 2.3],\n",
              "       [5.9, 3. , 5.1, 1.8]])"
            ]
          },
          "metadata": {
            "tags": []
          },
          "execution_count": 11
        }
      ]
    },
    {
      "cell_type": "code",
      "metadata": {
        "id": "1vxk2EHv1k0I",
        "outputId": "c4e7e918-329e-4e68-9aaa-ca5bfb7af7c2",
        "colab": {
          "base_uri": "https://localhost:8080/",
          "height": 34
        }
      },
      "source": [
        "y_train = y[:-2]\n",
        "y_train.shape"
      ],
      "execution_count": 16,
      "outputs": [
        {
          "output_type": "execute_result",
          "data": {
            "text/plain": [
              "(148,)"
            ]
          },
          "metadata": {
            "tags": []
          },
          "execution_count": 16
        }
      ]
    },
    {
      "cell_type": "code",
      "metadata": {
        "id": "Pncqa3yP17xi",
        "outputId": "8d1e06d9-915f-486a-c1e9-85a32bdc236d",
        "colab": {
          "base_uri": "https://localhost:8080/",
          "height": 34
        }
      },
      "source": [
        "y_test = y[-2:]\n",
        "y_test"
      ],
      "execution_count": 17,
      "outputs": [
        {
          "output_type": "execute_result",
          "data": {
            "text/plain": [
              "array([2, 2])"
            ]
          },
          "metadata": {
            "tags": []
          },
          "execution_count": 17
        }
      ]
    },
    {
      "cell_type": "markdown",
      "metadata": {
        "id": "b1EVelYG2WXi"
      },
      "source": [
        "##K-nearest neighbors"
      ]
    },
    {
      "cell_type": "markdown",
      "metadata": {
        "id": "cPZXEgIg2cpN"
      },
      "source": [
        "\n",
        "\n",
        "1.   Import\n",
        "2.   Define\n",
        "3.   Train (fit)\n",
        "4.   Test \n",
        "5.   Evaluate\n",
        "\n"
      ]
    },
    {
      "cell_type": "markdown",
      "metadata": {
        "id": "Gfbzyr065GNg"
      },
      "source": [
        "![KNN.PNG](data:image/png;base64,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)"
      ]
    },
    {
      "cell_type": "code",
      "metadata": {
        "id": "C8aXR2FW2HHf"
      },
      "source": [
        "#import\n",
        "from sklearn.neighbors import KNeighborsClassifier"
      ],
      "execution_count": 19,
      "outputs": []
    },
    {
      "cell_type": "code",
      "metadata": {
        "id": "3wx3G3hB4p5v"
      },
      "source": [
        "#Define\n",
        "myKNN = KNeighborsClassifier(n_neighbors=100,weights='distance')"
      ],
      "execution_count": 28,
      "outputs": []
    },
    {
      "cell_type": "code",
      "metadata": {
        "id": "_U6GrISj5bu8",
        "outputId": "b9d30fef-2816-454d-91eb-64f9ba8bc27c",
        "colab": {
          "base_uri": "https://localhost:8080/",
          "height": 67
        }
      },
      "source": [
        "#Train\n",
        "myKNN.fit(X_train,y_train)"
      ],
      "execution_count": 29,
      "outputs": [
        {
          "output_type": "execute_result",
          "data": {
            "text/plain": [
              "KNeighborsClassifier(algorithm='auto', leaf_size=30, metric='minkowski',\n",
              "                     metric_params=None, n_jobs=None, n_neighbors=100, p=2,\n",
              "                     weights='distance')"
            ]
          },
          "metadata": {
            "tags": []
          },
          "execution_count": 29
        }
      ]
    },
    {
      "cell_type": "code",
      "metadata": {
        "id": "Ybi1muJi55Ih",
        "outputId": "4c39b0d8-5375-4c32-f111-6b763c47acfa",
        "colab": {
          "base_uri": "https://localhost:8080/",
          "height": 34
        }
      },
      "source": [
        "#Test\n",
        "myKNN.predict(X_test)"
      ],
      "execution_count": 30,
      "outputs": [
        {
          "output_type": "execute_result",
          "data": {
            "text/plain": [
              "array([2, 2])"
            ]
          },
          "metadata": {
            "tags": []
          },
          "execution_count": 30
        }
      ]
    },
    {
      "cell_type": "code",
      "metadata": {
        "id": "sS_61g8K6Iiw",
        "outputId": "ce2aea88-39db-4f33-ed15-3170586a0874",
        "colab": {
          "base_uri": "https://localhost:8080/",
          "height": 50
        }
      },
      "source": [
        "myKNN.predict_proba(X_test)"
      ],
      "execution_count": 31,
      "outputs": [
        {
          "output_type": "execute_result",
          "data": {
            "text/plain": [
              "array([[0.00536845, 0.35392471, 0.64070684],\n",
              "       [0.00490528, 0.454951  , 0.54014372]])"
            ]
          },
          "metadata": {
            "tags": []
          },
          "execution_count": 31
        }
      ]
    },
    {
      "cell_type": "markdown",
      "metadata": {
        "id": "Um2C4-5G-ncF"
      },
      "source": [
        "## Selecting the best model"
      ]
    },
    {
      "cell_type": "code",
      "metadata": {
        "id": "u8GRvBm76lVK"
      },
      "source": [
        "from sklearn.model_selection import train_test_split"
      ],
      "execution_count": 32,
      "outputs": []
    },
    {
      "cell_type": "markdown",
      "metadata": {
        "id": "IaNgYcxh_A7B"
      },
      "source": [
        "Picture"
      ]
    },
    {
      "cell_type": "markdown",
      "metadata": {
        "id": "y2KxVyiX_NLp"
      },
      "source": [
        "1.  แบ่งข้อมูลเป็น train กับ test แล้วเก็บTestเอาไว้"
      ]
    },
    {
      "cell_type": "code",
      "metadata": {
        "id": "xzKS39N2-5mH"
      },
      "source": [
        "X_train, X_test, y_train, y_test = train_test_split(X, y, test_size=0.2)"
      ],
      "execution_count": 33,
      "outputs": []
    },
    {
      "cell_type": "markdown",
      "metadata": {
        "id": "LQ0bzU-UAEvW"
      },
      "source": [
        "2. ทำ k-fold cross validation เพื่อเลือก modelที่ดีที่สุด"
      ]
    },
    {
      "cell_type": "code",
      "metadata": {
        "id": "hEm3jb1kAD3o"
      },
      "source": [
        "from sklearn.model_selection import cross_val_score"
      ],
      "execution_count": 34,
      "outputs": []
    },
    {
      "cell_type": "code",
      "metadata": {
        "id": "p04n-LhrAoYz",
        "outputId": "123f698a-3df5-4968-a1a2-4328c81e312c",
        "colab": {
          "base_uri": "https://localhost:8080/",
          "height": 34
        }
      },
      "source": [
        "# 1. Define model\n",
        "KNN_k3_wU = KNeighborsClassifier(n_neighbors=3)\n",
        "# 2. cross validation\n",
        "cross_val_score(KNN_k3_wU, X_train, y_train, cv=5).mean()\n"
      ],
      "execution_count": 44,
      "outputs": [
        {
          "output_type": "execute_result",
          "data": {
            "text/plain": [
              "0.9416666666666668"
            ]
          },
          "metadata": {
            "tags": []
          },
          "execution_count": 44
        }
      ]
    },
    {
      "cell_type": "code",
      "metadata": {
        "id": "I8rdlUrSBFAg",
        "outputId": "fc10c6bb-f1cc-42c0-86d8-9d6992a91e77",
        "colab": {
          "base_uri": "https://localhost:8080/",
          "height": 34
        }
      },
      "source": [
        "# 1. Define model\n",
        "KNN_k3_wD = KNeighborsClassifier(n_neighbors=3,weights='distance')\n",
        "# 2. cross validation\n",
        "cross_val_score(KNN_k3_wD, X_train, y_train, cv=5).mean()"
      ],
      "execution_count": 43,
      "outputs": [
        {
          "output_type": "execute_result",
          "data": {
            "text/plain": [
              "0.9416666666666668"
            ]
          },
          "metadata": {
            "tags": []
          },
          "execution_count": 43
        }
      ]
    },
    {
      "cell_type": "code",
      "metadata": {
        "id": "vtU1gfs_BxaH",
        "outputId": "b386a05d-2c34-48a5-f642-5ce9f8ffe018",
        "colab": {
          "base_uri": "https://localhost:8080/",
          "height": 34
        }
      },
      "source": [
        "# 1. Define model\n",
        "KNN_k3_wU = KNeighborsClassifier(n_neighbors=10 ,weights='distance')\n",
        "# 2. cross validation\n",
        "cross_val_score(KNN_k3_wU, X_train, y_train, cv=7).mean()"
      ],
      "execution_count": 54,
      "outputs": [
        {
          "output_type": "execute_result",
          "data": {
            "text/plain": [
              "0.957983193277311"
            ]
          },
          "metadata": {
            "tags": []
          },
          "execution_count": 54
        }
      ]
    },
    {
      "cell_type": "markdown",
      "metadata": {
        "id": "cmYIOakQECNx"
      },
      "source": [
        "3. train model ที่ดีที่สุดด้วย training set แล้ว วัดผลด้วย test set"
      ]
    },
    {
      "cell_type": "code",
      "metadata": {
        "id": "yI3RDz_qC3ME",
        "outputId": "3c689ebc-1194-43de-b397-01246cbb3c4f",
        "colab": {
          "base_uri": "https://localhost:8080/",
          "height": 34
        }
      },
      "source": [
        "#Define \n",
        "KNN_k3_wU = KNeighborsClassifier(n_neighbors=10 ,weights='distance')\n",
        "#train\n",
        "KNN_k3_wU.fit(X_train, y_train)\n",
        "#Test_Evaluation\n",
        "KNN_k3_wU.score(X_test,y_test)"
      ],
      "execution_count": 55,
      "outputs": [
        {
          "output_type": "execute_result",
          "data": {
            "text/plain": [
              "1.0"
            ]
          },
          "metadata": {
            "tags": []
          },
          "execution_count": 55
        }
      ]
    },
    {
      "cell_type": "code",
      "metadata": {
        "id": "BNkI8gIsEqUw"
      },
      "source": [
        ""
      ],
      "execution_count": null,
      "outputs": []
    }
  ]
}