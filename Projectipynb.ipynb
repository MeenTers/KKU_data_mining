{
  "nbformat": 4,
  "nbformat_minor": 0,
  "metadata": {
    "colab": {
      "name": "Projectipynb",
      "provenance": [],
      "authorship_tag": "ABX9TyOEvca+dViiz2mfuv403fQd",
      "include_colab_link": true
    },
    "kernelspec": {
      "name": "python3",
      "display_name": "Python 3"
    }
  },
  "cells": [
    {
      "cell_type": "markdown",
      "metadata": {
        "id": "view-in-github",
        "colab_type": "text"
      },
      "source": [
        "<a href=\"https://colab.research.google.com/github/MeenTers/KKU_data_mining/blob/master/Projectipynb.ipynb\" target=\"_parent\"><img src=\"https://colab.research.google.com/assets/colab-badge.svg\" alt=\"Open In Colab\"/></a>"
      ]
    },
    {
      "cell_type": "code",
      "metadata": {
        "id": "6Dz2tlcxxY5_"
      },
      "source": [
        "import pandas as pd\n",
        "import os"
      ],
      "execution_count": 1,
      "outputs": []
    },
    {
      "cell_type": "code",
      "metadata": {
        "id": "hfAb9Ae6xclV",
        "colab": {
          "base_uri": "https://localhost:8080/"
        },
        "outputId": "817ec7ba-811a-497e-d703-6ece1019e347"
      },
      "source": [
        "from google.colab import drive\n",
        "drive.mount('/content/drive')"
      ],
      "execution_count": 2,
      "outputs": [
        {
          "output_type": "stream",
          "text": [
            "Mounted at /content/drive\n"
          ],
          "name": "stdout"
        }
      ]
    },
    {
      "cell_type": "code",
      "metadata": {
        "id": "T3S-QjhPx3vG"
      },
      "source": [
        "path = '/content/drive/My Drive/DWDM_material'"
      ],
      "execution_count": 3,
      "outputs": []
    },
    {
      "cell_type": "code",
      "metadata": {
        "id": "iPWMHS-xxi81"
      },
      "source": [
        "anime = os.path.join(path,'anime.csv')"
      ],
      "execution_count": 4,
      "outputs": []
    },
    {
      "cell_type": "markdown",
      "metadata": {
        "id": "ASFzFFk2on2a"
      },
      "source": [
        "## Data Preprocessing"
      ]
    },
    {
      "cell_type": "code",
      "metadata": {
        "id": "PLh6NmW2x6vA",
        "colab": {
          "base_uri": "https://localhost:8080/",
          "height": 402
        },
        "outputId": "8bdea314-0e82-416a-8cd3-34cd7bb91040"
      },
      "source": [
        "anime_df = pd.read_csv(anime)\n",
        "anime_df"
      ],
      "execution_count": 5,
      "outputs": [
        {
          "output_type": "execute_result",
          "data": {
            "text/html": [
              "<div>\n",
              "<style scoped>\n",
              "    .dataframe tbody tr th:only-of-type {\n",
              "        vertical-align: middle;\n",
              "    }\n",
              "\n",
              "    .dataframe tbody tr th {\n",
              "        vertical-align: top;\n",
              "    }\n",
              "\n",
              "    .dataframe thead th {\n",
              "        text-align: right;\n",
              "    }\n",
              "</style>\n",
              "<table border=\"1\" class=\"dataframe\">\n",
              "  <thead>\n",
              "    <tr style=\"text-align: right;\">\n",
              "      <th></th>\n",
              "      <th>anime_id</th>\n",
              "      <th>name</th>\n",
              "      <th>genre</th>\n",
              "      <th>type</th>\n",
              "      <th>episodes</th>\n",
              "      <th>rating</th>\n",
              "      <th>members</th>\n",
              "    </tr>\n",
              "  </thead>\n",
              "  <tbody>\n",
              "    <tr>\n",
              "      <th>0</th>\n",
              "      <td>32281</td>\n",
              "      <td>Kimi no Na wa.</td>\n",
              "      <td>Drama, Romance, School, Supernatural</td>\n",
              "      <td>Movie</td>\n",
              "      <td>1</td>\n",
              "      <td>9.37</td>\n",
              "      <td>200630</td>\n",
              "    </tr>\n",
              "    <tr>\n",
              "      <th>1</th>\n",
              "      <td>5114</td>\n",
              "      <td>Fullmetal Alchemist: Brotherhood</td>\n",
              "      <td>Action, Adventure, Drama, Fantasy, Magic, Mili...</td>\n",
              "      <td>TV</td>\n",
              "      <td>64</td>\n",
              "      <td>9.26</td>\n",
              "      <td>793665</td>\n",
              "    </tr>\n",
              "    <tr>\n",
              "      <th>2</th>\n",
              "      <td>28977</td>\n",
              "      <td>Gintama°</td>\n",
              "      <td>Action, Comedy, Historical, Parody, Samurai, S...</td>\n",
              "      <td>TV</td>\n",
              "      <td>51</td>\n",
              "      <td>9.25</td>\n",
              "      <td>114262</td>\n",
              "    </tr>\n",
              "    <tr>\n",
              "      <th>3</th>\n",
              "      <td>9253</td>\n",
              "      <td>Steins;Gate</td>\n",
              "      <td>Sci-Fi, Thriller</td>\n",
              "      <td>TV</td>\n",
              "      <td>24</td>\n",
              "      <td>9.17</td>\n",
              "      <td>673572</td>\n",
              "    </tr>\n",
              "    <tr>\n",
              "      <th>4</th>\n",
              "      <td>9969</td>\n",
              "      <td>Gintama&amp;#039;</td>\n",
              "      <td>Action, Comedy, Historical, Parody, Samurai, S...</td>\n",
              "      <td>TV</td>\n",
              "      <td>51</td>\n",
              "      <td>9.16</td>\n",
              "      <td>151266</td>\n",
              "    </tr>\n",
              "    <tr>\n",
              "      <th>...</th>\n",
              "      <td>...</td>\n",
              "      <td>...</td>\n",
              "      <td>...</td>\n",
              "      <td>...</td>\n",
              "      <td>...</td>\n",
              "      <td>...</td>\n",
              "      <td>...</td>\n",
              "    </tr>\n",
              "    <tr>\n",
              "      <th>12289</th>\n",
              "      <td>9316</td>\n",
              "      <td>Toushindai My Lover: Minami tai Mecha-Minami</td>\n",
              "      <td>Hentai</td>\n",
              "      <td>OVA</td>\n",
              "      <td>1</td>\n",
              "      <td>4.15</td>\n",
              "      <td>211</td>\n",
              "    </tr>\n",
              "    <tr>\n",
              "      <th>12290</th>\n",
              "      <td>5543</td>\n",
              "      <td>Under World</td>\n",
              "      <td>Hentai</td>\n",
              "      <td>OVA</td>\n",
              "      <td>1</td>\n",
              "      <td>4.28</td>\n",
              "      <td>183</td>\n",
              "    </tr>\n",
              "    <tr>\n",
              "      <th>12291</th>\n",
              "      <td>5621</td>\n",
              "      <td>Violence Gekiga David no Hoshi</td>\n",
              "      <td>Hentai</td>\n",
              "      <td>OVA</td>\n",
              "      <td>4</td>\n",
              "      <td>4.88</td>\n",
              "      <td>219</td>\n",
              "    </tr>\n",
              "    <tr>\n",
              "      <th>12292</th>\n",
              "      <td>6133</td>\n",
              "      <td>Violence Gekiga Shin David no Hoshi: Inma Dens...</td>\n",
              "      <td>Hentai</td>\n",
              "      <td>OVA</td>\n",
              "      <td>1</td>\n",
              "      <td>4.98</td>\n",
              "      <td>175</td>\n",
              "    </tr>\n",
              "    <tr>\n",
              "      <th>12293</th>\n",
              "      <td>26081</td>\n",
              "      <td>Yasuji no Pornorama: Yacchimae!!</td>\n",
              "      <td>Hentai</td>\n",
              "      <td>Movie</td>\n",
              "      <td>1</td>\n",
              "      <td>5.46</td>\n",
              "      <td>142</td>\n",
              "    </tr>\n",
              "  </tbody>\n",
              "</table>\n",
              "<p>12294 rows × 7 columns</p>\n",
              "</div>"
            ],
            "text/plain": [
              "       anime_id  ... members\n",
              "0         32281  ...  200630\n",
              "1          5114  ...  793665\n",
              "2         28977  ...  114262\n",
              "3          9253  ...  673572\n",
              "4          9969  ...  151266\n",
              "...         ...  ...     ...\n",
              "12289      9316  ...     211\n",
              "12290      5543  ...     183\n",
              "12291      5621  ...     219\n",
              "12292      6133  ...     175\n",
              "12293     26081  ...     142\n",
              "\n",
              "[12294 rows x 7 columns]"
            ]
          },
          "metadata": {
            "tags": []
          },
          "execution_count": 5
        }
      ]
    },
    {
      "cell_type": "code",
      "metadata": {
        "id": "So81XOw1QFw2",
        "colab": {
          "base_uri": "https://localhost:8080/"
        },
        "outputId": "100b95e3-eda2-4dd2-d054-20a28b422ccf"
      },
      "source": [
        "anime_df.isnull().any()"
      ],
      "execution_count": 6,
      "outputs": [
        {
          "output_type": "execute_result",
          "data": {
            "text/plain": [
              "anime_id    False\n",
              "name        False\n",
              "genre        True\n",
              "type         True\n",
              "episodes    False\n",
              "rating       True\n",
              "members     False\n",
              "dtype: bool"
            ]
          },
          "metadata": {
            "tags": []
          },
          "execution_count": 6
        }
      ]
    },
    {
      "cell_type": "code",
      "metadata": {
        "id": "_qBpcpw-yA1_"
      },
      "source": [
        "rating = os.path.join(path,'rating.csv')"
      ],
      "execution_count": 7,
      "outputs": []
    },
    {
      "cell_type": "code",
      "metadata": {
        "id": "0PmwxrbdySDI",
        "colab": {
          "base_uri": "https://localhost:8080/",
          "height": 402
        },
        "outputId": "42beb165-a4cc-4eb3-bfed-dc7f3388d219"
      },
      "source": [
        "rating_df = pd.read_csv(rating)\n",
        "rating_df"
      ],
      "execution_count": 8,
      "outputs": [
        {
          "output_type": "execute_result",
          "data": {
            "text/html": [
              "<div>\n",
              "<style scoped>\n",
              "    .dataframe tbody tr th:only-of-type {\n",
              "        vertical-align: middle;\n",
              "    }\n",
              "\n",
              "    .dataframe tbody tr th {\n",
              "        vertical-align: top;\n",
              "    }\n",
              "\n",
              "    .dataframe thead th {\n",
              "        text-align: right;\n",
              "    }\n",
              "</style>\n",
              "<table border=\"1\" class=\"dataframe\">\n",
              "  <thead>\n",
              "    <tr style=\"text-align: right;\">\n",
              "      <th></th>\n",
              "      <th>user_id</th>\n",
              "      <th>anime_id</th>\n",
              "      <th>rating</th>\n",
              "    </tr>\n",
              "  </thead>\n",
              "  <tbody>\n",
              "    <tr>\n",
              "      <th>0</th>\n",
              "      <td>1</td>\n",
              "      <td>20</td>\n",
              "      <td>-1</td>\n",
              "    </tr>\n",
              "    <tr>\n",
              "      <th>1</th>\n",
              "      <td>1</td>\n",
              "      <td>24</td>\n",
              "      <td>-1</td>\n",
              "    </tr>\n",
              "    <tr>\n",
              "      <th>2</th>\n",
              "      <td>1</td>\n",
              "      <td>79</td>\n",
              "      <td>-1</td>\n",
              "    </tr>\n",
              "    <tr>\n",
              "      <th>3</th>\n",
              "      <td>1</td>\n",
              "      <td>226</td>\n",
              "      <td>-1</td>\n",
              "    </tr>\n",
              "    <tr>\n",
              "      <th>4</th>\n",
              "      <td>1</td>\n",
              "      <td>241</td>\n",
              "      <td>-1</td>\n",
              "    </tr>\n",
              "    <tr>\n",
              "      <th>...</th>\n",
              "      <td>...</td>\n",
              "      <td>...</td>\n",
              "      <td>...</td>\n",
              "    </tr>\n",
              "    <tr>\n",
              "      <th>7813732</th>\n",
              "      <td>73515</td>\n",
              "      <td>16512</td>\n",
              "      <td>7</td>\n",
              "    </tr>\n",
              "    <tr>\n",
              "      <th>7813733</th>\n",
              "      <td>73515</td>\n",
              "      <td>17187</td>\n",
              "      <td>9</td>\n",
              "    </tr>\n",
              "    <tr>\n",
              "      <th>7813734</th>\n",
              "      <td>73515</td>\n",
              "      <td>22145</td>\n",
              "      <td>10</td>\n",
              "    </tr>\n",
              "    <tr>\n",
              "      <th>7813735</th>\n",
              "      <td>73516</td>\n",
              "      <td>790</td>\n",
              "      <td>9</td>\n",
              "    </tr>\n",
              "    <tr>\n",
              "      <th>7813736</th>\n",
              "      <td>73516</td>\n",
              "      <td>8074</td>\n",
              "      <td>9</td>\n",
              "    </tr>\n",
              "  </tbody>\n",
              "</table>\n",
              "<p>7813737 rows × 3 columns</p>\n",
              "</div>"
            ],
            "text/plain": [
              "         user_id  anime_id  rating\n",
              "0              1        20      -1\n",
              "1              1        24      -1\n",
              "2              1        79      -1\n",
              "3              1       226      -1\n",
              "4              1       241      -1\n",
              "...          ...       ...     ...\n",
              "7813732    73515     16512       7\n",
              "7813733    73515     17187       9\n",
              "7813734    73515     22145      10\n",
              "7813735    73516       790       9\n",
              "7813736    73516      8074       9\n",
              "\n",
              "[7813737 rows x 3 columns]"
            ]
          },
          "metadata": {
            "tags": []
          },
          "execution_count": 8
        }
      ]
    },
    {
      "cell_type": "code",
      "metadata": {
        "id": "OzPhRcy5PnRq",
        "colab": {
          "base_uri": "https://localhost:8080/"
        },
        "outputId": "45291da2-9048-4dcf-a12c-829360d3ece2"
      },
      "source": [
        "rating_df.isnull().any()"
      ],
      "execution_count": 9,
      "outputs": [
        {
          "output_type": "execute_result",
          "data": {
            "text/plain": [
              "user_id     False\n",
              "anime_id    False\n",
              "rating      False\n",
              "dtype: bool"
            ]
          },
          "metadata": {
            "tags": []
          },
          "execution_count": 9
        }
      ]
    },
    {
      "cell_type": "code",
      "metadata": {
        "id": "rgtIkW33yaUs",
        "colab": {
          "base_uri": "https://localhost:8080/",
          "height": 402
        },
        "outputId": "f599e93f-3933-45fe-fb30-9a5a85e02d9a"
      },
      "source": [
        "merge_tb = anime_df.merge(rating_df,how='left', left_on='anime_id',right_on='anime_id')\n",
        "merge_tb"
      ],
      "execution_count": 31,
      "outputs": [
        {
          "output_type": "execute_result",
          "data": {
            "text/html": [
              "<div>\n",
              "<style scoped>\n",
              "    .dataframe tbody tr th:only-of-type {\n",
              "        vertical-align: middle;\n",
              "    }\n",
              "\n",
              "    .dataframe tbody tr th {\n",
              "        vertical-align: top;\n",
              "    }\n",
              "\n",
              "    .dataframe thead th {\n",
              "        text-align: right;\n",
              "    }\n",
              "</style>\n",
              "<table border=\"1\" class=\"dataframe\">\n",
              "  <thead>\n",
              "    <tr style=\"text-align: right;\">\n",
              "      <th></th>\n",
              "      <th>anime_id</th>\n",
              "      <th>name</th>\n",
              "      <th>genre</th>\n",
              "      <th>type</th>\n",
              "      <th>episodes</th>\n",
              "      <th>rating_x</th>\n",
              "      <th>members</th>\n",
              "      <th>user_id</th>\n",
              "      <th>rating_y</th>\n",
              "    </tr>\n",
              "  </thead>\n",
              "  <tbody>\n",
              "    <tr>\n",
              "      <th>0</th>\n",
              "      <td>32281</td>\n",
              "      <td>Kimi no Na wa.</td>\n",
              "      <td>Drama, Romance, School, Supernatural</td>\n",
              "      <td>Movie</td>\n",
              "      <td>1</td>\n",
              "      <td>9.37</td>\n",
              "      <td>200630</td>\n",
              "      <td>99.0</td>\n",
              "      <td>5.0</td>\n",
              "    </tr>\n",
              "    <tr>\n",
              "      <th>1</th>\n",
              "      <td>32281</td>\n",
              "      <td>Kimi no Na wa.</td>\n",
              "      <td>Drama, Romance, School, Supernatural</td>\n",
              "      <td>Movie</td>\n",
              "      <td>1</td>\n",
              "      <td>9.37</td>\n",
              "      <td>200630</td>\n",
              "      <td>152.0</td>\n",
              "      <td>10.0</td>\n",
              "    </tr>\n",
              "    <tr>\n",
              "      <th>2</th>\n",
              "      <td>32281</td>\n",
              "      <td>Kimi no Na wa.</td>\n",
              "      <td>Drama, Romance, School, Supernatural</td>\n",
              "      <td>Movie</td>\n",
              "      <td>1</td>\n",
              "      <td>9.37</td>\n",
              "      <td>200630</td>\n",
              "      <td>244.0</td>\n",
              "      <td>10.0</td>\n",
              "    </tr>\n",
              "    <tr>\n",
              "      <th>3</th>\n",
              "      <td>32281</td>\n",
              "      <td>Kimi no Na wa.</td>\n",
              "      <td>Drama, Romance, School, Supernatural</td>\n",
              "      <td>Movie</td>\n",
              "      <td>1</td>\n",
              "      <td>9.37</td>\n",
              "      <td>200630</td>\n",
              "      <td>271.0</td>\n",
              "      <td>10.0</td>\n",
              "    </tr>\n",
              "    <tr>\n",
              "      <th>4</th>\n",
              "      <td>32281</td>\n",
              "      <td>Kimi no Na wa.</td>\n",
              "      <td>Drama, Romance, School, Supernatural</td>\n",
              "      <td>Movie</td>\n",
              "      <td>1</td>\n",
              "      <td>9.37</td>\n",
              "      <td>200630</td>\n",
              "      <td>278.0</td>\n",
              "      <td>-1.0</td>\n",
              "    </tr>\n",
              "    <tr>\n",
              "      <th>...</th>\n",
              "      <td>...</td>\n",
              "      <td>...</td>\n",
              "      <td>...</td>\n",
              "      <td>...</td>\n",
              "      <td>...</td>\n",
              "      <td>...</td>\n",
              "      <td>...</td>\n",
              "      <td>...</td>\n",
              "      <td>...</td>\n",
              "    </tr>\n",
              "    <tr>\n",
              "      <th>7814819</th>\n",
              "      <td>6133</td>\n",
              "      <td>Violence Gekiga Shin David no Hoshi: Inma Dens...</td>\n",
              "      <td>Hentai</td>\n",
              "      <td>OVA</td>\n",
              "      <td>1</td>\n",
              "      <td>4.98</td>\n",
              "      <td>175</td>\n",
              "      <td>39532.0</td>\n",
              "      <td>-1.0</td>\n",
              "    </tr>\n",
              "    <tr>\n",
              "      <th>7814820</th>\n",
              "      <td>6133</td>\n",
              "      <td>Violence Gekiga Shin David no Hoshi: Inma Dens...</td>\n",
              "      <td>Hentai</td>\n",
              "      <td>OVA</td>\n",
              "      <td>1</td>\n",
              "      <td>4.98</td>\n",
              "      <td>175</td>\n",
              "      <td>48766.0</td>\n",
              "      <td>-1.0</td>\n",
              "    </tr>\n",
              "    <tr>\n",
              "      <th>7814821</th>\n",
              "      <td>6133</td>\n",
              "      <td>Violence Gekiga Shin David no Hoshi: Inma Dens...</td>\n",
              "      <td>Hentai</td>\n",
              "      <td>OVA</td>\n",
              "      <td>1</td>\n",
              "      <td>4.98</td>\n",
              "      <td>175</td>\n",
              "      <td>60365.0</td>\n",
              "      <td>4.0</td>\n",
              "    </tr>\n",
              "    <tr>\n",
              "      <th>7814822</th>\n",
              "      <td>26081</td>\n",
              "      <td>Yasuji no Pornorama: Yacchimae!!</td>\n",
              "      <td>Hentai</td>\n",
              "      <td>Movie</td>\n",
              "      <td>1</td>\n",
              "      <td>5.46</td>\n",
              "      <td>142</td>\n",
              "      <td>27364.0</td>\n",
              "      <td>-1.0</td>\n",
              "    </tr>\n",
              "    <tr>\n",
              "      <th>7814823</th>\n",
              "      <td>26081</td>\n",
              "      <td>Yasuji no Pornorama: Yacchimae!!</td>\n",
              "      <td>Hentai</td>\n",
              "      <td>Movie</td>\n",
              "      <td>1</td>\n",
              "      <td>5.46</td>\n",
              "      <td>142</td>\n",
              "      <td>48766.0</td>\n",
              "      <td>-1.0</td>\n",
              "    </tr>\n",
              "  </tbody>\n",
              "</table>\n",
              "<p>7814824 rows × 9 columns</p>\n",
              "</div>"
            ],
            "text/plain": [
              "         anime_id  ... rating_y\n",
              "0           32281  ...      5.0\n",
              "1           32281  ...     10.0\n",
              "2           32281  ...     10.0\n",
              "3           32281  ...     10.0\n",
              "4           32281  ...     -1.0\n",
              "...           ...  ...      ...\n",
              "7814819      6133  ...     -1.0\n",
              "7814820      6133  ...     -1.0\n",
              "7814821      6133  ...      4.0\n",
              "7814822     26081  ...     -1.0\n",
              "7814823     26081  ...     -1.0\n",
              "\n",
              "[7814824 rows x 9 columns]"
            ]
          },
          "metadata": {
            "tags": []
          },
          "execution_count": 31
        }
      ]
    },
    {
      "cell_type": "code",
      "metadata": {
        "id": "1sh8BsYqFQc7",
        "outputId": "27a96f19-8e3c-4404-8435-6cde7ddb04f3",
        "colab": {
          "base_uri": "https://localhost:8080/"
        }
      },
      "source": [
        "merge_tb.isnull().any()"
      ],
      "execution_count": 91,
      "outputs": [
        {
          "output_type": "execute_result",
          "data": {
            "text/plain": [
              "anime_id    False\n",
              "name        False\n",
              "genre        True\n",
              "type         True\n",
              "episodes    False\n",
              "rating_x     True\n",
              "members     False\n",
              "user_id      True\n",
              "rating_y     True\n",
              "dtype: bool"
            ]
          },
          "metadata": {
            "tags": []
          },
          "execution_count": 91
        }
      ]
    },
    {
      "cell_type": "markdown",
      "metadata": {
        "id": "szWGnEMzo1mO"
      },
      "source": [
        "## Loop display name of anime missing value"
      ]
    },
    {
      "cell_type": "code",
      "metadata": {
        "id": "YzruK8E_o8J-",
        "outputId": "53bd32a6-48b1-4800-8b48-2fb5c7e10a83",
        "colab": {
          "base_uri": "https://localhost:8080/"
        }
      },
      "source": [
        "anime_name = []\n",
        "for i in range(0,len(merge_tb)):\n",
        "  # if(merge_tb[\"genre\"]\n",
        "  data = str(merge_tb[\"genre\"][i])\n",
        "  if(data==\"nan\"):\n",
        "    print(merge_tb[\"name\"][i])\n",
        "    anime_name.append(merge_tb[\"name\"][i])"
      ],
      "execution_count": 34,
      "outputs": [
        {
          "output_type": "stream",
          "text": [
            "IS: Infinite Stratos 2 - Infinite Wedding\n",
            "IS: Infinite Stratos 2 - Infinite Wedding\n",
            "IS: Infinite Stratos 2 - Infinite Wedding\n",
            "IS: Infinite Stratos 2 - Infinite Wedding\n",
            "IS: Infinite Stratos 2 - Infinite Wedding\n",
            "IS: Infinite Stratos 2 - Infinite Wedding\n",
            "IS: Infinite Stratos 2 - Infinite Wedding\n",
            "IS: Infinite Stratos 2 - Infinite Wedding\n",
            "IS: Infinite Stratos 2 - Infinite Wedding\n",
            "IS: Infinite Stratos 2 - Infinite Wedding\n",
            "IS: Infinite Stratos 2 - Infinite Wedding\n",
            "IS: Infinite Stratos 2 - Infinite Wedding\n",
            "IS: Infinite Stratos 2 - Infinite Wedding\n",
            "IS: Infinite Stratos 2 - Infinite Wedding\n",
            "IS: Infinite Stratos 2 - Infinite Wedding\n",
            "IS: Infinite Stratos 2 - Infinite Wedding\n",
            "IS: Infinite Stratos 2 - Infinite Wedding\n",
            "IS: Infinite Stratos 2 - Infinite Wedding\n",
            "IS: Infinite Stratos 2 - Infinite Wedding\n",
            "ViVid Strike!\n",
            "Metropolis (2009)\n",
            "Metropolis (2009)\n",
            "Match Shoujo\n",
            "Match Shoujo\n",
            "Katsudou Shashin\n",
            "Katsudou Shashin\n",
            "Katsudou Shashin\n",
            "Katsudou Shashin\n",
            "Katsudou Shashin\n",
            "Katsudou Shashin\n",
            "Katsudou Shashin\n",
            "Katsudou Shashin\n",
            "Yubi wo Nusunda Onna\n",
            "Yubi wo Nusunda Onna\n",
            "Kamakura\n",
            "Kamakura\n",
            "Kamakura\n",
            "Kamakura\n",
            "Modern No.2\n",
            "Modern No.2\n",
            "Modern No.2\n",
            "Modern No.2\n",
            "Modern No.2\n",
            "Modern No.2\n",
            "Modern No.2\n",
            "Modern No.2\n",
            "Coffee Break\n",
            "Coffee Break\n",
            "Maze\n",
            "Maze\n",
            "Mormorando\n",
            "Mormorando\n",
            "Mormorando\n",
            "Mormorando\n",
            "Mormorando\n",
            "Ari Ningen Monogatari\n",
            "Ari Ningen Monogatari\n",
            "Ari Ningen Monogatari\n",
            "Tsuru Shitae Waka Kan\n",
            "Tsuru Shitae Waka Kan\n",
            "Tsuru Shitae Waka Kan\n",
            "Tsuru Shitae Waka Kan\n",
            "Modern\n",
            "Fantasy\n",
            "Fantasy\n",
            "Fantasy\n",
            "Fantasy\n",
            "Fantasy\n",
            "Metamorphose\n",
            "Metamorphose\n",
            "Metamorphose\n",
            "Metamorphose\n",
            "Arigatou Gomennasai\n",
            "PiKA PiKA\n",
            "PiKA PiKA\n",
            "PiKA PiKA\n",
            "PiKA PiKA\n",
            "PiKA PiKA\n",
            "PiKA PiKA\n",
            "Zawazawa\n",
            "Zawazawa\n",
            "Zawazawa\n",
            "Zawazawa\n",
            "Zawazawa\n",
            "Kappo\n",
            "Kappo\n",
            "Kappo\n",
            "Kappo\n",
            "Kappo\n",
            "Kappo\n",
            "Kappo\n",
            "Count Down\n",
            "Count Down\n",
            "Blend\n",
            "Bunbuku Chagama (1958)\n",
            "Bunbuku Chagama (1958)\n",
            "Chanda Gou\n",
            "Chanda Gou\n",
            "Fukusuke\n",
            "Fukusuke\n",
            "Guitar\n",
            "Happy Bogeys\n",
            "Hokori Inu no Hanashi\n",
            "Holiday\n",
            "Ichi-gan Kuni\n",
            "Ikite Iru\n",
            "Kamigami no Ki\n",
            "Kankou Taisen Saitama: Sakuya no Tatakai\n",
            "Kappa no Ude\n",
            "Kappa no Ude\n",
            "Kemurigusa Monogatari\n",
            "Kobutori (1957)\n",
            "Kobutori (1957)\n",
            "Mabeob Chunjamun: Daemawangui Buhwaleul Magala\n",
            "Minamo\n",
            "Ou-sama Ninatta Kitsune\n",
            "Ou-sama Ninatta Kitsune\n",
            "PikkaPika Summer\n",
            "Scripta Volant\n",
            "Shinya Doubutsuen\n",
            "Suijun Genten\n",
            "Tokyo SOS\n",
            "Wareware no Heya\n",
            "Yaseruyagi\n",
            "Yuuyake Dandan\n",
            "Hand Shakers\n",
            "Charanpo Shima no Monogatari\n",
            "Finis\n",
            "Flying Babies\n",
            "Ganko-chan\n",
            "Genba no Joukitsune\n",
            "Kenka Banchou Otome: Girl Beats Boys\n",
            "Nil Admirari no Tenbin: Teito Genwaku Kitan\n",
            "One Room\n",
            "Room Mate: One Room Side M\n",
            "Seikaisuru Kado\n",
            "Tamagotchi Movie: Tanpen Himitsu no Otodoke Daisakusen!\n",
            "Tsukipro The Animation\n",
            "Yuyushiki Special\n",
            "Zunda Horizon\n"
          ],
          "name": "stdout"
        }
      ]
    },
    {
      "cell_type": "code",
      "metadata": {
        "id": "n8TEKwqAyn7x",
        "outputId": "4a335435-a0a8-4b45-f36e-f8106a55d67e",
        "colab": {
          "base_uri": "https://localhost:8080/"
        }
      },
      "source": [
        "anime_name"
      ],
      "execution_count": 49,
      "outputs": [
        {
          "output_type": "execute_result",
          "data": {
            "text/plain": [
              "['IS: Infinite Stratos 2 - Infinite Wedding',\n",
              " 'IS: Infinite Stratos 2 - Infinite Wedding',\n",
              " 'IS: Infinite Stratos 2 - Infinite Wedding',\n",
              " 'IS: Infinite Stratos 2 - Infinite Wedding',\n",
              " 'IS: Infinite Stratos 2 - Infinite Wedding',\n",
              " 'IS: Infinite Stratos 2 - Infinite Wedding',\n",
              " 'IS: Infinite Stratos 2 - Infinite Wedding',\n",
              " 'IS: Infinite Stratos 2 - Infinite Wedding',\n",
              " 'IS: Infinite Stratos 2 - Infinite Wedding',\n",
              " 'IS: Infinite Stratos 2 - Infinite Wedding',\n",
              " 'IS: Infinite Stratos 2 - Infinite Wedding',\n",
              " 'IS: Infinite Stratos 2 - Infinite Wedding',\n",
              " 'IS: Infinite Stratos 2 - Infinite Wedding',\n",
              " 'IS: Infinite Stratos 2 - Infinite Wedding',\n",
              " 'IS: Infinite Stratos 2 - Infinite Wedding',\n",
              " 'IS: Infinite Stratos 2 - Infinite Wedding',\n",
              " 'IS: Infinite Stratos 2 - Infinite Wedding',\n",
              " 'IS: Infinite Stratos 2 - Infinite Wedding',\n",
              " 'IS: Infinite Stratos 2 - Infinite Wedding',\n",
              " 'ViVid Strike!',\n",
              " 'Metropolis (2009)',\n",
              " 'Metropolis (2009)',\n",
              " 'Match Shoujo',\n",
              " 'Match Shoujo',\n",
              " 'Katsudou Shashin',\n",
              " 'Katsudou Shashin',\n",
              " 'Katsudou Shashin',\n",
              " 'Katsudou Shashin',\n",
              " 'Katsudou Shashin',\n",
              " 'Katsudou Shashin',\n",
              " 'Katsudou Shashin',\n",
              " 'Katsudou Shashin',\n",
              " 'Yubi wo Nusunda Onna',\n",
              " 'Yubi wo Nusunda Onna',\n",
              " 'Kamakura',\n",
              " 'Kamakura',\n",
              " 'Kamakura',\n",
              " 'Kamakura',\n",
              " 'Modern No.2',\n",
              " 'Modern No.2',\n",
              " 'Modern No.2',\n",
              " 'Modern No.2',\n",
              " 'Modern No.2',\n",
              " 'Modern No.2',\n",
              " 'Modern No.2',\n",
              " 'Modern No.2',\n",
              " 'Coffee Break',\n",
              " 'Coffee Break',\n",
              " 'Maze',\n",
              " 'Maze',\n",
              " 'Mormorando',\n",
              " 'Mormorando',\n",
              " 'Mormorando',\n",
              " 'Mormorando',\n",
              " 'Mormorando',\n",
              " 'Ari Ningen Monogatari',\n",
              " 'Ari Ningen Monogatari',\n",
              " 'Ari Ningen Monogatari',\n",
              " 'Tsuru Shitae Waka Kan',\n",
              " 'Tsuru Shitae Waka Kan',\n",
              " 'Tsuru Shitae Waka Kan',\n",
              " 'Tsuru Shitae Waka Kan',\n",
              " 'Modern',\n",
              " 'Fantasy',\n",
              " 'Fantasy',\n",
              " 'Fantasy',\n",
              " 'Fantasy',\n",
              " 'Fantasy',\n",
              " 'Metamorphose',\n",
              " 'Metamorphose',\n",
              " 'Metamorphose',\n",
              " 'Metamorphose',\n",
              " 'Arigatou Gomennasai',\n",
              " 'PiKA PiKA',\n",
              " 'PiKA PiKA',\n",
              " 'PiKA PiKA',\n",
              " 'PiKA PiKA',\n",
              " 'PiKA PiKA',\n",
              " 'PiKA PiKA',\n",
              " 'Zawazawa',\n",
              " 'Zawazawa',\n",
              " 'Zawazawa',\n",
              " 'Zawazawa',\n",
              " 'Zawazawa',\n",
              " 'Kappo',\n",
              " 'Kappo',\n",
              " 'Kappo',\n",
              " 'Kappo',\n",
              " 'Kappo',\n",
              " 'Kappo',\n",
              " 'Kappo',\n",
              " 'Count Down',\n",
              " 'Count Down',\n",
              " 'Blend',\n",
              " 'Bunbuku Chagama (1958)',\n",
              " 'Bunbuku Chagama (1958)',\n",
              " 'Chanda Gou',\n",
              " 'Chanda Gou',\n",
              " 'Fukusuke',\n",
              " 'Fukusuke',\n",
              " 'Guitar',\n",
              " 'Happy Bogeys',\n",
              " 'Hokori Inu no Hanashi',\n",
              " 'Holiday',\n",
              " 'Ichi-gan Kuni',\n",
              " 'Ikite Iru',\n",
              " 'Kamigami no Ki',\n",
              " 'Kankou Taisen Saitama: Sakuya no Tatakai',\n",
              " 'Kappa no Ude',\n",
              " 'Kappa no Ude',\n",
              " 'Kemurigusa Monogatari',\n",
              " 'Kobutori (1957)',\n",
              " 'Kobutori (1957)',\n",
              " 'Mabeob Chunjamun: Daemawangui Buhwaleul Magala',\n",
              " 'Minamo',\n",
              " 'Ou-sama Ninatta Kitsune',\n",
              " 'Ou-sama Ninatta Kitsune',\n",
              " 'PikkaPika Summer',\n",
              " 'Scripta Volant',\n",
              " 'Shinya Doubutsuen',\n",
              " 'Suijun Genten',\n",
              " 'Tokyo SOS',\n",
              " 'Wareware no Heya',\n",
              " 'Yaseruyagi',\n",
              " 'Yuuyake Dandan',\n",
              " 'Hand Shakers',\n",
              " 'Charanpo Shima no Monogatari',\n",
              " 'Finis',\n",
              " 'Flying Babies',\n",
              " 'Ganko-chan',\n",
              " 'Genba no Joukitsune',\n",
              " 'Kenka Banchou Otome: Girl Beats Boys',\n",
              " 'Nil Admirari no Tenbin: Teito Genwaku Kitan',\n",
              " 'One Room',\n",
              " 'Room Mate: One Room Side M',\n",
              " 'Seikaisuru Kado',\n",
              " 'Tamagotchi Movie: Tanpen Himitsu no Otodoke Daisakusen!',\n",
              " 'Tsukipro The Animation',\n",
              " 'Yuyushiki Special',\n",
              " 'Zunda Horizon']"
            ]
          },
          "metadata": {
            "tags": []
          },
          "execution_count": 49
        }
      ]
    },
    {
      "cell_type": "code",
      "metadata": {
        "id": "HHerVK-dus5c",
        "outputId": "ef3faee8-14fd-4ed1-8863-8f93825aeafb",
        "colab": {
          "base_uri": "https://localhost:8080/",
          "height": 402
        }
      },
      "source": [
        "anime_name_df = pd.DataFrame(anime_name)\n",
        "anime_name_df"
      ],
      "execution_count": 50,
      "outputs": [
        {
          "output_type": "execute_result",
          "data": {
            "text/html": [
              "<div>\n",
              "<style scoped>\n",
              "    .dataframe tbody tr th:only-of-type {\n",
              "        vertical-align: middle;\n",
              "    }\n",
              "\n",
              "    .dataframe tbody tr th {\n",
              "        vertical-align: top;\n",
              "    }\n",
              "\n",
              "    .dataframe thead th {\n",
              "        text-align: right;\n",
              "    }\n",
              "</style>\n",
              "<table border=\"1\" class=\"dataframe\">\n",
              "  <thead>\n",
              "    <tr style=\"text-align: right;\">\n",
              "      <th></th>\n",
              "      <th>0</th>\n",
              "    </tr>\n",
              "  </thead>\n",
              "  <tbody>\n",
              "    <tr>\n",
              "      <th>0</th>\n",
              "      <td>IS: Infinite Stratos 2 - Infinite Wedding</td>\n",
              "    </tr>\n",
              "    <tr>\n",
              "      <th>1</th>\n",
              "      <td>IS: Infinite Stratos 2 - Infinite Wedding</td>\n",
              "    </tr>\n",
              "    <tr>\n",
              "      <th>2</th>\n",
              "      <td>IS: Infinite Stratos 2 - Infinite Wedding</td>\n",
              "    </tr>\n",
              "    <tr>\n",
              "      <th>3</th>\n",
              "      <td>IS: Infinite Stratos 2 - Infinite Wedding</td>\n",
              "    </tr>\n",
              "    <tr>\n",
              "      <th>4</th>\n",
              "      <td>IS: Infinite Stratos 2 - Infinite Wedding</td>\n",
              "    </tr>\n",
              "    <tr>\n",
              "      <th>...</th>\n",
              "      <td>...</td>\n",
              "    </tr>\n",
              "    <tr>\n",
              "      <th>135</th>\n",
              "      <td>Seikaisuru Kado</td>\n",
              "    </tr>\n",
              "    <tr>\n",
              "      <th>136</th>\n",
              "      <td>Tamagotchi Movie: Tanpen Himitsu no Otodoke Da...</td>\n",
              "    </tr>\n",
              "    <tr>\n",
              "      <th>137</th>\n",
              "      <td>Tsukipro The Animation</td>\n",
              "    </tr>\n",
              "    <tr>\n",
              "      <th>138</th>\n",
              "      <td>Yuyushiki Special</td>\n",
              "    </tr>\n",
              "    <tr>\n",
              "      <th>139</th>\n",
              "      <td>Zunda Horizon</td>\n",
              "    </tr>\n",
              "  </tbody>\n",
              "</table>\n",
              "<p>140 rows × 1 columns</p>\n",
              "</div>"
            ],
            "text/plain": [
              "                                                     0\n",
              "0            IS: Infinite Stratos 2 - Infinite Wedding\n",
              "1            IS: Infinite Stratos 2 - Infinite Wedding\n",
              "2            IS: Infinite Stratos 2 - Infinite Wedding\n",
              "3            IS: Infinite Stratos 2 - Infinite Wedding\n",
              "4            IS: Infinite Stratos 2 - Infinite Wedding\n",
              "..                                                 ...\n",
              "135                                    Seikaisuru Kado\n",
              "136  Tamagotchi Movie: Tanpen Himitsu no Otodoke Da...\n",
              "137                             Tsukipro The Animation\n",
              "138                                  Yuyushiki Special\n",
              "139                                      Zunda Horizon\n",
              "\n",
              "[140 rows x 1 columns]"
            ]
          },
          "metadata": {
            "tags": []
          },
          "execution_count": 50
        }
      ]
    },
    {
      "cell_type": "code",
      "metadata": {
        "id": "T6mi6ER7xXjf",
        "outputId": "da055cb3-90ab-4698-9ccc-10fff5f4fe91",
        "colab": {
          "base_uri": "https://localhost:8080/",
          "height": 402
        }
      },
      "source": [
        "anime_name_df_un = anime_name_df.drop_duplicates()\n",
        "anime_name_df_un"
      ],
      "execution_count": 92,
      "outputs": [
        {
          "output_type": "execute_result",
          "data": {
            "text/html": [
              "<div>\n",
              "<style scoped>\n",
              "    .dataframe tbody tr th:only-of-type {\n",
              "        vertical-align: middle;\n",
              "    }\n",
              "\n",
              "    .dataframe tbody tr th {\n",
              "        vertical-align: top;\n",
              "    }\n",
              "\n",
              "    .dataframe thead th {\n",
              "        text-align: right;\n",
              "    }\n",
              "</style>\n",
              "<table border=\"1\" class=\"dataframe\">\n",
              "  <thead>\n",
              "    <tr style=\"text-align: right;\">\n",
              "      <th></th>\n",
              "      <th>0</th>\n",
              "    </tr>\n",
              "  </thead>\n",
              "  <tbody>\n",
              "    <tr>\n",
              "      <th>0</th>\n",
              "      <td>IS: Infinite Stratos 2 - Infinite Wedding</td>\n",
              "    </tr>\n",
              "    <tr>\n",
              "      <th>19</th>\n",
              "      <td>ViVid Strike!</td>\n",
              "    </tr>\n",
              "    <tr>\n",
              "      <th>20</th>\n",
              "      <td>Metropolis (2009)</td>\n",
              "    </tr>\n",
              "    <tr>\n",
              "      <th>22</th>\n",
              "      <td>Match Shoujo</td>\n",
              "    </tr>\n",
              "    <tr>\n",
              "      <th>24</th>\n",
              "      <td>Katsudou Shashin</td>\n",
              "    </tr>\n",
              "    <tr>\n",
              "      <th>...</th>\n",
              "      <td>...</td>\n",
              "    </tr>\n",
              "    <tr>\n",
              "      <th>135</th>\n",
              "      <td>Seikaisuru Kado</td>\n",
              "    </tr>\n",
              "    <tr>\n",
              "      <th>136</th>\n",
              "      <td>Tamagotchi Movie: Tanpen Himitsu no Otodoke Da...</td>\n",
              "    </tr>\n",
              "    <tr>\n",
              "      <th>137</th>\n",
              "      <td>Tsukipro The Animation</td>\n",
              "    </tr>\n",
              "    <tr>\n",
              "      <th>138</th>\n",
              "      <td>Yuyushiki Special</td>\n",
              "    </tr>\n",
              "    <tr>\n",
              "      <th>139</th>\n",
              "      <td>Zunda Horizon</td>\n",
              "    </tr>\n",
              "  </tbody>\n",
              "</table>\n",
              "<p>62 rows × 1 columns</p>\n",
              "</div>"
            ],
            "text/plain": [
              "                                                     0\n",
              "0            IS: Infinite Stratos 2 - Infinite Wedding\n",
              "19                                       ViVid Strike!\n",
              "20                                   Metropolis (2009)\n",
              "22                                        Match Shoujo\n",
              "24                                    Katsudou Shashin\n",
              "..                                                 ...\n",
              "135                                    Seikaisuru Kado\n",
              "136  Tamagotchi Movie: Tanpen Himitsu no Otodoke Da...\n",
              "137                             Tsukipro The Animation\n",
              "138                                  Yuyushiki Special\n",
              "139                                      Zunda Horizon\n",
              "\n",
              "[62 rows x 1 columns]"
            ]
          },
          "metadata": {
            "tags": []
          },
          "execution_count": 92
        }
      ]
    },
    {
      "cell_type": "markdown",
      "metadata": {
        "id": "umhBP9gYqsFU"
      },
      "source": [
        "## Drop missing value"
      ]
    },
    {
      "cell_type": "code",
      "metadata": {
        "id": "cqJsu5wJqCB3",
        "outputId": "2917b440-be4e-4003-956f-5f699e6c8d1a",
        "colab": {
          "base_uri": "https://localhost:8080/",
          "height": 402
        }
      },
      "source": [
        "merge_tb_dp = merge_tb.dropna()\n",
        "merge_tb_dp"
      ],
      "execution_count": 52,
      "outputs": [
        {
          "output_type": "execute_result",
          "data": {
            "text/html": [
              "<div>\n",
              "<style scoped>\n",
              "    .dataframe tbody tr th:only-of-type {\n",
              "        vertical-align: middle;\n",
              "    }\n",
              "\n",
              "    .dataframe tbody tr th {\n",
              "        vertical-align: top;\n",
              "    }\n",
              "\n",
              "    .dataframe thead th {\n",
              "        text-align: right;\n",
              "    }\n",
              "</style>\n",
              "<table border=\"1\" class=\"dataframe\">\n",
              "  <thead>\n",
              "    <tr style=\"text-align: right;\">\n",
              "      <th></th>\n",
              "      <th>anime_id</th>\n",
              "      <th>name</th>\n",
              "      <th>genre</th>\n",
              "      <th>type</th>\n",
              "      <th>episodes</th>\n",
              "      <th>rating_x</th>\n",
              "      <th>members</th>\n",
              "      <th>user_id</th>\n",
              "      <th>rating_y</th>\n",
              "    </tr>\n",
              "  </thead>\n",
              "  <tbody>\n",
              "    <tr>\n",
              "      <th>0</th>\n",
              "      <td>32281</td>\n",
              "      <td>Kimi no Na wa.</td>\n",
              "      <td>Drama, Romance, School, Supernatural</td>\n",
              "      <td>Movie</td>\n",
              "      <td>1</td>\n",
              "      <td>9.37</td>\n",
              "      <td>200630</td>\n",
              "      <td>99.0</td>\n",
              "      <td>5.0</td>\n",
              "    </tr>\n",
              "    <tr>\n",
              "      <th>1</th>\n",
              "      <td>32281</td>\n",
              "      <td>Kimi no Na wa.</td>\n",
              "      <td>Drama, Romance, School, Supernatural</td>\n",
              "      <td>Movie</td>\n",
              "      <td>1</td>\n",
              "      <td>9.37</td>\n",
              "      <td>200630</td>\n",
              "      <td>152.0</td>\n",
              "      <td>10.0</td>\n",
              "    </tr>\n",
              "    <tr>\n",
              "      <th>2</th>\n",
              "      <td>32281</td>\n",
              "      <td>Kimi no Na wa.</td>\n",
              "      <td>Drama, Romance, School, Supernatural</td>\n",
              "      <td>Movie</td>\n",
              "      <td>1</td>\n",
              "      <td>9.37</td>\n",
              "      <td>200630</td>\n",
              "      <td>244.0</td>\n",
              "      <td>10.0</td>\n",
              "    </tr>\n",
              "    <tr>\n",
              "      <th>3</th>\n",
              "      <td>32281</td>\n",
              "      <td>Kimi no Na wa.</td>\n",
              "      <td>Drama, Romance, School, Supernatural</td>\n",
              "      <td>Movie</td>\n",
              "      <td>1</td>\n",
              "      <td>9.37</td>\n",
              "      <td>200630</td>\n",
              "      <td>271.0</td>\n",
              "      <td>10.0</td>\n",
              "    </tr>\n",
              "    <tr>\n",
              "      <th>4</th>\n",
              "      <td>32281</td>\n",
              "      <td>Kimi no Na wa.</td>\n",
              "      <td>Drama, Romance, School, Supernatural</td>\n",
              "      <td>Movie</td>\n",
              "      <td>1</td>\n",
              "      <td>9.37</td>\n",
              "      <td>200630</td>\n",
              "      <td>278.0</td>\n",
              "      <td>-1.0</td>\n",
              "    </tr>\n",
              "    <tr>\n",
              "      <th>...</th>\n",
              "      <td>...</td>\n",
              "      <td>...</td>\n",
              "      <td>...</td>\n",
              "      <td>...</td>\n",
              "      <td>...</td>\n",
              "      <td>...</td>\n",
              "      <td>...</td>\n",
              "      <td>...</td>\n",
              "      <td>...</td>\n",
              "    </tr>\n",
              "    <tr>\n",
              "      <th>7814819</th>\n",
              "      <td>6133</td>\n",
              "      <td>Violence Gekiga Shin David no Hoshi: Inma Dens...</td>\n",
              "      <td>Hentai</td>\n",
              "      <td>OVA</td>\n",
              "      <td>1</td>\n",
              "      <td>4.98</td>\n",
              "      <td>175</td>\n",
              "      <td>39532.0</td>\n",
              "      <td>-1.0</td>\n",
              "    </tr>\n",
              "    <tr>\n",
              "      <th>7814820</th>\n",
              "      <td>6133</td>\n",
              "      <td>Violence Gekiga Shin David no Hoshi: Inma Dens...</td>\n",
              "      <td>Hentai</td>\n",
              "      <td>OVA</td>\n",
              "      <td>1</td>\n",
              "      <td>4.98</td>\n",
              "      <td>175</td>\n",
              "      <td>48766.0</td>\n",
              "      <td>-1.0</td>\n",
              "    </tr>\n",
              "    <tr>\n",
              "      <th>7814821</th>\n",
              "      <td>6133</td>\n",
              "      <td>Violence Gekiga Shin David no Hoshi: Inma Dens...</td>\n",
              "      <td>Hentai</td>\n",
              "      <td>OVA</td>\n",
              "      <td>1</td>\n",
              "      <td>4.98</td>\n",
              "      <td>175</td>\n",
              "      <td>60365.0</td>\n",
              "      <td>4.0</td>\n",
              "    </tr>\n",
              "    <tr>\n",
              "      <th>7814822</th>\n",
              "      <td>26081</td>\n",
              "      <td>Yasuji no Pornorama: Yacchimae!!</td>\n",
              "      <td>Hentai</td>\n",
              "      <td>Movie</td>\n",
              "      <td>1</td>\n",
              "      <td>5.46</td>\n",
              "      <td>142</td>\n",
              "      <td>27364.0</td>\n",
              "      <td>-1.0</td>\n",
              "    </tr>\n",
              "    <tr>\n",
              "      <th>7814823</th>\n",
              "      <td>26081</td>\n",
              "      <td>Yasuji no Pornorama: Yacchimae!!</td>\n",
              "      <td>Hentai</td>\n",
              "      <td>Movie</td>\n",
              "      <td>1</td>\n",
              "      <td>5.46</td>\n",
              "      <td>142</td>\n",
              "      <td>48766.0</td>\n",
              "      <td>-1.0</td>\n",
              "    </tr>\n",
              "  </tbody>\n",
              "</table>\n",
              "<p>7813611 rows × 9 columns</p>\n",
              "</div>"
            ],
            "text/plain": [
              "         anime_id  ... rating_y\n",
              "0           32281  ...      5.0\n",
              "1           32281  ...     10.0\n",
              "2           32281  ...     10.0\n",
              "3           32281  ...     10.0\n",
              "4           32281  ...     -1.0\n",
              "...           ...  ...      ...\n",
              "7814819      6133  ...     -1.0\n",
              "7814820      6133  ...     -1.0\n",
              "7814821      6133  ...      4.0\n",
              "7814822     26081  ...     -1.0\n",
              "7814823     26081  ...     -1.0\n",
              "\n",
              "[7813611 rows x 9 columns]"
            ]
          },
          "metadata": {
            "tags": []
          },
          "execution_count": 52
        }
      ]
    },
    {
      "cell_type": "code",
      "metadata": {
        "id": "mDXA0wbaq3ma",
        "outputId": "364ffca8-9a02-40da-f6e5-125ae2719567",
        "colab": {
          "base_uri": "https://localhost:8080/"
        }
      },
      "source": [
        "merge_tb_dp.isnull().any()"
      ],
      "execution_count": 53,
      "outputs": [
        {
          "output_type": "execute_result",
          "data": {
            "text/plain": [
              "anime_id    False\n",
              "name        False\n",
              "genre       False\n",
              "type        False\n",
              "episodes    False\n",
              "rating_x    False\n",
              "members     False\n",
              "user_id     False\n",
              "rating_y    False\n",
              "dtype: bool"
            ]
          },
          "metadata": {
            "tags": []
          },
          "execution_count": 53
        }
      ]
    },
    {
      "cell_type": "markdown",
      "metadata": {
        "id": "jx6U6uBKrS9p"
      },
      "source": [
        "## Percent of missing data from dropna"
      ]
    },
    {
      "cell_type": "code",
      "metadata": {
        "id": "sV0i1qrQ2QF-",
        "outputId": "0b72ddca-5aef-4358-b23d-51a53991934f",
        "colab": {
          "base_uri": "https://localhost:8080/"
        }
      },
      "source": [
        "size_before_drop = 7814824\n",
        "size_after_drop = 7813611\n",
        "print(f'size before drop = {size_before_drop} \\nsize after drop = {size_after_drop}\\nwhich is {100*((size_before_drop-size_after_drop)/size_before_drop)}')"
      ],
      "execution_count": 58,
      "outputs": [
        {
          "output_type": "stream",
          "text": [
            "size before drop = 7814824 \n",
            "size after drop = 7813611\n",
            "which is 0.015521782704255398\n"
          ],
          "name": "stdout"
        }
      ]
    },
    {
      "cell_type": "markdown",
      "metadata": {
        "id": "c5pL943tQrrJ"
      },
      "source": [
        "## Data Mining"
      ]
    },
    {
      "cell_type": "markdown",
      "metadata": {
        "id": "ee8tmg9e8Y3u"
      },
      "source": [
        "## Anime Reccomment rating over 5 "
      ]
    },
    {
      "cell_type": "code",
      "metadata": {
        "id": "xZTl8v4s7cux",
        "outputId": "14928780-760f-4b9c-86b3-a1edcd133673",
        "colab": {
          "base_uri": "https://localhost:8080/",
          "height": 402
        }
      },
      "source": [
        "rating_over5 = merge_tb_dp[merge_tb_dp['rating_y']>=5]\n",
        "rating_over5"
      ],
      "execution_count": 66,
      "outputs": [
        {
          "output_type": "execute_result",
          "data": {
            "text/html": [
              "<div>\n",
              "<style scoped>\n",
              "    .dataframe tbody tr th:only-of-type {\n",
              "        vertical-align: middle;\n",
              "    }\n",
              "\n",
              "    .dataframe tbody tr th {\n",
              "        vertical-align: top;\n",
              "    }\n",
              "\n",
              "    .dataframe thead th {\n",
              "        text-align: right;\n",
              "    }\n",
              "</style>\n",
              "<table border=\"1\" class=\"dataframe\">\n",
              "  <thead>\n",
              "    <tr style=\"text-align: right;\">\n",
              "      <th></th>\n",
              "      <th>anime_id</th>\n",
              "      <th>name</th>\n",
              "      <th>genre</th>\n",
              "      <th>type</th>\n",
              "      <th>episodes</th>\n",
              "      <th>rating_x</th>\n",
              "      <th>members</th>\n",
              "      <th>user_id</th>\n",
              "      <th>rating_y</th>\n",
              "    </tr>\n",
              "  </thead>\n",
              "  <tbody>\n",
              "    <tr>\n",
              "      <th>0</th>\n",
              "      <td>32281</td>\n",
              "      <td>Kimi no Na wa.</td>\n",
              "      <td>Drama, Romance, School, Supernatural</td>\n",
              "      <td>Movie</td>\n",
              "      <td>1</td>\n",
              "      <td>9.37</td>\n",
              "      <td>200630</td>\n",
              "      <td>99.0</td>\n",
              "      <td>5.0</td>\n",
              "    </tr>\n",
              "    <tr>\n",
              "      <th>1</th>\n",
              "      <td>32281</td>\n",
              "      <td>Kimi no Na wa.</td>\n",
              "      <td>Drama, Romance, School, Supernatural</td>\n",
              "      <td>Movie</td>\n",
              "      <td>1</td>\n",
              "      <td>9.37</td>\n",
              "      <td>200630</td>\n",
              "      <td>152.0</td>\n",
              "      <td>10.0</td>\n",
              "    </tr>\n",
              "    <tr>\n",
              "      <th>2</th>\n",
              "      <td>32281</td>\n",
              "      <td>Kimi no Na wa.</td>\n",
              "      <td>Drama, Romance, School, Supernatural</td>\n",
              "      <td>Movie</td>\n",
              "      <td>1</td>\n",
              "      <td>9.37</td>\n",
              "      <td>200630</td>\n",
              "      <td>244.0</td>\n",
              "      <td>10.0</td>\n",
              "    </tr>\n",
              "    <tr>\n",
              "      <th>3</th>\n",
              "      <td>32281</td>\n",
              "      <td>Kimi no Na wa.</td>\n",
              "      <td>Drama, Romance, School, Supernatural</td>\n",
              "      <td>Movie</td>\n",
              "      <td>1</td>\n",
              "      <td>9.37</td>\n",
              "      <td>200630</td>\n",
              "      <td>271.0</td>\n",
              "      <td>10.0</td>\n",
              "    </tr>\n",
              "    <tr>\n",
              "      <th>5</th>\n",
              "      <td>32281</td>\n",
              "      <td>Kimi no Na wa.</td>\n",
              "      <td>Drama, Romance, School, Supernatural</td>\n",
              "      <td>Movie</td>\n",
              "      <td>1</td>\n",
              "      <td>9.37</td>\n",
              "      <td>200630</td>\n",
              "      <td>322.0</td>\n",
              "      <td>10.0</td>\n",
              "    </tr>\n",
              "    <tr>\n",
              "      <th>...</th>\n",
              "      <td>...</td>\n",
              "      <td>...</td>\n",
              "      <td>...</td>\n",
              "      <td>...</td>\n",
              "      <td>...</td>\n",
              "      <td>...</td>\n",
              "      <td>...</td>\n",
              "      <td>...</td>\n",
              "      <td>...</td>\n",
              "    </tr>\n",
              "    <tr>\n",
              "      <th>7814797</th>\n",
              "      <td>10368</td>\n",
              "      <td>Teleclub no Himitsu</td>\n",
              "      <td>Hentai</td>\n",
              "      <td>OVA</td>\n",
              "      <td>2</td>\n",
              "      <td>4.67</td>\n",
              "      <td>148</td>\n",
              "      <td>65836.0</td>\n",
              "      <td>5.0</td>\n",
              "    </tr>\n",
              "    <tr>\n",
              "      <th>7814800</th>\n",
              "      <td>9352</td>\n",
              "      <td>Tenshi no Habataki Jun</td>\n",
              "      <td>Hentai</td>\n",
              "      <td>OVA</td>\n",
              "      <td>1</td>\n",
              "      <td>4.33</td>\n",
              "      <td>201</td>\n",
              "      <td>53698.0</td>\n",
              "      <td>6.0</td>\n",
              "    </tr>\n",
              "    <tr>\n",
              "      <th>7814801</th>\n",
              "      <td>9352</td>\n",
              "      <td>Tenshi no Habataki Jun</td>\n",
              "      <td>Hentai</td>\n",
              "      <td>OVA</td>\n",
              "      <td>1</td>\n",
              "      <td>4.33</td>\n",
              "      <td>201</td>\n",
              "      <td>60365.0</td>\n",
              "      <td>7.0</td>\n",
              "    </tr>\n",
              "    <tr>\n",
              "      <th>7814807</th>\n",
              "      <td>9316</td>\n",
              "      <td>Toushindai My Lover: Minami tai Mecha-Minami</td>\n",
              "      <td>Hentai</td>\n",
              "      <td>OVA</td>\n",
              "      <td>1</td>\n",
              "      <td>4.15</td>\n",
              "      <td>211</td>\n",
              "      <td>20171.0</td>\n",
              "      <td>7.0</td>\n",
              "    </tr>\n",
              "    <tr>\n",
              "      <th>7814817</th>\n",
              "      <td>5621</td>\n",
              "      <td>Violence Gekiga David no Hoshi</td>\n",
              "      <td>Hentai</td>\n",
              "      <td>OVA</td>\n",
              "      <td>4</td>\n",
              "      <td>4.88</td>\n",
              "      <td>219</td>\n",
              "      <td>49503.0</td>\n",
              "      <td>6.0</td>\n",
              "    </tr>\n",
              "  </tbody>\n",
              "</table>\n",
              "<p>6151650 rows × 9 columns</p>\n",
              "</div>"
            ],
            "text/plain": [
              "         anime_id  ... rating_y\n",
              "0           32281  ...      5.0\n",
              "1           32281  ...     10.0\n",
              "2           32281  ...     10.0\n",
              "3           32281  ...     10.0\n",
              "5           32281  ...     10.0\n",
              "...           ...  ...      ...\n",
              "7814797     10368  ...      5.0\n",
              "7814800      9352  ...      6.0\n",
              "7814801      9352  ...      7.0\n",
              "7814807      9316  ...      7.0\n",
              "7814817      5621  ...      6.0\n",
              "\n",
              "[6151650 rows x 9 columns]"
            ]
          },
          "metadata": {
            "tags": []
          },
          "execution_count": 66
        }
      ]
    },
    {
      "cell_type": "code",
      "metadata": {
        "id": "35OXbOlvy0OM",
        "colab": {
          "base_uri": "https://localhost:8080/"
        },
        "outputId": "aa9bfdfa-a5ea-4810-d540-00e75191745c"
      },
      "source": [
        "table = rating_over5.groupby('user_id')['name'].apply(list)\n",
        "table"
      ],
      "execution_count": 67,
      "outputs": [
        {
          "output_type": "execute_result",
          "data": {
            "text/plain": [
              "user_id\n",
              "1.0        [High School DxD New, Sword Art Online, High S...\n",
              "2.0                                       [Kuroko no Basket]\n",
              "3.0        [Fullmetal Alchemist: Brotherhood, Haikyuu!! S...\n",
              "5.0        [Steins;Gate, Gintama&#039;, Gintama Movie: Ka...\n",
              "7.0        [Hunter x Hunter (2011), Clannad: After Story,...\n",
              "                                 ...                        \n",
              "73512.0    [Sen to Chihiro no Kamikakushi, Nana, Ouran Ko...\n",
              "73513.0    [Sen to Chihiro no Kamikakushi, Cowboy Bebop, ...\n",
              "73514.0                                 [Majo no Takkyuubin]\n",
              "73515.0    [Fullmetal Alchemist: Brotherhood, Steins;Gate...\n",
              "73516.0                 [Ergo Proxy, Highschool of the Dead]\n",
              "Name: name, Length: 69540, dtype: object"
            ]
          },
          "metadata": {
            "tags": []
          },
          "execution_count": 67
        }
      ]
    },
    {
      "cell_type": "code",
      "metadata": {
        "id": "Xll5aN2hzCmg",
        "colab": {
          "base_uri": "https://localhost:8080/"
        },
        "outputId": "80eb861d-11b1-481b-be29-ad7c7bdf359c"
      },
      "source": [
        "!pip install apyori"
      ],
      "execution_count": 61,
      "outputs": [
        {
          "output_type": "stream",
          "text": [
            "Requirement already satisfied: apyori in /usr/local/lib/python3.6/dist-packages (1.1.2)\n"
          ],
          "name": "stdout"
        }
      ]
    },
    {
      "cell_type": "code",
      "metadata": {
        "id": "9J5uEPcfzcbD"
      },
      "source": [
        "from apyori import apriori"
      ],
      "execution_count": 62,
      "outputs": []
    },
    {
      "cell_type": "code",
      "metadata": {
        "id": "BKJ46XHAzfN2",
        "colab": {
          "base_uri": "https://localhost:8080/"
        },
        "outputId": "44f06898-4ae1-48ea-9cee-c338c59c4695"
      },
      "source": [
        "rec = list(apriori(table, min_support = 0.2 , min_confidence = 0.8))\n",
        "rec"
      ],
      "execution_count": 69,
      "outputs": [
        {
          "output_type": "execute_result",
          "data": {
            "text/plain": [
              "[RelationRecord(items=frozenset({'Clannad', 'Clannad: After Story'}), support=0.21065573770491802, ordered_statistics=[OrderedStatistic(items_base=frozenset({'Clannad: After Story'}), items_add=frozenset({'Clannad'}), confidence=0.9516045212420423, lift=3.5799068654136663)]),\n",
              " RelationRecord(items=frozenset({'Code Geass: Hangyaku no Lelouch', 'Code Geass: Hangyaku no Lelouch R2'}), support=0.29431981593327583, ordered_statistics=[OrderedStatistic(items_base=frozenset({'Code Geass: Hangyaku no Lelouch'}), items_add=frozenset({'Code Geass: Hangyaku no Lelouch R2'}), confidence=0.8529693686184623, lift=2.829262575422269), OrderedStatistic(items_base=frozenset({'Code Geass: Hangyaku no Lelouch R2'}), items_add=frozenset({'Code Geass: Hangyaku no Lelouch'}), confidence=0.9762461244932029, lift=2.8292625754222684)]),\n",
              " RelationRecord(items=frozenset({'Death Note', 'Code Geass: Hangyaku no Lelouch', 'Code Geass: Hangyaku no Lelouch R2'}), support=0.22492090882945068, ordered_statistics=[OrderedStatistic(items_base=frozenset({'Code Geass: Hangyaku no Lelouch', 'Death Note'}), items_add=frozenset({'Code Geass: Hangyaku no Lelouch R2'}), confidence=0.8779680044905979, lift=2.912181971489443), OrderedStatistic(items_base=frozenset({'Death Note', 'Code Geass: Hangyaku no Lelouch R2'}), items_add=frozenset({'Code Geass: Hangyaku no Lelouch'}), confidence=0.984763583705849, lift=2.8539470560910503)])]"
            ]
          },
          "metadata": {
            "tags": []
          },
          "execution_count": 69
        }
      ]
    },
    {
      "cell_type": "code",
      "metadata": {
        "id": "hfm3osM5BnWL",
        "outputId": "75182208-e6dd-483a-e457-0defafc47165",
        "colab": {
          "base_uri": "https://localhost:8080/",
          "height": 402
        }
      },
      "source": [
        "rating_under5 = merge_tb_dp[merge_tb_dp['rating_y']< 5]\n",
        "rating_under5"
      ],
      "execution_count": 77,
      "outputs": [
        {
          "output_type": "execute_result",
          "data": {
            "text/html": [
              "<div>\n",
              "<style scoped>\n",
              "    .dataframe tbody tr th:only-of-type {\n",
              "        vertical-align: middle;\n",
              "    }\n",
              "\n",
              "    .dataframe tbody tr th {\n",
              "        vertical-align: top;\n",
              "    }\n",
              "\n",
              "    .dataframe thead th {\n",
              "        text-align: right;\n",
              "    }\n",
              "</style>\n",
              "<table border=\"1\" class=\"dataframe\">\n",
              "  <thead>\n",
              "    <tr style=\"text-align: right;\">\n",
              "      <th></th>\n",
              "      <th>anime_id</th>\n",
              "      <th>name</th>\n",
              "      <th>genre</th>\n",
              "      <th>type</th>\n",
              "      <th>episodes</th>\n",
              "      <th>rating_x</th>\n",
              "      <th>members</th>\n",
              "      <th>user_id</th>\n",
              "      <th>rating_y</th>\n",
              "    </tr>\n",
              "  </thead>\n",
              "  <tbody>\n",
              "    <tr>\n",
              "      <th>4</th>\n",
              "      <td>32281</td>\n",
              "      <td>Kimi no Na wa.</td>\n",
              "      <td>Drama, Romance, School, Supernatural</td>\n",
              "      <td>Movie</td>\n",
              "      <td>1</td>\n",
              "      <td>9.37</td>\n",
              "      <td>200630</td>\n",
              "      <td>278.0</td>\n",
              "      <td>-1.0</td>\n",
              "    </tr>\n",
              "    <tr>\n",
              "      <th>13</th>\n",
              "      <td>32281</td>\n",
              "      <td>Kimi no Na wa.</td>\n",
              "      <td>Drama, Romance, School, Supernatural</td>\n",
              "      <td>Movie</td>\n",
              "      <td>1</td>\n",
              "      <td>9.37</td>\n",
              "      <td>200630</td>\n",
              "      <td>684.0</td>\n",
              "      <td>-1.0</td>\n",
              "    </tr>\n",
              "    <tr>\n",
              "      <th>18</th>\n",
              "      <td>32281</td>\n",
              "      <td>Kimi no Na wa.</td>\n",
              "      <td>Drama, Romance, School, Supernatural</td>\n",
              "      <td>Movie</td>\n",
              "      <td>1</td>\n",
              "      <td>9.37</td>\n",
              "      <td>200630</td>\n",
              "      <td>917.0</td>\n",
              "      <td>-1.0</td>\n",
              "    </tr>\n",
              "    <tr>\n",
              "      <th>29</th>\n",
              "      <td>32281</td>\n",
              "      <td>Kimi no Na wa.</td>\n",
              "      <td>Drama, Romance, School, Supernatural</td>\n",
              "      <td>Movie</td>\n",
              "      <td>1</td>\n",
              "      <td>9.37</td>\n",
              "      <td>200630</td>\n",
              "      <td>1133.0</td>\n",
              "      <td>-1.0</td>\n",
              "    </tr>\n",
              "    <tr>\n",
              "      <th>31</th>\n",
              "      <td>32281</td>\n",
              "      <td>Kimi no Na wa.</td>\n",
              "      <td>Drama, Romance, School, Supernatural</td>\n",
              "      <td>Movie</td>\n",
              "      <td>1</td>\n",
              "      <td>9.37</td>\n",
              "      <td>200630</td>\n",
              "      <td>1252.0</td>\n",
              "      <td>-1.0</td>\n",
              "    </tr>\n",
              "    <tr>\n",
              "      <th>...</th>\n",
              "      <td>...</td>\n",
              "      <td>...</td>\n",
              "      <td>...</td>\n",
              "      <td>...</td>\n",
              "      <td>...</td>\n",
              "      <td>...</td>\n",
              "      <td>...</td>\n",
              "      <td>...</td>\n",
              "      <td>...</td>\n",
              "    </tr>\n",
              "    <tr>\n",
              "      <th>7814819</th>\n",
              "      <td>6133</td>\n",
              "      <td>Violence Gekiga Shin David no Hoshi: Inma Dens...</td>\n",
              "      <td>Hentai</td>\n",
              "      <td>OVA</td>\n",
              "      <td>1</td>\n",
              "      <td>4.98</td>\n",
              "      <td>175</td>\n",
              "      <td>39532.0</td>\n",
              "      <td>-1.0</td>\n",
              "    </tr>\n",
              "    <tr>\n",
              "      <th>7814820</th>\n",
              "      <td>6133</td>\n",
              "      <td>Violence Gekiga Shin David no Hoshi: Inma Dens...</td>\n",
              "      <td>Hentai</td>\n",
              "      <td>OVA</td>\n",
              "      <td>1</td>\n",
              "      <td>4.98</td>\n",
              "      <td>175</td>\n",
              "      <td>48766.0</td>\n",
              "      <td>-1.0</td>\n",
              "    </tr>\n",
              "    <tr>\n",
              "      <th>7814821</th>\n",
              "      <td>6133</td>\n",
              "      <td>Violence Gekiga Shin David no Hoshi: Inma Dens...</td>\n",
              "      <td>Hentai</td>\n",
              "      <td>OVA</td>\n",
              "      <td>1</td>\n",
              "      <td>4.98</td>\n",
              "      <td>175</td>\n",
              "      <td>60365.0</td>\n",
              "      <td>4.0</td>\n",
              "    </tr>\n",
              "    <tr>\n",
              "      <th>7814822</th>\n",
              "      <td>26081</td>\n",
              "      <td>Yasuji no Pornorama: Yacchimae!!</td>\n",
              "      <td>Hentai</td>\n",
              "      <td>Movie</td>\n",
              "      <td>1</td>\n",
              "      <td>5.46</td>\n",
              "      <td>142</td>\n",
              "      <td>27364.0</td>\n",
              "      <td>-1.0</td>\n",
              "    </tr>\n",
              "    <tr>\n",
              "      <th>7814823</th>\n",
              "      <td>26081</td>\n",
              "      <td>Yasuji no Pornorama: Yacchimae!!</td>\n",
              "      <td>Hentai</td>\n",
              "      <td>Movie</td>\n",
              "      <td>1</td>\n",
              "      <td>5.46</td>\n",
              "      <td>142</td>\n",
              "      <td>48766.0</td>\n",
              "      <td>-1.0</td>\n",
              "    </tr>\n",
              "  </tbody>\n",
              "</table>\n",
              "<p>1661961 rows × 9 columns</p>\n",
              "</div>"
            ],
            "text/plain": [
              "         anime_id  ... rating_y\n",
              "4           32281  ...     -1.0\n",
              "13          32281  ...     -1.0\n",
              "18          32281  ...     -1.0\n",
              "29          32281  ...     -1.0\n",
              "31          32281  ...     -1.0\n",
              "...           ...  ...      ...\n",
              "7814819      6133  ...     -1.0\n",
              "7814820      6133  ...     -1.0\n",
              "7814821      6133  ...      4.0\n",
              "7814822     26081  ...     -1.0\n",
              "7814823     26081  ...     -1.0\n",
              "\n",
              "[1661961 rows x 9 columns]"
            ]
          },
          "metadata": {
            "tags": []
          },
          "execution_count": 77
        }
      ]
    },
    {
      "cell_type": "code",
      "metadata": {
        "id": "--HuGGYHDNkU",
        "outputId": "3463ab48-4055-4aba-a99d-d06eeefb7875",
        "colab": {
          "base_uri": "https://localhost:8080/"
        }
      },
      "source": [
        "table2 = rating_under5.groupby('user_id')['name'].apply(list)\n",
        "table2"
      ],
      "execution_count": 78,
      "outputs": [
        {
          "output_type": "execute_result",
          "data": {
            "text/plain": [
              "user_id\n",
              "1.0        [Tengen Toppa Gurren Lagann, Kiseijuu: Sei no ...\n",
              "2.0                                  [Hyouka, Tamako Market]\n",
              "3.0        [One Punch Man, Noragami Aragoto, Pokemon Best...\n",
              "4.0        [Death Note, Shingeki no Kyojin, Nichijou, Mag...\n",
              "5.0        [Death Note, No Game No Life, Toradora!, NHK n...\n",
              "                                 ...                        \n",
              "73505.0                                           [Hellsing]\n",
              "73507.0    [Shakugan no Shana, Fate/stay night Movie: Unl...\n",
              "73510.0                      [Sen to Chihiro no Kamikakushi]\n",
              "73512.0                                  [Shakugan no Shana]\n",
              "73515.0    [One Piece Movie 6: Omatsuri Danshaku to Himit...\n",
              "Name: name, Length: 49510, dtype: object"
            ]
          },
          "metadata": {
            "tags": []
          },
          "execution_count": 78
        }
      ]
    },
    {
      "cell_type": "code",
      "metadata": {
        "id": "qaMMZCEUDcIB",
        "outputId": "530281f0-0ea0-4993-e95d-47c244b2d24c",
        "colab": {
          "base_uri": "https://localhost:8080/"
        }
      },
      "source": [
        "watch = list(apriori(table2, min_support = 0.042 , min_confidence = 0.8))\n",
        "watch"
      ],
      "execution_count": 90,
      "outputs": [
        {
          "output_type": "execute_result",
          "data": {
            "text/plain": [
              "[RelationRecord(items=frozenset({'Code Geass: Hangyaku no Lelouch', 'Code Geass: Hangyaku no Lelouch R2'}), support=0.05645324176933953, ordered_statistics=[OrderedStatistic(items_base=frozenset({'Code Geass: Hangyaku no Lelouch R2'}), items_add=frozenset({'Code Geass: Hangyaku no Lelouch'}), confidence=0.8529142508391822, lift=11.345455281850592)]),\n",
              " RelationRecord(items=frozenset({'Vampire Knight', 'Vampire Knight Guilty'}), support=0.04211270450414058, ordered_statistics=[OrderedStatistic(items_base=frozenset({'Vampire Knight Guilty'}), items_add=frozenset({'Vampire Knight'}), confidence=0.8538083538083538, lift=13.684704304646033)])]"
            ]
          },
          "metadata": {
            "tags": []
          },
          "execution_count": 90
        }
      ]
    },
    {
      "cell_type": "markdown",
      "metadata": {
        "id": "G15BQ51k_JtW"
      },
      "source": [
        "## Summary"
      ]
    },
    {
      "cell_type": "markdown",
      "metadata": {
        "id": "4pgG3EVf_LVQ"
      },
      "source": [
        "### จากการทำ Association Rule ที่มี rating มากกว่า 5 คะแนน แล้ว จะเห็นได้ว่า \n",
        "### 1.คนมักจะดูอนิเมะเรื่อง Clannad: After Story แล้วไปดูอนิเมะเรื่อง Clannad ร้อยละ 95.16\n",
        "### 2.คนมักจะดูอนิเมะเรื่อง โค้ด กีอัส ภาคการปฏิวัติของลูลูช R2 แล้วไปดูอนิเมะเรื่อง Code Geass: Hangyaku no Lelouch ร้อยละ 97.62\n",
        "### จากการทำ Association Rule ที่มี rating น้อยกว่า 5 คะแนน แล้ว จะเห็นได้ว่า \n",
        "### 1.คนมักจะดูอนิเมะเรื่อง Code Geass: Hangyaku no Lelouch R2 แล้วไปดูอนิเมะเรื่อง Code Geass: Hangyaku no Lelouch ร้อยละ 85.29\n",
        "### 2.คนมักจะดูอนิเมะเรื่อง Vampire Knight Guilty แล้วไปดูอนิเมะเรื่อง Vampire Knight ร้อยละ 85.38"
      ]
    },
    {
      "cell_type": "markdown",
      "metadata": {
        "id": "nCIFdiv1AYHf"
      },
      "source": [
        "### ซึ่งเราสามารถนำไปจัดทำเป็นเพลย์ลิสอนิเมะได้ ทำให้คนเกิดความสนใจที่จะเข้าไปดูอนิเมะเรื่องต่อไปได้\n",
        "\n"
      ]
    },
    {
      "cell_type": "code",
      "metadata": {
        "id": "V3fy8a0FE4aX"
      },
      "source": [
        ""
      ],
      "execution_count": null,
      "outputs": []
    }
  ]
}